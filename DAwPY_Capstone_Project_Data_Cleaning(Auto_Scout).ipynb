{
 "cells": [
  {
   "cell_type": "markdown",
   "id": "511cfe2a",
   "metadata": {},
   "source": [
    "<p style=\"text-align: center;\"><img src=\"https://docs.google.com/uc?id=1lY0Uj5R04yMY3-ZppPWxqCr5pvBLYPnV\" class=\"img-fluid\" \n",
    "alt=\"CLRSWY\"></p>\n",
    "\n",
    "## <p style=\"background-color:#FDFEFE; font-family:newtimeroman; color:#9d4f8c; font-size:100%; text-align:center; border-radius:10px 10px;\">WAY TO REINVENT YOURSELF</p>\n",
    "\n",
    "<img src=https://i.ibb.co/b5xXg11/used-cars1.jpg width=\"1100\" height=\"100\">\n",
    "\n",
    "[Image Credit](https://myscriptneedshelp.com/2022/auto/buying-used-cars-in-tempe-is-easier-now/)\n",
    "\n",
    "## <p style=\"background-color:#FDFEFE; font-family:newtimeroman; color:#060108; font-size:200%; text-align:center; border-radius:10px 10px;\">The Capstone Project of Data Analytics Module</p>\n",
    "\n",
    "## <p style=\"background-color:#FDFEFE; font-family:newtimeroman; color:#060108; font-size:150%; text-align:center; border-radius:10px 10px;\">Car Price Prediction EDA</p>"
   ]
  },
  {
   "cell_type": "markdown",
   "id": "acd5a100",
   "metadata": {},
   "source": [
    "## Introduction\n",
    "Welcome to \"***AutoScout Data Analysis Project***\". This is the capstone project of ***Data Analysis*** Module. **Auto Scout** data which using for this project, scraped from the on-line car trading company in 2019, contains many features of 9 different car models. In this project, you will have the opportunity to apply many commonly used algorithms for Data Cleaning and Exploratory Data Analysis by using many Python libraries such as Numpy, Pandas, Matplotlib, Seaborn, Scipy you will analyze clean dataset.\n",
    "\n",
    "### Some Reminders on Exploratory data analysis (EDA)\n",
    "\n",
    "Exploratory data analysis (EDA) is an especially important activity in the routine of a data analyst or scientist. It enables an in depth understanding of the dataset, define or discard hypotheses and create predictive models on a solid basis. It uses data manipulation techniques and several statistical tools to describe and understand the relationship between variables and how these can impact business. By means of EDA, we can obtain meaningful insights that can impact analysis under the following questions (If a checklist is good enough for pilots to use every flight, it’s good enough for data scientists to use with every dataset).\n",
    "1. What question are you trying to solve (or prove wrong)?\n",
    "2. What kind of data do you have?\n",
    "3. What’s missing from the data?\n",
    "4. Where are the outliers?\n",
    "5. How can you add, change or remove features to get more out of your data?\n",
    "\n",
    "**``Exploratory data analysis (EDA)``** is often an **iterative brainstorming process** where you pose a question, review the data, and develop further questions to investigate before beginning model development work. The image below shows how the brainstorming phase is connected with that of understanding the variables and how this in turn is connected again with the brainstorming phase.<br>\n",
    "\n",
    "<img src=https://i.ibb.co/k0MC950/EDA-Process.png width=\"300\" height=\"100\">\n",
    "\n",
    "[Image Credit: Andrew D.](https://towardsdatascience.com/exploratory-data-analysis-in-python-a-step-by-step-process-d0dfa6bf94ee)\n",
    "\n",
    "**``In this context, the project consists of 3 parts in general:``**\n",
    "* **The first part** is related to 'Data Cleaning'. It deals with Incorrect Headers, Incorrect Format, Anomalies, and Dropping useless columns.\n",
    "* **The second part** is related to 'Filling Data', in other words 'Imputation'. It deals with Missing Values. Categorical to numeric transformation is done as well.\n",
    "* **The third part** is related to 'Handling Outliers of Data' via Visualization libraries. So, some insights will be extracted.\n",
    "\n",
    "**``NOTE:``**  However, you are free to create your own style. You do NOT have to stick to the steps above. Nevertheless, we, the DA & DV instructors, recommend you study each part separately to create a source notebook for your further studies. "
   ]
  },
  {
   "cell_type": "markdown",
   "id": "0c9580c9",
   "metadata": {},
   "source": [
    "# PART- 1 `( Data Cleaning )`"
   ]
  },
  {
   "cell_type": "code",
   "execution_count": 200,
   "id": "974d084e",
   "metadata": {},
   "outputs": [],
   "source": [
    "import numpy as np\n",
    "import pandas as pd\n",
    "import matplotlib.pyplot as plt\n",
    "import seaborn as sns\n",
    "import re\n",
    "\n",
    "import warnings\n",
    "warnings.filterwarnings(\"ignore\")\n",
    "warnings.warn(\"this will not show\")\n",
    "\n",
    "plt.rcParams[\"figure.figsize\"] = (10, 6)\n",
    "\n",
    "sns.set_style(\"whitegrid\")\n",
    "pd.set_option('display.float_format', lambda x: '%.3f' % x)\n",
    "\n",
    "# Set it None to display all rows in the dataframe\n",
    "# pd.set_option('display.max_rows', None)\n",
    "\n",
    "# Set it to None to display all columns in the dataframe\n",
    "#pd.set_option('display.max_columns', None)\n",
    "pd.options.display.max_rows = 100\n",
    "pd.options.display.max_columns = 100"
   ]
  },
  {
   "cell_type": "code",
   "execution_count": 201,
   "id": "5e363863",
   "metadata": {},
   "outputs": [],
   "source": [
    "df = pd.read_json('scout_car.json', lines=True)"
   ]
  },
  {
   "cell_type": "code",
   "execution_count": 202,
   "id": "71c21aa4",
   "metadata": {
    "scrolled": true
   },
   "outputs": [
    {
     "name": "stdout",
     "output_type": "stream",
     "text": [
      "<class 'pandas.core.frame.DataFrame'>\n",
      "RangeIndex: 15919 entries, 0 to 15918\n",
      "Data columns (total 54 columns):\n",
      " #   Column                         Non-Null Count  Dtype  \n",
      "---  ------                         --------------  -----  \n",
      " 0   url                            15919 non-null  object \n",
      " 1   make_model                     15919 non-null  object \n",
      " 2   short_description              15873 non-null  object \n",
      " 3   body_type                      15859 non-null  object \n",
      " 4   price                          15919 non-null  int64  \n",
      " 5   vat                            11406 non-null  object \n",
      " 6   km                             15919 non-null  object \n",
      " 7   registration                   15919 non-null  object \n",
      " 8   prev_owner                     9091 non-null   object \n",
      " 9   kW                             0 non-null      float64\n",
      " 10  hp                             15919 non-null  object \n",
      " 11  Type                           15917 non-null  object \n",
      " 12  Previous Owners                9279 non-null   object \n",
      " 13  Next Inspection                3535 non-null   object \n",
      " 14  Inspection new                 3932 non-null   object \n",
      " 15  Warranty                       10499 non-null  object \n",
      " 16  Full Service                   8215 non-null   object \n",
      " 17  Non-smoking Vehicle            7177 non-null   object \n",
      " 18  null                           15919 non-null  object \n",
      " 19  Make                           15919 non-null  object \n",
      " 20  Model                          15919 non-null  object \n",
      " 21  Offer Number                   12744 non-null  object \n",
      " 22  First Registration             14322 non-null  object \n",
      " 23  Body Color                     15322 non-null  object \n",
      " 24  Paint Type                     10147 non-null  object \n",
      " 25  Body Color Original            12160 non-null  object \n",
      " 26  Upholstery                     12199 non-null  object \n",
      " 27  Body                           15859 non-null  object \n",
      " 28  Nr. of Doors                   15707 non-null  object \n",
      " 29  Nr. of Seats                   14942 non-null  object \n",
      " 30  Model Code                     4978 non-null   object \n",
      " 31  Gearing Type                   15919 non-null  object \n",
      " 32  Displacement                   15423 non-null  object \n",
      " 33  Cylinders                      10239 non-null  object \n",
      " 34  Weight                         8945 non-null   object \n",
      " 35  Drive chain                    9061 non-null   object \n",
      " 36  Fuel                           15919 non-null  object \n",
      " 37  Consumption                    14013 non-null  object \n",
      " 38  CO2 Emission                   14111 non-null  object \n",
      " 39  Emission Class                 12898 non-null  object \n",
      " 40  \n",
      "Comfort & Convenience\n",
      "        14999 non-null  object \n",
      " 41  \n",
      "Entertainment & Media\n",
      "        14545 non-null  object \n",
      " 42  \n",
      "Extras\n",
      "                       12957 non-null  object \n",
      " 43  \n",
      "Safety & Security\n",
      "            14937 non-null  object \n",
      " 44  description                    15919 non-null  object \n",
      " 45  Emission Label                 3985 non-null   object \n",
      " 46  Gears                          11207 non-null  object \n",
      " 47  Country version                7586 non-null   object \n",
      " 48  Electricity consumption        137 non-null    object \n",
      " 49  Last Service Date              566 non-null    object \n",
      " 50  Other Fuel Types               880 non-null    object \n",
      " 51  Availability                   635 non-null    object \n",
      " 52  Last Timing Belt Service Date  16 non-null     object \n",
      " 53  Available from                 272 non-null    object \n",
      "dtypes: float64(1), int64(1), object(52)\n",
      "memory usage: 6.6+ MB\n"
     ]
    }
   ],
   "source": [
    "df.info()"
   ]
  },
  {
   "cell_type": "code",
   "execution_count": 203,
   "id": "a3f13886",
   "metadata": {},
   "outputs": [
    {
     "data": {
      "text/html": [
       "<div>\n",
       "<style scoped>\n",
       "    .dataframe tbody tr th:only-of-type {\n",
       "        vertical-align: middle;\n",
       "    }\n",
       "\n",
       "    .dataframe tbody tr th {\n",
       "        vertical-align: top;\n",
       "    }\n",
       "\n",
       "    .dataframe thead th {\n",
       "        text-align: right;\n",
       "    }\n",
       "</style>\n",
       "<table border=\"1\" class=\"dataframe\">\n",
       "  <thead>\n",
       "    <tr style=\"text-align: right;\">\n",
       "      <th></th>\n",
       "      <th>0</th>\n",
       "      <th>1</th>\n",
       "      <th>2</th>\n",
       "    </tr>\n",
       "  </thead>\n",
       "  <tbody>\n",
       "    <tr>\n",
       "      <th>url</th>\n",
       "      <td>https://www.autoscout24.com//offers/audi-a1-sp...</td>\n",
       "      <td>https://www.autoscout24.com//offers/audi-a1-1-...</td>\n",
       "      <td>https://www.autoscout24.com//offers/audi-a1-sp...</td>\n",
       "    </tr>\n",
       "    <tr>\n",
       "      <th>make_model</th>\n",
       "      <td>Audi A1</td>\n",
       "      <td>Audi A1</td>\n",
       "      <td>Audi A1</td>\n",
       "    </tr>\n",
       "    <tr>\n",
       "      <th>short_description</th>\n",
       "      <td>Sportback 1.4 TDI S-tronic Xenon Navi Klima</td>\n",
       "      <td>1.8 TFSI sport</td>\n",
       "      <td>Sportback 1.6 TDI S tronic Einparkhilfe plus+m...</td>\n",
       "    </tr>\n",
       "    <tr>\n",
       "      <th>body_type</th>\n",
       "      <td>Sedans</td>\n",
       "      <td>Sedans</td>\n",
       "      <td>Sedans</td>\n",
       "    </tr>\n",
       "    <tr>\n",
       "      <th>price</th>\n",
       "      <td>15770</td>\n",
       "      <td>14500</td>\n",
       "      <td>14640</td>\n",
       "    </tr>\n",
       "    <tr>\n",
       "      <th>vat</th>\n",
       "      <td>VAT deductible</td>\n",
       "      <td>Price negotiable</td>\n",
       "      <td>VAT deductible</td>\n",
       "    </tr>\n",
       "    <tr>\n",
       "      <th>km</th>\n",
       "      <td>56,013 km</td>\n",
       "      <td>80,000 km</td>\n",
       "      <td>83,450 km</td>\n",
       "    </tr>\n",
       "    <tr>\n",
       "      <th>registration</th>\n",
       "      <td>01/2016</td>\n",
       "      <td>03/2017</td>\n",
       "      <td>02/2016</td>\n",
       "    </tr>\n",
       "    <tr>\n",
       "      <th>prev_owner</th>\n",
       "      <td>2 previous owners</td>\n",
       "      <td>None</td>\n",
       "      <td>1 previous owner</td>\n",
       "    </tr>\n",
       "    <tr>\n",
       "      <th>kW</th>\n",
       "      <td>NaN</td>\n",
       "      <td>NaN</td>\n",
       "      <td>NaN</td>\n",
       "    </tr>\n",
       "    <tr>\n",
       "      <th>hp</th>\n",
       "      <td>66 kW</td>\n",
       "      <td>141 kW</td>\n",
       "      <td>85 kW</td>\n",
       "    </tr>\n",
       "    <tr>\n",
       "      <th>Type</th>\n",
       "      <td>[, Used, , Diesel (Particulate Filter)]</td>\n",
       "      <td>[, Used, , Gasoline]</td>\n",
       "      <td>[, Used, , Diesel (Particulate Filter)]</td>\n",
       "    </tr>\n",
       "    <tr>\n",
       "      <th>Previous Owners</th>\n",
       "      <td>\\n2\\n</td>\n",
       "      <td>NaN</td>\n",
       "      <td>\\n1\\n</td>\n",
       "    </tr>\n",
       "    <tr>\n",
       "      <th>Next Inspection</th>\n",
       "      <td>[\\n06/2021\\n, \\n99 g CO2/km (comb)\\n]</td>\n",
       "      <td>NaN</td>\n",
       "      <td>NaN</td>\n",
       "    </tr>\n",
       "    <tr>\n",
       "      <th>Inspection new</th>\n",
       "      <td>[\\nYes\\n, \\nEuro 6\\n]</td>\n",
       "      <td>NaN</td>\n",
       "      <td>NaN</td>\n",
       "    </tr>\n",
       "    <tr>\n",
       "      <th>Warranty</th>\n",
       "      <td>[\\n, \\n, \\n4 (Green)\\n]</td>\n",
       "      <td>NaN</td>\n",
       "      <td>[\\n, \\n, \\n99 g CO2/km (comb)\\n]</td>\n",
       "    </tr>\n",
       "    <tr>\n",
       "      <th>Full Service</th>\n",
       "      <td>[\\n, \\n]</td>\n",
       "      <td>NaN</td>\n",
       "      <td>NaN</td>\n",
       "    </tr>\n",
       "    <tr>\n",
       "      <th>Non-smoking Vehicle</th>\n",
       "      <td>[\\n, \\n]</td>\n",
       "      <td>NaN</td>\n",
       "      <td>NaN</td>\n",
       "    </tr>\n",
       "    <tr>\n",
       "      <th>null</th>\n",
       "      <td>[]</td>\n",
       "      <td>[]</td>\n",
       "      <td>[]</td>\n",
       "    </tr>\n",
       "    <tr>\n",
       "      <th>Make</th>\n",
       "      <td>\\nAudi\\n</td>\n",
       "      <td>\\nAudi\\n</td>\n",
       "      <td>\\nAudi\\n</td>\n",
       "    </tr>\n",
       "    <tr>\n",
       "      <th>Model</th>\n",
       "      <td>[\\n, A1, \\n]</td>\n",
       "      <td>[\\n, A1, \\n]</td>\n",
       "      <td>[\\n, A1, \\n]</td>\n",
       "    </tr>\n",
       "    <tr>\n",
       "      <th>Offer Number</th>\n",
       "      <td>[\\nLR-062483\\n]</td>\n",
       "      <td>NaN</td>\n",
       "      <td>[\\nAM-95365\\n]</td>\n",
       "    </tr>\n",
       "    <tr>\n",
       "      <th>First Registration</th>\n",
       "      <td>[\\n, 2016, \\n]</td>\n",
       "      <td>[\\n, 2017, \\n]</td>\n",
       "      <td>[\\n, 2016, \\n]</td>\n",
       "    </tr>\n",
       "    <tr>\n",
       "      <th>Body Color</th>\n",
       "      <td>[\\n, Black, \\n]</td>\n",
       "      <td>[\\n, Red, \\n]</td>\n",
       "      <td>[\\n, Black, \\n]</td>\n",
       "    </tr>\n",
       "    <tr>\n",
       "      <th>Paint Type</th>\n",
       "      <td>[\\nMetallic\\n]</td>\n",
       "      <td>NaN</td>\n",
       "      <td>[\\nMetallic\\n]</td>\n",
       "    </tr>\n",
       "    <tr>\n",
       "      <th>Body Color Original</th>\n",
       "      <td>[\\nMythosschwarz\\n]</td>\n",
       "      <td>NaN</td>\n",
       "      <td>[\\nmythosschwarz metallic\\n]</td>\n",
       "    </tr>\n",
       "    <tr>\n",
       "      <th>Upholstery</th>\n",
       "      <td>[\\nCloth, Black\\n]</td>\n",
       "      <td>[\\nCloth, Grey\\n]</td>\n",
       "      <td>[\\nCloth, Black\\n]</td>\n",
       "    </tr>\n",
       "    <tr>\n",
       "      <th>Body</th>\n",
       "      <td>[\\n, Sedans, \\n]</td>\n",
       "      <td>[\\n, Sedans, \\n]</td>\n",
       "      <td>[\\n, Sedans, \\n]</td>\n",
       "    </tr>\n",
       "    <tr>\n",
       "      <th>Nr. of Doors</th>\n",
       "      <td>[\\n5\\n]</td>\n",
       "      <td>[\\n3\\n]</td>\n",
       "      <td>[\\n4\\n]</td>\n",
       "    </tr>\n",
       "    <tr>\n",
       "      <th>Nr. of Seats</th>\n",
       "      <td>[\\n5\\n]</td>\n",
       "      <td>[\\n4\\n]</td>\n",
       "      <td>[\\n4\\n]</td>\n",
       "    </tr>\n",
       "    <tr>\n",
       "      <th>Model Code</th>\n",
       "      <td>[\\n0588/BDF\\n]</td>\n",
       "      <td>[\\n0588/BCY\\n]</td>\n",
       "      <td>NaN</td>\n",
       "    </tr>\n",
       "    <tr>\n",
       "      <th>Gearing Type</th>\n",
       "      <td>[\\n, Automatic, \\n]</td>\n",
       "      <td>[\\n, Automatic, \\n]</td>\n",
       "      <td>[\\n, Automatic, \\n]</td>\n",
       "    </tr>\n",
       "    <tr>\n",
       "      <th>Displacement</th>\n",
       "      <td>[\\n1,422 cc\\n]</td>\n",
       "      <td>[\\n1,798 cc\\n]</td>\n",
       "      <td>[\\n1,598 cc\\n]</td>\n",
       "    </tr>\n",
       "    <tr>\n",
       "      <th>Cylinders</th>\n",
       "      <td>[\\n3\\n]</td>\n",
       "      <td>[\\n4\\n]</td>\n",
       "      <td>NaN</td>\n",
       "    </tr>\n",
       "    <tr>\n",
       "      <th>Weight</th>\n",
       "      <td>[\\n1,220 kg\\n]</td>\n",
       "      <td>[\\n1,255 kg\\n]</td>\n",
       "      <td>NaN</td>\n",
       "    </tr>\n",
       "    <tr>\n",
       "      <th>Drive chain</th>\n",
       "      <td>[\\nfront\\n]</td>\n",
       "      <td>[\\nfront\\n]</td>\n",
       "      <td>[\\nfront\\n]</td>\n",
       "    </tr>\n",
       "    <tr>\n",
       "      <th>Fuel</th>\n",
       "      <td>[\\n, Diesel (Particulate Filter), \\n]</td>\n",
       "      <td>[\\n, Gasoline, \\n]</td>\n",
       "      <td>[\\n, Diesel (Particulate Filter), \\n]</td>\n",
       "    </tr>\n",
       "    <tr>\n",
       "      <th>Consumption</th>\n",
       "      <td>[[3.8 l/100 km (comb)], [4.3 l/100 km (city)],...</td>\n",
       "      <td>[[5.6 l/100 km (comb)], [7.1 l/100 km (city)],...</td>\n",
       "      <td>[[3.8 l/100 km (comb)], [4.4 l/100 km (city)],...</td>\n",
       "    </tr>\n",
       "    <tr>\n",
       "      <th>CO2 Emission</th>\n",
       "      <td>[\\n99 g CO2/km (comb)\\n]</td>\n",
       "      <td>[\\n129 g CO2/km (comb)\\n]</td>\n",
       "      <td>[\\n99 g CO2/km (comb)\\n]</td>\n",
       "    </tr>\n",
       "    <tr>\n",
       "      <th>Emission Class</th>\n",
       "      <td>[\\nEuro 6\\n]</td>\n",
       "      <td>[\\nEuro 6\\n]</td>\n",
       "      <td>[\\nEuro 6\\n]</td>\n",
       "    </tr>\n",
       "    <tr>\n",
       "      <th>\\nComfort &amp; Convenience\\n</th>\n",
       "      <td>[Air conditioning, Armrest, Automatic climate ...</td>\n",
       "      <td>[Air conditioning, Automatic climate control, ...</td>\n",
       "      <td>[Air conditioning, Cruise control, Electrical ...</td>\n",
       "    </tr>\n",
       "    <tr>\n",
       "      <th>\\nEntertainment &amp; Media\\n</th>\n",
       "      <td>[Bluetooth, Hands-free equipment, On-board com...</td>\n",
       "      <td>[Bluetooth, Hands-free equipment, On-board com...</td>\n",
       "      <td>[MP3, On-board computer]</td>\n",
       "    </tr>\n",
       "    <tr>\n",
       "      <th>\\nExtras\\n</th>\n",
       "      <td>[Alloy wheels, Catalytic Converter, Voice Cont...</td>\n",
       "      <td>[Alloy wheels, Sport seats, Sport suspension, ...</td>\n",
       "      <td>[Alloy wheels, Voice Control]</td>\n",
       "    </tr>\n",
       "    <tr>\n",
       "      <th>\\nSafety &amp; Security\\n</th>\n",
       "      <td>[ABS, Central door lock, Daytime running light...</td>\n",
       "      <td>[ABS, Central door lock, Central door lock wit...</td>\n",
       "      <td>[ABS, Central door lock, Daytime running light...</td>\n",
       "    </tr>\n",
       "    <tr>\n",
       "      <th>description</th>\n",
       "      <td>[\\n, Sicherheit:,  , Deaktivierung für Beifahr...</td>\n",
       "      <td>[\\nLangstreckenfahrzeug daher die hohe Kilomet...</td>\n",
       "      <td>[\\n, Fahrzeug-Nummer: AM-95365,  , Ehem. UPE 2...</td>\n",
       "    </tr>\n",
       "    <tr>\n",
       "      <th>Emission Label</th>\n",
       "      <td>NaN</td>\n",
       "      <td>[\\n4 (Green)\\n]</td>\n",
       "      <td>[\\n4 (Green)\\n]</td>\n",
       "    </tr>\n",
       "    <tr>\n",
       "      <th>Gears</th>\n",
       "      <td>NaN</td>\n",
       "      <td>[\\n7\\n]</td>\n",
       "      <td>NaN</td>\n",
       "    </tr>\n",
       "    <tr>\n",
       "      <th>Country version</th>\n",
       "      <td>NaN</td>\n",
       "      <td>NaN</td>\n",
       "      <td>NaN</td>\n",
       "    </tr>\n",
       "    <tr>\n",
       "      <th>Electricity consumption</th>\n",
       "      <td>NaN</td>\n",
       "      <td>NaN</td>\n",
       "      <td>NaN</td>\n",
       "    </tr>\n",
       "    <tr>\n",
       "      <th>Last Service Date</th>\n",
       "      <td>NaN</td>\n",
       "      <td>NaN</td>\n",
       "      <td>NaN</td>\n",
       "    </tr>\n",
       "    <tr>\n",
       "      <th>Other Fuel Types</th>\n",
       "      <td>NaN</td>\n",
       "      <td>NaN</td>\n",
       "      <td>NaN</td>\n",
       "    </tr>\n",
       "    <tr>\n",
       "      <th>Availability</th>\n",
       "      <td>NaN</td>\n",
       "      <td>NaN</td>\n",
       "      <td>NaN</td>\n",
       "    </tr>\n",
       "    <tr>\n",
       "      <th>Last Timing Belt Service Date</th>\n",
       "      <td>NaN</td>\n",
       "      <td>NaN</td>\n",
       "      <td>NaN</td>\n",
       "    </tr>\n",
       "    <tr>\n",
       "      <th>Available from</th>\n",
       "      <td>NaN</td>\n",
       "      <td>NaN</td>\n",
       "      <td>NaN</td>\n",
       "    </tr>\n",
       "  </tbody>\n",
       "</table>\n",
       "</div>"
      ],
      "text/plain": [
       "                                                                               0  \\\n",
       "url                            https://www.autoscout24.com//offers/audi-a1-sp...   \n",
       "make_model                                                               Audi A1   \n",
       "short_description                    Sportback 1.4 TDI S-tronic Xenon Navi Klima   \n",
       "body_type                                                                 Sedans   \n",
       "price                                                                      15770   \n",
       "vat                                                               VAT deductible   \n",
       "km                                                                     56,013 km   \n",
       "registration                                                             01/2016   \n",
       "prev_owner                                                     2 previous owners   \n",
       "kW                                                                           NaN   \n",
       "hp                                                                         66 kW   \n",
       "Type                                     [, Used, , Diesel (Particulate Filter)]   \n",
       "Previous Owners                                                            \\n2\\n   \n",
       "Next Inspection                            [\\n06/2021\\n, \\n99 g CO2/km (comb)\\n]   \n",
       "Inspection new                                             [\\nYes\\n, \\nEuro 6\\n]   \n",
       "Warranty                                                 [\\n, \\n, \\n4 (Green)\\n]   \n",
       "Full Service                                                            [\\n, \\n]   \n",
       "Non-smoking Vehicle                                                     [\\n, \\n]   \n",
       "null                                                                          []   \n",
       "Make                                                                    \\nAudi\\n   \n",
       "Model                                                               [\\n, A1, \\n]   \n",
       "Offer Number                                                     [\\nLR-062483\\n]   \n",
       "First Registration                                                [\\n, 2016, \\n]   \n",
       "Body Color                                                       [\\n, Black, \\n]   \n",
       "Paint Type                                                        [\\nMetallic\\n]   \n",
       "Body Color Original                                          [\\nMythosschwarz\\n]   \n",
       "Upholstery                                                    [\\nCloth, Black\\n]   \n",
       "Body                                                            [\\n, Sedans, \\n]   \n",
       "Nr. of Doors                                                             [\\n5\\n]   \n",
       "Nr. of Seats                                                             [\\n5\\n]   \n",
       "Model Code                                                        [\\n0588/BDF\\n]   \n",
       "Gearing Type                                                 [\\n, Automatic, \\n]   \n",
       "Displacement                                                      [\\n1,422 cc\\n]   \n",
       "Cylinders                                                                [\\n3\\n]   \n",
       "Weight                                                            [\\n1,220 kg\\n]   \n",
       "Drive chain                                                          [\\nfront\\n]   \n",
       "Fuel                                       [\\n, Diesel (Particulate Filter), \\n]   \n",
       "Consumption                    [[3.8 l/100 km (comb)], [4.3 l/100 km (city)],...   \n",
       "CO2 Emission                                            [\\n99 g CO2/km (comb)\\n]   \n",
       "Emission Class                                                      [\\nEuro 6\\n]   \n",
       "\\nComfort & Convenience\\n      [Air conditioning, Armrest, Automatic climate ...   \n",
       "\\nEntertainment & Media\\n      [Bluetooth, Hands-free equipment, On-board com...   \n",
       "\\nExtras\\n                     [Alloy wheels, Catalytic Converter, Voice Cont...   \n",
       "\\nSafety & Security\\n          [ABS, Central door lock, Daytime running light...   \n",
       "description                    [\\n, Sicherheit:,  , Deaktivierung für Beifahr...   \n",
       "Emission Label                                                               NaN   \n",
       "Gears                                                                        NaN   \n",
       "Country version                                                              NaN   \n",
       "Electricity consumption                                                      NaN   \n",
       "Last Service Date                                                            NaN   \n",
       "Other Fuel Types                                                             NaN   \n",
       "Availability                                                                 NaN   \n",
       "Last Timing Belt Service Date                                                NaN   \n",
       "Available from                                                               NaN   \n",
       "\n",
       "                                                                               1  \\\n",
       "url                            https://www.autoscout24.com//offers/audi-a1-1-...   \n",
       "make_model                                                               Audi A1   \n",
       "short_description                                                 1.8 TFSI sport   \n",
       "body_type                                                                 Sedans   \n",
       "price                                                                      14500   \n",
       "vat                                                             Price negotiable   \n",
       "km                                                                     80,000 km   \n",
       "registration                                                             03/2017   \n",
       "prev_owner                                                                  None   \n",
       "kW                                                                           NaN   \n",
       "hp                                                                        141 kW   \n",
       "Type                                                        [, Used, , Gasoline]   \n",
       "Previous Owners                                                              NaN   \n",
       "Next Inspection                                                              NaN   \n",
       "Inspection new                                                               NaN   \n",
       "Warranty                                                                     NaN   \n",
       "Full Service                                                                 NaN   \n",
       "Non-smoking Vehicle                                                          NaN   \n",
       "null                                                                          []   \n",
       "Make                                                                    \\nAudi\\n   \n",
       "Model                                                               [\\n, A1, \\n]   \n",
       "Offer Number                                                                 NaN   \n",
       "First Registration                                                [\\n, 2017, \\n]   \n",
       "Body Color                                                         [\\n, Red, \\n]   \n",
       "Paint Type                                                                   NaN   \n",
       "Body Color Original                                                          NaN   \n",
       "Upholstery                                                     [\\nCloth, Grey\\n]   \n",
       "Body                                                            [\\n, Sedans, \\n]   \n",
       "Nr. of Doors                                                             [\\n3\\n]   \n",
       "Nr. of Seats                                                             [\\n4\\n]   \n",
       "Model Code                                                        [\\n0588/BCY\\n]   \n",
       "Gearing Type                                                 [\\n, Automatic, \\n]   \n",
       "Displacement                                                      [\\n1,798 cc\\n]   \n",
       "Cylinders                                                                [\\n4\\n]   \n",
       "Weight                                                            [\\n1,255 kg\\n]   \n",
       "Drive chain                                                          [\\nfront\\n]   \n",
       "Fuel                                                          [\\n, Gasoline, \\n]   \n",
       "Consumption                    [[5.6 l/100 km (comb)], [7.1 l/100 km (city)],...   \n",
       "CO2 Emission                                           [\\n129 g CO2/km (comb)\\n]   \n",
       "Emission Class                                                      [\\nEuro 6\\n]   \n",
       "\\nComfort & Convenience\\n      [Air conditioning, Automatic climate control, ...   \n",
       "\\nEntertainment & Media\\n      [Bluetooth, Hands-free equipment, On-board com...   \n",
       "\\nExtras\\n                     [Alloy wheels, Sport seats, Sport suspension, ...   \n",
       "\\nSafety & Security\\n          [ABS, Central door lock, Central door lock wit...   \n",
       "description                    [\\nLangstreckenfahrzeug daher die hohe Kilomet...   \n",
       "Emission Label                                                   [\\n4 (Green)\\n]   \n",
       "Gears                                                                    [\\n7\\n]   \n",
       "Country version                                                              NaN   \n",
       "Electricity consumption                                                      NaN   \n",
       "Last Service Date                                                            NaN   \n",
       "Other Fuel Types                                                             NaN   \n",
       "Availability                                                                 NaN   \n",
       "Last Timing Belt Service Date                                                NaN   \n",
       "Available from                                                               NaN   \n",
       "\n",
       "                                                                               2  \n",
       "url                            https://www.autoscout24.com//offers/audi-a1-sp...  \n",
       "make_model                                                               Audi A1  \n",
       "short_description              Sportback 1.6 TDI S tronic Einparkhilfe plus+m...  \n",
       "body_type                                                                 Sedans  \n",
       "price                                                                      14640  \n",
       "vat                                                               VAT deductible  \n",
       "km                                                                     83,450 km  \n",
       "registration                                                             02/2016  \n",
       "prev_owner                                                      1 previous owner  \n",
       "kW                                                                           NaN  \n",
       "hp                                                                         85 kW  \n",
       "Type                                     [, Used, , Diesel (Particulate Filter)]  \n",
       "Previous Owners                                                            \\n1\\n  \n",
       "Next Inspection                                                              NaN  \n",
       "Inspection new                                                               NaN  \n",
       "Warranty                                        [\\n, \\n, \\n99 g CO2/km (comb)\\n]  \n",
       "Full Service                                                                 NaN  \n",
       "Non-smoking Vehicle                                                          NaN  \n",
       "null                                                                          []  \n",
       "Make                                                                    \\nAudi\\n  \n",
       "Model                                                               [\\n, A1, \\n]  \n",
       "Offer Number                                                      [\\nAM-95365\\n]  \n",
       "First Registration                                                [\\n, 2016, \\n]  \n",
       "Body Color                                                       [\\n, Black, \\n]  \n",
       "Paint Type                                                        [\\nMetallic\\n]  \n",
       "Body Color Original                                 [\\nmythosschwarz metallic\\n]  \n",
       "Upholstery                                                    [\\nCloth, Black\\n]  \n",
       "Body                                                            [\\n, Sedans, \\n]  \n",
       "Nr. of Doors                                                             [\\n4\\n]  \n",
       "Nr. of Seats                                                             [\\n4\\n]  \n",
       "Model Code                                                                   NaN  \n",
       "Gearing Type                                                 [\\n, Automatic, \\n]  \n",
       "Displacement                                                      [\\n1,598 cc\\n]  \n",
       "Cylinders                                                                    NaN  \n",
       "Weight                                                                       NaN  \n",
       "Drive chain                                                          [\\nfront\\n]  \n",
       "Fuel                                       [\\n, Diesel (Particulate Filter), \\n]  \n",
       "Consumption                    [[3.8 l/100 km (comb)], [4.4 l/100 km (city)],...  \n",
       "CO2 Emission                                            [\\n99 g CO2/km (comb)\\n]  \n",
       "Emission Class                                                      [\\nEuro 6\\n]  \n",
       "\\nComfort & Convenience\\n      [Air conditioning, Cruise control, Electrical ...  \n",
       "\\nEntertainment & Media\\n                               [MP3, On-board computer]  \n",
       "\\nExtras\\n                                         [Alloy wheels, Voice Control]  \n",
       "\\nSafety & Security\\n          [ABS, Central door lock, Daytime running light...  \n",
       "description                    [\\n, Fahrzeug-Nummer: AM-95365,  , Ehem. UPE 2...  \n",
       "Emission Label                                                   [\\n4 (Green)\\n]  \n",
       "Gears                                                                        NaN  \n",
       "Country version                                                              NaN  \n",
       "Electricity consumption                                                      NaN  \n",
       "Last Service Date                                                            NaN  \n",
       "Other Fuel Types                                                             NaN  \n",
       "Availability                                                                 NaN  \n",
       "Last Timing Belt Service Date                                                NaN  \n",
       "Available from                                                               NaN  "
      ]
     },
     "execution_count": 203,
     "metadata": {},
     "output_type": "execute_result"
    }
   ],
   "source": [
    "df.head(3).T"
   ]
  },
  {
   "cell_type": "code",
   "execution_count": 204,
   "id": "087ca0d3",
   "metadata": {},
   "outputs": [
    {
     "data": {
      "text/html": [
       "<div>\n",
       "<style scoped>\n",
       "    .dataframe tbody tr th:only-of-type {\n",
       "        vertical-align: middle;\n",
       "    }\n",
       "\n",
       "    .dataframe tbody tr th {\n",
       "        vertical-align: top;\n",
       "    }\n",
       "\n",
       "    .dataframe thead th {\n",
       "        text-align: right;\n",
       "    }\n",
       "</style>\n",
       "<table border=\"1\" class=\"dataframe\">\n",
       "  <thead>\n",
       "    <tr style=\"text-align: right;\">\n",
       "      <th></th>\n",
       "      <th>price</th>\n",
       "      <th>kW</th>\n",
       "    </tr>\n",
       "  </thead>\n",
       "  <tbody>\n",
       "    <tr>\n",
       "      <th>count</th>\n",
       "      <td>15919.000</td>\n",
       "      <td>0.000</td>\n",
       "    </tr>\n",
       "    <tr>\n",
       "      <th>mean</th>\n",
       "      <td>18019.897</td>\n",
       "      <td>NaN</td>\n",
       "    </tr>\n",
       "    <tr>\n",
       "      <th>std</th>\n",
       "      <td>7386.169</td>\n",
       "      <td>NaN</td>\n",
       "    </tr>\n",
       "    <tr>\n",
       "      <th>min</th>\n",
       "      <td>13.000</td>\n",
       "      <td>NaN</td>\n",
       "    </tr>\n",
       "    <tr>\n",
       "      <th>25%</th>\n",
       "      <td>12850.000</td>\n",
       "      <td>NaN</td>\n",
       "    </tr>\n",
       "    <tr>\n",
       "      <th>50%</th>\n",
       "      <td>16900.000</td>\n",
       "      <td>NaN</td>\n",
       "    </tr>\n",
       "    <tr>\n",
       "      <th>75%</th>\n",
       "      <td>21900.000</td>\n",
       "      <td>NaN</td>\n",
       "    </tr>\n",
       "    <tr>\n",
       "      <th>max</th>\n",
       "      <td>74600.000</td>\n",
       "      <td>NaN</td>\n",
       "    </tr>\n",
       "  </tbody>\n",
       "</table>\n",
       "</div>"
      ],
      "text/plain": [
       "          price    kW\n",
       "count 15919.000 0.000\n",
       "mean  18019.897   NaN\n",
       "std    7386.169   NaN\n",
       "min      13.000   NaN\n",
       "25%   12850.000   NaN\n",
       "50%   16900.000   NaN\n",
       "75%   21900.000   NaN\n",
       "max   74600.000   NaN"
      ]
     },
     "execution_count": 204,
     "metadata": {},
     "output_type": "execute_result"
    }
   ],
   "source": [
    "df.describe()"
   ]
  },
  {
   "cell_type": "code",
   "execution_count": 205,
   "id": "02152279",
   "metadata": {},
   "outputs": [
    {
     "data": {
      "text/html": [
       "<div>\n",
       "<style scoped>\n",
       "    .dataframe tbody tr th:only-of-type {\n",
       "        vertical-align: middle;\n",
       "    }\n",
       "\n",
       "    .dataframe tbody tr th {\n",
       "        vertical-align: top;\n",
       "    }\n",
       "\n",
       "    .dataframe thead th {\n",
       "        text-align: right;\n",
       "    }\n",
       "</style>\n",
       "<table border=\"1\" class=\"dataframe\">\n",
       "  <thead>\n",
       "    <tr style=\"text-align: right;\">\n",
       "      <th></th>\n",
       "      <th>count</th>\n",
       "      <th>unique</th>\n",
       "      <th>top</th>\n",
       "      <th>freq</th>\n",
       "    </tr>\n",
       "  </thead>\n",
       "  <tbody>\n",
       "    <tr>\n",
       "      <th>url</th>\n",
       "      <td>15919</td>\n",
       "      <td>15919</td>\n",
       "      <td>https://www.autoscout24.com//offers/audi-a1-sp...</td>\n",
       "      <td>1</td>\n",
       "    </tr>\n",
       "    <tr>\n",
       "      <th>make_model</th>\n",
       "      <td>15919</td>\n",
       "      <td>9</td>\n",
       "      <td>Audi A3</td>\n",
       "      <td>3097</td>\n",
       "    </tr>\n",
       "    <tr>\n",
       "      <th>short_description</th>\n",
       "      <td>15873</td>\n",
       "      <td>10001</td>\n",
       "      <td>SPB 1.6 TDI 116 CV S tronic Sport</td>\n",
       "      <td>64</td>\n",
       "    </tr>\n",
       "    <tr>\n",
       "      <th>body_type</th>\n",
       "      <td>15859</td>\n",
       "      <td>9</td>\n",
       "      <td>Sedans</td>\n",
       "      <td>7903</td>\n",
       "    </tr>\n",
       "    <tr>\n",
       "      <th>vat</th>\n",
       "      <td>11406</td>\n",
       "      <td>2</td>\n",
       "      <td>VAT deductible</td>\n",
       "      <td>10980</td>\n",
       "    </tr>\n",
       "    <tr>\n",
       "      <th>km</th>\n",
       "      <td>15919</td>\n",
       "      <td>6690</td>\n",
       "      <td>10 km</td>\n",
       "      <td>1045</td>\n",
       "    </tr>\n",
       "    <tr>\n",
       "      <th>registration</th>\n",
       "      <td>15919</td>\n",
       "      <td>48</td>\n",
       "      <td>-/-</td>\n",
       "      <td>1597</td>\n",
       "    </tr>\n",
       "    <tr>\n",
       "      <th>prev_owner</th>\n",
       "      <td>9091</td>\n",
       "      <td>4</td>\n",
       "      <td>1 previous owner</td>\n",
       "      <td>8294</td>\n",
       "    </tr>\n",
       "    <tr>\n",
       "      <th>hp</th>\n",
       "      <td>15919</td>\n",
       "      <td>81</td>\n",
       "      <td>85 kW</td>\n",
       "      <td>2542</td>\n",
       "    </tr>\n",
       "    <tr>\n",
       "      <th>Type</th>\n",
       "      <td>15917</td>\n",
       "      <td>169</td>\n",
       "      <td>[, Used, , Diesel (Particulate Filter)]</td>\n",
       "      <td>3475</td>\n",
       "    </tr>\n",
       "    <tr>\n",
       "      <th>Previous Owners</th>\n",
       "      <td>9279</td>\n",
       "      <td>102</td>\n",
       "      <td>\\n1\\n</td>\n",
       "      <td>8101</td>\n",
       "    </tr>\n",
       "    <tr>\n",
       "      <th>Next Inspection</th>\n",
       "      <td>3535</td>\n",
       "      <td>1399</td>\n",
       "      <td>\\n04/2022\\n</td>\n",
       "      <td>62</td>\n",
       "    </tr>\n",
       "    <tr>\n",
       "      <th>Inspection new</th>\n",
       "      <td>3932</td>\n",
       "      <td>202</td>\n",
       "      <td>[\\nYes\\n, \\nEuro 6\\n]</td>\n",
       "      <td>523</td>\n",
       "    </tr>\n",
       "    <tr>\n",
       "      <th>Warranty</th>\n",
       "      <td>10499</td>\n",
       "      <td>515</td>\n",
       "      <td>[\\n, \\n, \\nEuro 6\\n]</td>\n",
       "      <td>1868</td>\n",
       "    </tr>\n",
       "    <tr>\n",
       "      <th>Full Service</th>\n",
       "      <td>8215</td>\n",
       "      <td>122</td>\n",
       "      <td>[\\n, \\n, \\n4 (Green)\\n]</td>\n",
       "      <td>2235</td>\n",
       "    </tr>\n",
       "    <tr>\n",
       "      <th>Non-smoking Vehicle</th>\n",
       "      <td>7177</td>\n",
       "      <td>94</td>\n",
       "      <td>[\\n, \\n]</td>\n",
       "      <td>3647</td>\n",
       "    </tr>\n",
       "    <tr>\n",
       "      <th>null</th>\n",
       "      <td>15919</td>\n",
       "      <td>1</td>\n",
       "      <td>[]</td>\n",
       "      <td>15919</td>\n",
       "    </tr>\n",
       "    <tr>\n",
       "      <th>Make</th>\n",
       "      <td>15919</td>\n",
       "      <td>3</td>\n",
       "      <td>\\nOpel\\n</td>\n",
       "      <td>7343</td>\n",
       "    </tr>\n",
       "    <tr>\n",
       "      <th>Model</th>\n",
       "      <td>15919</td>\n",
       "      <td>9</td>\n",
       "      <td>[\\n, A3, \\n]</td>\n",
       "      <td>3097</td>\n",
       "    </tr>\n",
       "    <tr>\n",
       "      <th>Offer Number</th>\n",
       "      <td>12744</td>\n",
       "      <td>11440</td>\n",
       "      <td>[\\nLT67679\\n]</td>\n",
       "      <td>27</td>\n",
       "    </tr>\n",
       "    <tr>\n",
       "      <th>First Registration</th>\n",
       "      <td>14322</td>\n",
       "      <td>4</td>\n",
       "      <td>[\\n, 2018, \\n]</td>\n",
       "      <td>4522</td>\n",
       "    </tr>\n",
       "    <tr>\n",
       "      <th>Body Color</th>\n",
       "      <td>15322</td>\n",
       "      <td>14</td>\n",
       "      <td>[\\n, Black, \\n]</td>\n",
       "      <td>3745</td>\n",
       "    </tr>\n",
       "    <tr>\n",
       "      <th>Paint Type</th>\n",
       "      <td>10147</td>\n",
       "      <td>3</td>\n",
       "      <td>[\\nMetallic\\n]</td>\n",
       "      <td>9794</td>\n",
       "    </tr>\n",
       "    <tr>\n",
       "      <th>Body Color Original</th>\n",
       "      <td>12160</td>\n",
       "      <td>1927</td>\n",
       "      <td>[\\nOnyx Schwarz\\n]</td>\n",
       "      <td>338</td>\n",
       "    </tr>\n",
       "    <tr>\n",
       "      <th>Upholstery</th>\n",
       "      <td>12199</td>\n",
       "      <td>46</td>\n",
       "      <td>[\\nCloth, Black\\n]</td>\n",
       "      <td>5821</td>\n",
       "    </tr>\n",
       "    <tr>\n",
       "      <th>Body</th>\n",
       "      <td>15859</td>\n",
       "      <td>9</td>\n",
       "      <td>[\\n, Sedans, \\n]</td>\n",
       "      <td>7903</td>\n",
       "    </tr>\n",
       "    <tr>\n",
       "      <th>Nr. of Doors</th>\n",
       "      <td>15707</td>\n",
       "      <td>6</td>\n",
       "      <td>[\\n5\\n]</td>\n",
       "      <td>11575</td>\n",
       "    </tr>\n",
       "    <tr>\n",
       "      <th>Nr. of Seats</th>\n",
       "      <td>14942</td>\n",
       "      <td>6</td>\n",
       "      <td>[\\n5\\n]</td>\n",
       "      <td>13336</td>\n",
       "    </tr>\n",
       "    <tr>\n",
       "      <th>Model Code</th>\n",
       "      <td>4978</td>\n",
       "      <td>232</td>\n",
       "      <td>[\\n0035/BCB\\n]</td>\n",
       "      <td>268</td>\n",
       "    </tr>\n",
       "    <tr>\n",
       "      <th>Gearing Type</th>\n",
       "      <td>15919</td>\n",
       "      <td>3</td>\n",
       "      <td>[\\n, Manual, \\n]</td>\n",
       "      <td>8153</td>\n",
       "    </tr>\n",
       "    <tr>\n",
       "      <th>Displacement</th>\n",
       "      <td>15423</td>\n",
       "      <td>77</td>\n",
       "      <td>[\\n1,598 cc\\n]</td>\n",
       "      <td>4761</td>\n",
       "    </tr>\n",
       "    <tr>\n",
       "      <th>Cylinders</th>\n",
       "      <td>10239</td>\n",
       "      <td>7</td>\n",
       "      <td>[\\n4\\n]</td>\n",
       "      <td>8105</td>\n",
       "    </tr>\n",
       "    <tr>\n",
       "      <th>Weight</th>\n",
       "      <td>8945</td>\n",
       "      <td>434</td>\n",
       "      <td>[\\n1,163 kg\\n]</td>\n",
       "      <td>574</td>\n",
       "    </tr>\n",
       "    <tr>\n",
       "      <th>Drive chain</th>\n",
       "      <td>9061</td>\n",
       "      <td>3</td>\n",
       "      <td>[\\nfront\\n]</td>\n",
       "      <td>8886</td>\n",
       "    </tr>\n",
       "    <tr>\n",
       "      <th>Fuel</th>\n",
       "      <td>15919</td>\n",
       "      <td>77</td>\n",
       "      <td>[\\n, Diesel (Particulate Filter), \\n]</td>\n",
       "      <td>4315</td>\n",
       "    </tr>\n",
       "    <tr>\n",
       "      <th>Consumption</th>\n",
       "      <td>14013</td>\n",
       "      <td>881</td>\n",
       "      <td>[[3.9 l/100 km (comb)], [4.1 l/100 km (city)],...</td>\n",
       "      <td>304</td>\n",
       "    </tr>\n",
       "    <tr>\n",
       "      <th>CO2 Emission</th>\n",
       "      <td>14111</td>\n",
       "      <td>123</td>\n",
       "      <td>[\\n120 g CO2/km (comb)\\n]</td>\n",
       "      <td>740</td>\n",
       "    </tr>\n",
       "    <tr>\n",
       "      <th>Emission Class</th>\n",
       "      <td>12898</td>\n",
       "      <td>7</td>\n",
       "      <td>[\\nEuro 6\\n]</td>\n",
       "      <td>10139</td>\n",
       "    </tr>\n",
       "    <tr>\n",
       "      <th>\\nComfort &amp; Convenience\\n</th>\n",
       "      <td>14999</td>\n",
       "      <td>6198</td>\n",
       "      <td>[Air conditioning, Electrical side mirrors, Hi...</td>\n",
       "      <td>216</td>\n",
       "    </tr>\n",
       "    <tr>\n",
       "      <th>\\nEntertainment &amp; Media\\n</th>\n",
       "      <td>14545</td>\n",
       "      <td>346</td>\n",
       "      <td>[Bluetooth, Hands-free equipment, On-board com...</td>\n",
       "      <td>1282</td>\n",
       "    </tr>\n",
       "    <tr>\n",
       "      <th>\\nExtras\\n</th>\n",
       "      <td>12957</td>\n",
       "      <td>659</td>\n",
       "      <td>[Alloy wheels]</td>\n",
       "      <td>3245</td>\n",
       "    </tr>\n",
       "    <tr>\n",
       "      <th>\\nSafety &amp; Security\\n</th>\n",
       "      <td>14937</td>\n",
       "      <td>4443</td>\n",
       "      <td>[ABS, Central door lock, Daytime running light...</td>\n",
       "      <td>538</td>\n",
       "    </tr>\n",
       "    <tr>\n",
       "      <th>description</th>\n",
       "      <td>15919</td>\n",
       "      <td>12874</td>\n",
       "      <td>[]</td>\n",
       "      <td>636</td>\n",
       "    </tr>\n",
       "    <tr>\n",
       "      <th>Emission Label</th>\n",
       "      <td>3985</td>\n",
       "      <td>6</td>\n",
       "      <td>[\\n4 (Green)\\n]</td>\n",
       "      <td>3553</td>\n",
       "    </tr>\n",
       "    <tr>\n",
       "      <th>Gears</th>\n",
       "      <td>11207</td>\n",
       "      <td>10</td>\n",
       "      <td>[\\n6\\n]</td>\n",
       "      <td>5822</td>\n",
       "    </tr>\n",
       "    <tr>\n",
       "      <th>Country version</th>\n",
       "      <td>7586</td>\n",
       "      <td>23</td>\n",
       "      <td>[\\nGermany\\n]</td>\n",
       "      <td>4502</td>\n",
       "    </tr>\n",
       "    <tr>\n",
       "      <th>Electricity consumption</th>\n",
       "      <td>137</td>\n",
       "      <td>1</td>\n",
       "      <td>[\\n0 kWh/100 km (comb)\\n]</td>\n",
       "      <td>137</td>\n",
       "    </tr>\n",
       "    <tr>\n",
       "      <th>Last Service Date</th>\n",
       "      <td>566</td>\n",
       "      <td>266</td>\n",
       "      <td>[\\n02/2019\\n, \\nEuro 6\\n]</td>\n",
       "      <td>23</td>\n",
       "    </tr>\n",
       "    <tr>\n",
       "      <th>Other Fuel Types</th>\n",
       "      <td>880</td>\n",
       "      <td>1</td>\n",
       "      <td>[[], [], []]</td>\n",
       "      <td>880</td>\n",
       "    </tr>\n",
       "    <tr>\n",
       "      <th>Availability</th>\n",
       "      <td>635</td>\n",
       "      <td>15</td>\n",
       "      <td>\\nin 90 days from ordering\\n</td>\n",
       "      <td>196</td>\n",
       "    </tr>\n",
       "    <tr>\n",
       "      <th>Last Timing Belt Service Date</th>\n",
       "      <td>16</td>\n",
       "      <td>15</td>\n",
       "      <td>[\\n04/2016\\n]</td>\n",
       "      <td>2</td>\n",
       "    </tr>\n",
       "    <tr>\n",
       "      <th>Available from</th>\n",
       "      <td>272</td>\n",
       "      <td>46</td>\n",
       "      <td>\\n31/08/19\\n</td>\n",
       "      <td>98</td>\n",
       "    </tr>\n",
       "  </tbody>\n",
       "</table>\n",
       "</div>"
      ],
      "text/plain": [
       "                               count unique  \\\n",
       "url                            15919  15919   \n",
       "make_model                     15919      9   \n",
       "short_description              15873  10001   \n",
       "body_type                      15859      9   \n",
       "vat                            11406      2   \n",
       "km                             15919   6690   \n",
       "registration                   15919     48   \n",
       "prev_owner                      9091      4   \n",
       "hp                             15919     81   \n",
       "Type                           15917    169   \n",
       "Previous Owners                 9279    102   \n",
       "Next Inspection                 3535   1399   \n",
       "Inspection new                  3932    202   \n",
       "Warranty                       10499    515   \n",
       "Full Service                    8215    122   \n",
       "Non-smoking Vehicle             7177     94   \n",
       "null                           15919      1   \n",
       "Make                           15919      3   \n",
       "Model                          15919      9   \n",
       "Offer Number                   12744  11440   \n",
       "First Registration             14322      4   \n",
       "Body Color                     15322     14   \n",
       "Paint Type                     10147      3   \n",
       "Body Color Original            12160   1927   \n",
       "Upholstery                     12199     46   \n",
       "Body                           15859      9   \n",
       "Nr. of Doors                   15707      6   \n",
       "Nr. of Seats                   14942      6   \n",
       "Model Code                      4978    232   \n",
       "Gearing Type                   15919      3   \n",
       "Displacement                   15423     77   \n",
       "Cylinders                      10239      7   \n",
       "Weight                          8945    434   \n",
       "Drive chain                     9061      3   \n",
       "Fuel                           15919     77   \n",
       "Consumption                    14013    881   \n",
       "CO2 Emission                   14111    123   \n",
       "Emission Class                 12898      7   \n",
       "\\nComfort & Convenience\\n      14999   6198   \n",
       "\\nEntertainment & Media\\n      14545    346   \n",
       "\\nExtras\\n                     12957    659   \n",
       "\\nSafety & Security\\n          14937   4443   \n",
       "description                    15919  12874   \n",
       "Emission Label                  3985      6   \n",
       "Gears                          11207     10   \n",
       "Country version                 7586     23   \n",
       "Electricity consumption          137      1   \n",
       "Last Service Date                566    266   \n",
       "Other Fuel Types                 880      1   \n",
       "Availability                     635     15   \n",
       "Last Timing Belt Service Date     16     15   \n",
       "Available from                   272     46   \n",
       "\n",
       "                                                                             top  \\\n",
       "url                            https://www.autoscout24.com//offers/audi-a1-sp...   \n",
       "make_model                                                               Audi A3   \n",
       "short_description                              SPB 1.6 TDI 116 CV S tronic Sport   \n",
       "body_type                                                                 Sedans   \n",
       "vat                                                               VAT deductible   \n",
       "km                                                                         10 km   \n",
       "registration                                                                 -/-   \n",
       "prev_owner                                                      1 previous owner   \n",
       "hp                                                                         85 kW   \n",
       "Type                                     [, Used, , Diesel (Particulate Filter)]   \n",
       "Previous Owners                                                            \\n1\\n   \n",
       "Next Inspection                                                      \\n04/2022\\n   \n",
       "Inspection new                                             [\\nYes\\n, \\nEuro 6\\n]   \n",
       "Warranty                                                    [\\n, \\n, \\nEuro 6\\n]   \n",
       "Full Service                                             [\\n, \\n, \\n4 (Green)\\n]   \n",
       "Non-smoking Vehicle                                                     [\\n, \\n]   \n",
       "null                                                                          []   \n",
       "Make                                                                    \\nOpel\\n   \n",
       "Model                                                               [\\n, A3, \\n]   \n",
       "Offer Number                                                       [\\nLT67679\\n]   \n",
       "First Registration                                                [\\n, 2018, \\n]   \n",
       "Body Color                                                       [\\n, Black, \\n]   \n",
       "Paint Type                                                        [\\nMetallic\\n]   \n",
       "Body Color Original                                           [\\nOnyx Schwarz\\n]   \n",
       "Upholstery                                                    [\\nCloth, Black\\n]   \n",
       "Body                                                            [\\n, Sedans, \\n]   \n",
       "Nr. of Doors                                                             [\\n5\\n]   \n",
       "Nr. of Seats                                                             [\\n5\\n]   \n",
       "Model Code                                                        [\\n0035/BCB\\n]   \n",
       "Gearing Type                                                    [\\n, Manual, \\n]   \n",
       "Displacement                                                      [\\n1,598 cc\\n]   \n",
       "Cylinders                                                                [\\n4\\n]   \n",
       "Weight                                                            [\\n1,163 kg\\n]   \n",
       "Drive chain                                                          [\\nfront\\n]   \n",
       "Fuel                                       [\\n, Diesel (Particulate Filter), \\n]   \n",
       "Consumption                    [[3.9 l/100 km (comb)], [4.1 l/100 km (city)],...   \n",
       "CO2 Emission                                           [\\n120 g CO2/km (comb)\\n]   \n",
       "Emission Class                                                      [\\nEuro 6\\n]   \n",
       "\\nComfort & Convenience\\n      [Air conditioning, Electrical side mirrors, Hi...   \n",
       "\\nEntertainment & Media\\n      [Bluetooth, Hands-free equipment, On-board com...   \n",
       "\\nExtras\\n                                                        [Alloy wheels]   \n",
       "\\nSafety & Security\\n          [ABS, Central door lock, Daytime running light...   \n",
       "description                                                                   []   \n",
       "Emission Label                                                   [\\n4 (Green)\\n]   \n",
       "Gears                                                                    [\\n6\\n]   \n",
       "Country version                                                    [\\nGermany\\n]   \n",
       "Electricity consumption                                [\\n0 kWh/100 km (comb)\\n]   \n",
       "Last Service Date                                      [\\n02/2019\\n, \\nEuro 6\\n]   \n",
       "Other Fuel Types                                                    [[], [], []]   \n",
       "Availability                                        \\nin 90 days from ordering\\n   \n",
       "Last Timing Belt Service Date                                      [\\n04/2016\\n]   \n",
       "Available from                                                      \\n31/08/19\\n   \n",
       "\n",
       "                                freq  \n",
       "url                                1  \n",
       "make_model                      3097  \n",
       "short_description                 64  \n",
       "body_type                       7903  \n",
       "vat                            10980  \n",
       "km                              1045  \n",
       "registration                    1597  \n",
       "prev_owner                      8294  \n",
       "hp                              2542  \n",
       "Type                            3475  \n",
       "Previous Owners                 8101  \n",
       "Next Inspection                   62  \n",
       "Inspection new                   523  \n",
       "Warranty                        1868  \n",
       "Full Service                    2235  \n",
       "Non-smoking Vehicle             3647  \n",
       "null                           15919  \n",
       "Make                            7343  \n",
       "Model                           3097  \n",
       "Offer Number                      27  \n",
       "First Registration              4522  \n",
       "Body Color                      3745  \n",
       "Paint Type                      9794  \n",
       "Body Color Original              338  \n",
       "Upholstery                      5821  \n",
       "Body                            7903  \n",
       "Nr. of Doors                   11575  \n",
       "Nr. of Seats                   13336  \n",
       "Model Code                       268  \n",
       "Gearing Type                    8153  \n",
       "Displacement                    4761  \n",
       "Cylinders                       8105  \n",
       "Weight                           574  \n",
       "Drive chain                     8886  \n",
       "Fuel                            4315  \n",
       "Consumption                      304  \n",
       "CO2 Emission                     740  \n",
       "Emission Class                 10139  \n",
       "\\nComfort & Convenience\\n        216  \n",
       "\\nEntertainment & Media\\n       1282  \n",
       "\\nExtras\\n                      3245  \n",
       "\\nSafety & Security\\n            538  \n",
       "description                      636  \n",
       "Emission Label                  3553  \n",
       "Gears                           5822  \n",
       "Country version                 4502  \n",
       "Electricity consumption          137  \n",
       "Last Service Date                 23  \n",
       "Other Fuel Types                 880  \n",
       "Availability                     196  \n",
       "Last Timing Belt Service Date      2  \n",
       "Available from                    98  "
      ]
     },
     "execution_count": 205,
     "metadata": {},
     "output_type": "execute_result"
    }
   ],
   "source": [
    "df.describe(include=[object]).T"
   ]
  },
  {
   "cell_type": "markdown",
   "id": "6ad019db",
   "metadata": {},
   "source": [
    "# Renaming The Columns "
   ]
  },
  {
   "cell_type": "code",
   "execution_count": 206,
   "id": "b8e3d5f6",
   "metadata": {
    "scrolled": true
   },
   "outputs": [
    {
     "name": "stdout",
     "output_type": "stream",
     "text": [
      "Requirement already satisfied: skimpy in /Users/ruveydekaygisiz/.local/lib/python3.9/site-packages (0.0.7)\n",
      "Requirement already satisfied: Pygments<3.0.0,>=2.10.0 in /Users/ruveydekaygisiz/opt/anaconda3/lib/python3.9/site-packages (from skimpy) (2.11.2)\n",
      "Requirement already satisfied: pandas<2.0.0,>=1.3.2 in /Users/ruveydekaygisiz/opt/anaconda3/lib/python3.9/site-packages (from skimpy) (1.4.4)\n",
      "Requirement already satisfied: rich<13.0,>=10.9 in /Users/ruveydekaygisiz/.local/lib/python3.9/site-packages (from skimpy) (12.6.0)\n",
      "Requirement already satisfied: typeguard<3.0.0,>=2.12.1 in /Users/ruveydekaygisiz/.local/lib/python3.9/site-packages (from skimpy) (2.13.3)\n",
      "Requirement already satisfied: numpy<2.0.0,>=1.22.2 in /Users/ruveydekaygisiz/.local/lib/python3.9/site-packages (from skimpy) (1.23.4)\n",
      "Requirement already satisfied: jupyter<2.0.0,>=1.0.0 in /Users/ruveydekaygisiz/opt/anaconda3/lib/python3.9/site-packages (from skimpy) (1.0.0)\n",
      "Requirement already satisfied: ipykernel<7.0.0,>=6.7.0 in /Users/ruveydekaygisiz/opt/anaconda3/lib/python3.9/site-packages (from skimpy) (6.15.2)\n",
      "Requirement already satisfied: click<9.0.0,>=8.1.3 in /Users/ruveydekaygisiz/.local/lib/python3.9/site-packages (from skimpy) (8.1.3)\n",
      "Requirement already satisfied: packaging in /Users/ruveydekaygisiz/opt/anaconda3/lib/python3.9/site-packages (from ipykernel<7.0.0,>=6.7.0->skimpy) (21.3)\n",
      "Requirement already satisfied: matplotlib-inline>=0.1 in /Users/ruveydekaygisiz/opt/anaconda3/lib/python3.9/site-packages (from ipykernel<7.0.0,>=6.7.0->skimpy) (0.1.6)\n",
      "Requirement already satisfied: tornado>=6.1 in /Users/ruveydekaygisiz/opt/anaconda3/lib/python3.9/site-packages (from ipykernel<7.0.0,>=6.7.0->skimpy) (6.1)\n",
      "Requirement already satisfied: nest-asyncio in /Users/ruveydekaygisiz/opt/anaconda3/lib/python3.9/site-packages (from ipykernel<7.0.0,>=6.7.0->skimpy) (1.5.5)\n",
      "Requirement already satisfied: jupyter-client>=6.1.12 in /Users/ruveydekaygisiz/opt/anaconda3/lib/python3.9/site-packages (from ipykernel<7.0.0,>=6.7.0->skimpy) (7.3.4)\n",
      "Requirement already satisfied: appnope in /Users/ruveydekaygisiz/opt/anaconda3/lib/python3.9/site-packages (from ipykernel<7.0.0,>=6.7.0->skimpy) (0.1.2)\n",
      "Requirement already satisfied: ipython>=7.23.1 in /Users/ruveydekaygisiz/opt/anaconda3/lib/python3.9/site-packages (from ipykernel<7.0.0,>=6.7.0->skimpy) (7.31.1)\n",
      "Requirement already satisfied: traitlets>=5.1.0 in /Users/ruveydekaygisiz/opt/anaconda3/lib/python3.9/site-packages (from ipykernel<7.0.0,>=6.7.0->skimpy) (5.1.1)\n",
      "Requirement already satisfied: debugpy>=1.0 in /Users/ruveydekaygisiz/opt/anaconda3/lib/python3.9/site-packages (from ipykernel<7.0.0,>=6.7.0->skimpy) (1.5.1)\n",
      "Requirement already satisfied: pyzmq>=17 in /Users/ruveydekaygisiz/opt/anaconda3/lib/python3.9/site-packages (from ipykernel<7.0.0,>=6.7.0->skimpy) (23.2.0)\n",
      "Requirement already satisfied: psutil in /Users/ruveydekaygisiz/opt/anaconda3/lib/python3.9/site-packages (from ipykernel<7.0.0,>=6.7.0->skimpy) (5.9.0)\n",
      "Requirement already satisfied: notebook in /Users/ruveydekaygisiz/opt/anaconda3/lib/python3.9/site-packages (from jupyter<2.0.0,>=1.0.0->skimpy) (6.4.12)\n",
      "Requirement already satisfied: jupyter-console in /Users/ruveydekaygisiz/opt/anaconda3/lib/python3.9/site-packages (from jupyter<2.0.0,>=1.0.0->skimpy) (6.4.3)\n",
      "Requirement already satisfied: ipywidgets in /Users/ruveydekaygisiz/opt/anaconda3/lib/python3.9/site-packages (from jupyter<2.0.0,>=1.0.0->skimpy) (7.6.5)\n",
      "Requirement already satisfied: nbconvert in /Users/ruveydekaygisiz/opt/anaconda3/lib/python3.9/site-packages (from jupyter<2.0.0,>=1.0.0->skimpy) (6.4.4)\n",
      "Requirement already satisfied: qtconsole in /Users/ruveydekaygisiz/opt/anaconda3/lib/python3.9/site-packages (from jupyter<2.0.0,>=1.0.0->skimpy) (5.3.2)\n",
      "Requirement already satisfied: python-dateutil>=2.8.1 in /Users/ruveydekaygisiz/opt/anaconda3/lib/python3.9/site-packages (from pandas<2.0.0,>=1.3.2->skimpy) (2.8.2)\n",
      "Requirement already satisfied: pytz>=2020.1 in /Users/ruveydekaygisiz/opt/anaconda3/lib/python3.9/site-packages (from pandas<2.0.0,>=1.3.2->skimpy) (2022.1)\n",
      "Requirement already satisfied: commonmark<0.10.0,>=0.9.0 in /Users/ruveydekaygisiz/.local/lib/python3.9/site-packages (from rich<13.0,>=10.9->skimpy) (0.9.1)\n",
      "Requirement already satisfied: setuptools>=18.5 in /Users/ruveydekaygisiz/opt/anaconda3/lib/python3.9/site-packages (from ipython>=7.23.1->ipykernel<7.0.0,>=6.7.0->skimpy) (63.4.1)\n",
      "Requirement already satisfied: pexpect>4.3 in /Users/ruveydekaygisiz/opt/anaconda3/lib/python3.9/site-packages (from ipython>=7.23.1->ipykernel<7.0.0,>=6.7.0->skimpy) (4.8.0)\n",
      "Requirement already satisfied: jedi>=0.16 in /Users/ruveydekaygisiz/opt/anaconda3/lib/python3.9/site-packages (from ipython>=7.23.1->ipykernel<7.0.0,>=6.7.0->skimpy) (0.18.1)\n",
      "Requirement already satisfied: decorator in /Users/ruveydekaygisiz/opt/anaconda3/lib/python3.9/site-packages (from ipython>=7.23.1->ipykernel<7.0.0,>=6.7.0->skimpy) (5.1.1)\n",
      "Requirement already satisfied: pickleshare in /Users/ruveydekaygisiz/opt/anaconda3/lib/python3.9/site-packages (from ipython>=7.23.1->ipykernel<7.0.0,>=6.7.0->skimpy) (0.7.5)\n",
      "Requirement already satisfied: prompt-toolkit!=3.0.0,!=3.0.1,<3.1.0,>=2.0.0 in /Users/ruveydekaygisiz/opt/anaconda3/lib/python3.9/site-packages (from ipython>=7.23.1->ipykernel<7.0.0,>=6.7.0->skimpy) (3.0.20)\n",
      "Requirement already satisfied: backcall in /Users/ruveydekaygisiz/opt/anaconda3/lib/python3.9/site-packages (from ipython>=7.23.1->ipykernel<7.0.0,>=6.7.0->skimpy) (0.2.0)\n",
      "Requirement already satisfied: entrypoints in /Users/ruveydekaygisiz/opt/anaconda3/lib/python3.9/site-packages (from jupyter-client>=6.1.12->ipykernel<7.0.0,>=6.7.0->skimpy) (0.4)\n",
      "Requirement already satisfied: jupyter-core>=4.9.2 in /Users/ruveydekaygisiz/opt/anaconda3/lib/python3.9/site-packages (from jupyter-client>=6.1.12->ipykernel<7.0.0,>=6.7.0->skimpy) (4.11.1)\n",
      "Requirement already satisfied: six>=1.5 in /Users/ruveydekaygisiz/opt/anaconda3/lib/python3.9/site-packages (from python-dateutil>=2.8.1->pandas<2.0.0,>=1.3.2->skimpy) (1.16.0)\n",
      "Requirement already satisfied: ipython-genutils~=0.2.0 in /Users/ruveydekaygisiz/opt/anaconda3/lib/python3.9/site-packages (from ipywidgets->jupyter<2.0.0,>=1.0.0->skimpy) (0.2.0)\n",
      "Requirement already satisfied: widgetsnbextension~=3.5.0 in /Users/ruveydekaygisiz/opt/anaconda3/lib/python3.9/site-packages (from ipywidgets->jupyter<2.0.0,>=1.0.0->skimpy) (3.5.2)\n",
      "Requirement already satisfied: jupyterlab-widgets>=1.0.0 in /Users/ruveydekaygisiz/opt/anaconda3/lib/python3.9/site-packages (from ipywidgets->jupyter<2.0.0,>=1.0.0->skimpy) (1.0.0)\n",
      "Requirement already satisfied: nbformat>=4.2.0 in /Users/ruveydekaygisiz/opt/anaconda3/lib/python3.9/site-packages (from ipywidgets->jupyter<2.0.0,>=1.0.0->skimpy) (5.5.0)\n",
      "Requirement already satisfied: defusedxml in /Users/ruveydekaygisiz/opt/anaconda3/lib/python3.9/site-packages (from nbconvert->jupyter<2.0.0,>=1.0.0->skimpy) (0.7.1)\n",
      "Requirement already satisfied: jinja2>=2.4 in /Users/ruveydekaygisiz/opt/anaconda3/lib/python3.9/site-packages (from nbconvert->jupyter<2.0.0,>=1.0.0->skimpy) (2.11.3)\n",
      "Requirement already satisfied: beautifulsoup4 in /Users/ruveydekaygisiz/opt/anaconda3/lib/python3.9/site-packages (from nbconvert->jupyter<2.0.0,>=1.0.0->skimpy) (4.11.1)\n",
      "Requirement already satisfied: mistune<2,>=0.8.1 in /Users/ruveydekaygisiz/opt/anaconda3/lib/python3.9/site-packages (from nbconvert->jupyter<2.0.0,>=1.0.0->skimpy) (0.8.4)\n",
      "Requirement already satisfied: jupyterlab-pygments in /Users/ruveydekaygisiz/opt/anaconda3/lib/python3.9/site-packages (from nbconvert->jupyter<2.0.0,>=1.0.0->skimpy) (0.1.2)\n",
      "Requirement already satisfied: pandocfilters>=1.4.1 in /Users/ruveydekaygisiz/opt/anaconda3/lib/python3.9/site-packages (from nbconvert->jupyter<2.0.0,>=1.0.0->skimpy) (1.5.0)\n",
      "Requirement already satisfied: nbclient<0.6.0,>=0.5.0 in /Users/ruveydekaygisiz/opt/anaconda3/lib/python3.9/site-packages (from nbconvert->jupyter<2.0.0,>=1.0.0->skimpy) (0.5.13)\n",
      "Requirement already satisfied: bleach in /Users/ruveydekaygisiz/opt/anaconda3/lib/python3.9/site-packages (from nbconvert->jupyter<2.0.0,>=1.0.0->skimpy) (4.1.0)\n",
      "Requirement already satisfied: testpath in /Users/ruveydekaygisiz/opt/anaconda3/lib/python3.9/site-packages (from nbconvert->jupyter<2.0.0,>=1.0.0->skimpy) (0.6.0)\n",
      "Requirement already satisfied: Send2Trash>=1.8.0 in /Users/ruveydekaygisiz/opt/anaconda3/lib/python3.9/site-packages (from notebook->jupyter<2.0.0,>=1.0.0->skimpy) (1.8.0)\n",
      "Requirement already satisfied: argon2-cffi in /Users/ruveydekaygisiz/opt/anaconda3/lib/python3.9/site-packages (from notebook->jupyter<2.0.0,>=1.0.0->skimpy) (21.3.0)\n",
      "Requirement already satisfied: terminado>=0.8.3 in /Users/ruveydekaygisiz/opt/anaconda3/lib/python3.9/site-packages (from notebook->jupyter<2.0.0,>=1.0.0->skimpy) (0.13.1)\n",
      "Requirement already satisfied: prometheus-client in /Users/ruveydekaygisiz/opt/anaconda3/lib/python3.9/site-packages (from notebook->jupyter<2.0.0,>=1.0.0->skimpy) (0.14.1)\n",
      "Requirement already satisfied: pyparsing!=3.0.5,>=2.0.2 in /Users/ruveydekaygisiz/opt/anaconda3/lib/python3.9/site-packages (from packaging->ipykernel<7.0.0,>=6.7.0->skimpy) (3.0.9)\n"
     ]
    },
    {
     "name": "stdout",
     "output_type": "stream",
     "text": [
      "Requirement already satisfied: qtpy>=2.0.1 in /Users/ruveydekaygisiz/opt/anaconda3/lib/python3.9/site-packages (from qtconsole->jupyter<2.0.0,>=1.0.0->skimpy) (2.2.0)\n",
      "Requirement already satisfied: parso<0.9.0,>=0.8.0 in /Users/ruveydekaygisiz/opt/anaconda3/lib/python3.9/site-packages (from jedi>=0.16->ipython>=7.23.1->ipykernel<7.0.0,>=6.7.0->skimpy) (0.8.3)\n",
      "Requirement already satisfied: MarkupSafe>=0.23 in /Users/ruveydekaygisiz/opt/anaconda3/lib/python3.9/site-packages (from jinja2>=2.4->nbconvert->jupyter<2.0.0,>=1.0.0->skimpy) (2.0.1)\n",
      "Requirement already satisfied: jsonschema>=2.6 in /Users/ruveydekaygisiz/opt/anaconda3/lib/python3.9/site-packages (from nbformat>=4.2.0->ipywidgets->jupyter<2.0.0,>=1.0.0->skimpy) (4.16.0)\n",
      "Requirement already satisfied: fastjsonschema in /Users/ruveydekaygisiz/opt/anaconda3/lib/python3.9/site-packages (from nbformat>=4.2.0->ipywidgets->jupyter<2.0.0,>=1.0.0->skimpy) (2.16.2)\n",
      "Requirement already satisfied: ptyprocess>=0.5 in /Users/ruveydekaygisiz/opt/anaconda3/lib/python3.9/site-packages (from pexpect>4.3->ipython>=7.23.1->ipykernel<7.0.0,>=6.7.0->skimpy) (0.7.0)\n",
      "Requirement already satisfied: wcwidth in /Users/ruveydekaygisiz/opt/anaconda3/lib/python3.9/site-packages (from prompt-toolkit!=3.0.0,!=3.0.1,<3.1.0,>=2.0.0->ipython>=7.23.1->ipykernel<7.0.0,>=6.7.0->skimpy) (0.2.5)\n",
      "Requirement already satisfied: argon2-cffi-bindings in /Users/ruveydekaygisiz/opt/anaconda3/lib/python3.9/site-packages (from argon2-cffi->notebook->jupyter<2.0.0,>=1.0.0->skimpy) (21.2.0)\n",
      "Requirement already satisfied: soupsieve>1.2 in /Users/ruveydekaygisiz/opt/anaconda3/lib/python3.9/site-packages (from beautifulsoup4->nbconvert->jupyter<2.0.0,>=1.0.0->skimpy) (2.3.1)\n",
      "Requirement already satisfied: webencodings in /Users/ruveydekaygisiz/opt/anaconda3/lib/python3.9/site-packages (from bleach->nbconvert->jupyter<2.0.0,>=1.0.0->skimpy) (0.5.1)\n",
      "Requirement already satisfied: attrs>=17.4.0 in /Users/ruveydekaygisiz/opt/anaconda3/lib/python3.9/site-packages (from jsonschema>=2.6->nbformat>=4.2.0->ipywidgets->jupyter<2.0.0,>=1.0.0->skimpy) (21.4.0)\n",
      "Requirement already satisfied: pyrsistent!=0.17.0,!=0.17.1,!=0.17.2,>=0.14.0 in /Users/ruveydekaygisiz/opt/anaconda3/lib/python3.9/site-packages (from jsonschema>=2.6->nbformat>=4.2.0->ipywidgets->jupyter<2.0.0,>=1.0.0->skimpy) (0.18.0)\n",
      "Requirement already satisfied: cffi>=1.0.1 in /Users/ruveydekaygisiz/opt/anaconda3/lib/python3.9/site-packages (from argon2-cffi-bindings->argon2-cffi->notebook->jupyter<2.0.0,>=1.0.0->skimpy) (1.15.1)\n",
      "Requirement already satisfied: pycparser in /Users/ruveydekaygisiz/opt/anaconda3/lib/python3.9/site-packages (from cffi>=1.0.1->argon2-cffi-bindings->argon2-cffi->notebook->jupyter<2.0.0,>=1.0.0->skimpy) (2.21)\n",
      "Note: you may need to restart the kernel to use updated packages.\n"
     ]
    }
   ],
   "source": [
    "pip install skimpy --user"
   ]
  },
  {
   "cell_type": "code",
   "execution_count": 207,
   "id": "111553e6",
   "metadata": {},
   "outputs": [
    {
     "data": {
      "text/html": [
       "<pre style=\"white-space:pre;overflow-x:auto;line-height:normal;font-family:Menlo,'DejaVu Sans Mono',consolas,'Courier New',monospace\"><span style=\"color: #008080; text-decoration-color: #008080; font-weight: bold\">42</span> column names have been cleaned\n",
       "</pre>\n"
      ],
      "text/plain": [
       "\u001b[1;36m42\u001b[0m column names have been cleaned\n"
      ]
     },
     "metadata": {},
     "output_type": "display_data"
    },
    {
     "data": {
      "text/html": [
       "<div>\n",
       "<style scoped>\n",
       "    .dataframe tbody tr th:only-of-type {\n",
       "        vertical-align: middle;\n",
       "    }\n",
       "\n",
       "    .dataframe tbody tr th {\n",
       "        vertical-align: top;\n",
       "    }\n",
       "\n",
       "    .dataframe thead th {\n",
       "        text-align: right;\n",
       "    }\n",
       "</style>\n",
       "<table border=\"1\" class=\"dataframe\">\n",
       "  <thead>\n",
       "    <tr style=\"text-align: right;\">\n",
       "      <th></th>\n",
       "      <th>0</th>\n",
       "      <th>1</th>\n",
       "      <th>2</th>\n",
       "    </tr>\n",
       "  </thead>\n",
       "  <tbody>\n",
       "    <tr>\n",
       "      <th>url</th>\n",
       "      <td>https://www.autoscout24.com//offers/audi-a1-sp...</td>\n",
       "      <td>https://www.autoscout24.com//offers/audi-a1-1-...</td>\n",
       "      <td>https://www.autoscout24.com//offers/audi-a1-sp...</td>\n",
       "    </tr>\n",
       "    <tr>\n",
       "      <th>make_model</th>\n",
       "      <td>Audi A1</td>\n",
       "      <td>Audi A1</td>\n",
       "      <td>Audi A1</td>\n",
       "    </tr>\n",
       "    <tr>\n",
       "      <th>short_description</th>\n",
       "      <td>Sportback 1.4 TDI S-tronic Xenon Navi Klima</td>\n",
       "      <td>1.8 TFSI sport</td>\n",
       "      <td>Sportback 1.6 TDI S tronic Einparkhilfe plus+m...</td>\n",
       "    </tr>\n",
       "    <tr>\n",
       "      <th>body_type</th>\n",
       "      <td>Sedans</td>\n",
       "      <td>Sedans</td>\n",
       "      <td>Sedans</td>\n",
       "    </tr>\n",
       "    <tr>\n",
       "      <th>price</th>\n",
       "      <td>15770</td>\n",
       "      <td>14500</td>\n",
       "      <td>14640</td>\n",
       "    </tr>\n",
       "    <tr>\n",
       "      <th>vat</th>\n",
       "      <td>VAT deductible</td>\n",
       "      <td>Price negotiable</td>\n",
       "      <td>VAT deductible</td>\n",
       "    </tr>\n",
       "    <tr>\n",
       "      <th>km</th>\n",
       "      <td>56,013 km</td>\n",
       "      <td>80,000 km</td>\n",
       "      <td>83,450 km</td>\n",
       "    </tr>\n",
       "    <tr>\n",
       "      <th>registration</th>\n",
       "      <td>01/2016</td>\n",
       "      <td>03/2017</td>\n",
       "      <td>02/2016</td>\n",
       "    </tr>\n",
       "    <tr>\n",
       "      <th>prev_owner</th>\n",
       "      <td>2 previous owners</td>\n",
       "      <td>None</td>\n",
       "      <td>1 previous owner</td>\n",
       "    </tr>\n",
       "    <tr>\n",
       "      <th>k_w</th>\n",
       "      <td>NaN</td>\n",
       "      <td>NaN</td>\n",
       "      <td>NaN</td>\n",
       "    </tr>\n",
       "    <tr>\n",
       "      <th>hp</th>\n",
       "      <td>66 kW</td>\n",
       "      <td>141 kW</td>\n",
       "      <td>85 kW</td>\n",
       "    </tr>\n",
       "    <tr>\n",
       "      <th>type</th>\n",
       "      <td>[, Used, , Diesel (Particulate Filter)]</td>\n",
       "      <td>[, Used, , Gasoline]</td>\n",
       "      <td>[, Used, , Diesel (Particulate Filter)]</td>\n",
       "    </tr>\n",
       "    <tr>\n",
       "      <th>previous_owners</th>\n",
       "      <td>\\n2\\n</td>\n",
       "      <td>NaN</td>\n",
       "      <td>\\n1\\n</td>\n",
       "    </tr>\n",
       "    <tr>\n",
       "      <th>next_inspection</th>\n",
       "      <td>[\\n06/2021\\n, \\n99 g CO2/km (comb)\\n]</td>\n",
       "      <td>NaN</td>\n",
       "      <td>NaN</td>\n",
       "    </tr>\n",
       "    <tr>\n",
       "      <th>inspection_new</th>\n",
       "      <td>[\\nYes\\n, \\nEuro 6\\n]</td>\n",
       "      <td>NaN</td>\n",
       "      <td>NaN</td>\n",
       "    </tr>\n",
       "    <tr>\n",
       "      <th>warranty</th>\n",
       "      <td>[\\n, \\n, \\n4 (Green)\\n]</td>\n",
       "      <td>NaN</td>\n",
       "      <td>[\\n, \\n, \\n99 g CO2/km (comb)\\n]</td>\n",
       "    </tr>\n",
       "    <tr>\n",
       "      <th>full_service</th>\n",
       "      <td>[\\n, \\n]</td>\n",
       "      <td>NaN</td>\n",
       "      <td>NaN</td>\n",
       "    </tr>\n",
       "    <tr>\n",
       "      <th>non_smoking_vehicle</th>\n",
       "      <td>[\\n, \\n]</td>\n",
       "      <td>NaN</td>\n",
       "      <td>NaN</td>\n",
       "    </tr>\n",
       "    <tr>\n",
       "      <th>null</th>\n",
       "      <td>[]</td>\n",
       "      <td>[]</td>\n",
       "      <td>[]</td>\n",
       "    </tr>\n",
       "    <tr>\n",
       "      <th>make</th>\n",
       "      <td>\\nAudi\\n</td>\n",
       "      <td>\\nAudi\\n</td>\n",
       "      <td>\\nAudi\\n</td>\n",
       "    </tr>\n",
       "    <tr>\n",
       "      <th>model</th>\n",
       "      <td>[\\n, A1, \\n]</td>\n",
       "      <td>[\\n, A1, \\n]</td>\n",
       "      <td>[\\n, A1, \\n]</td>\n",
       "    </tr>\n",
       "    <tr>\n",
       "      <th>offer_number</th>\n",
       "      <td>[\\nLR-062483\\n]</td>\n",
       "      <td>NaN</td>\n",
       "      <td>[\\nAM-95365\\n]</td>\n",
       "    </tr>\n",
       "    <tr>\n",
       "      <th>first_registration</th>\n",
       "      <td>[\\n, 2016, \\n]</td>\n",
       "      <td>[\\n, 2017, \\n]</td>\n",
       "      <td>[\\n, 2016, \\n]</td>\n",
       "    </tr>\n",
       "    <tr>\n",
       "      <th>body_color</th>\n",
       "      <td>[\\n, Black, \\n]</td>\n",
       "      <td>[\\n, Red, \\n]</td>\n",
       "      <td>[\\n, Black, \\n]</td>\n",
       "    </tr>\n",
       "    <tr>\n",
       "      <th>paint_type</th>\n",
       "      <td>[\\nMetallic\\n]</td>\n",
       "      <td>NaN</td>\n",
       "      <td>[\\nMetallic\\n]</td>\n",
       "    </tr>\n",
       "    <tr>\n",
       "      <th>body_color_original</th>\n",
       "      <td>[\\nMythosschwarz\\n]</td>\n",
       "      <td>NaN</td>\n",
       "      <td>[\\nmythosschwarz metallic\\n]</td>\n",
       "    </tr>\n",
       "    <tr>\n",
       "      <th>upholstery</th>\n",
       "      <td>[\\nCloth, Black\\n]</td>\n",
       "      <td>[\\nCloth, Grey\\n]</td>\n",
       "      <td>[\\nCloth, Black\\n]</td>\n",
       "    </tr>\n",
       "    <tr>\n",
       "      <th>body</th>\n",
       "      <td>[\\n, Sedans, \\n]</td>\n",
       "      <td>[\\n, Sedans, \\n]</td>\n",
       "      <td>[\\n, Sedans, \\n]</td>\n",
       "    </tr>\n",
       "    <tr>\n",
       "      <th>nr_of_doors</th>\n",
       "      <td>[\\n5\\n]</td>\n",
       "      <td>[\\n3\\n]</td>\n",
       "      <td>[\\n4\\n]</td>\n",
       "    </tr>\n",
       "    <tr>\n",
       "      <th>nr_of_seats</th>\n",
       "      <td>[\\n5\\n]</td>\n",
       "      <td>[\\n4\\n]</td>\n",
       "      <td>[\\n4\\n]</td>\n",
       "    </tr>\n",
       "    <tr>\n",
       "      <th>model_code</th>\n",
       "      <td>[\\n0588/BDF\\n]</td>\n",
       "      <td>[\\n0588/BCY\\n]</td>\n",
       "      <td>NaN</td>\n",
       "    </tr>\n",
       "    <tr>\n",
       "      <th>gearing_type</th>\n",
       "      <td>[\\n, Automatic, \\n]</td>\n",
       "      <td>[\\n, Automatic, \\n]</td>\n",
       "      <td>[\\n, Automatic, \\n]</td>\n",
       "    </tr>\n",
       "    <tr>\n",
       "      <th>displacement</th>\n",
       "      <td>[\\n1,422 cc\\n]</td>\n",
       "      <td>[\\n1,798 cc\\n]</td>\n",
       "      <td>[\\n1,598 cc\\n]</td>\n",
       "    </tr>\n",
       "    <tr>\n",
       "      <th>cylinders</th>\n",
       "      <td>[\\n3\\n]</td>\n",
       "      <td>[\\n4\\n]</td>\n",
       "      <td>NaN</td>\n",
       "    </tr>\n",
       "    <tr>\n",
       "      <th>weight</th>\n",
       "      <td>[\\n1,220 kg\\n]</td>\n",
       "      <td>[\\n1,255 kg\\n]</td>\n",
       "      <td>NaN</td>\n",
       "    </tr>\n",
       "    <tr>\n",
       "      <th>drive_chain</th>\n",
       "      <td>[\\nfront\\n]</td>\n",
       "      <td>[\\nfront\\n]</td>\n",
       "      <td>[\\nfront\\n]</td>\n",
       "    </tr>\n",
       "    <tr>\n",
       "      <th>fuel</th>\n",
       "      <td>[\\n, Diesel (Particulate Filter), \\n]</td>\n",
       "      <td>[\\n, Gasoline, \\n]</td>\n",
       "      <td>[\\n, Diesel (Particulate Filter), \\n]</td>\n",
       "    </tr>\n",
       "    <tr>\n",
       "      <th>consumption</th>\n",
       "      <td>[[3.8 l/100 km (comb)], [4.3 l/100 km (city)],...</td>\n",
       "      <td>[[5.6 l/100 km (comb)], [7.1 l/100 km (city)],...</td>\n",
       "      <td>[[3.8 l/100 km (comb)], [4.4 l/100 km (city)],...</td>\n",
       "    </tr>\n",
       "    <tr>\n",
       "      <th>co_2_emission</th>\n",
       "      <td>[\\n99 g CO2/km (comb)\\n]</td>\n",
       "      <td>[\\n129 g CO2/km (comb)\\n]</td>\n",
       "      <td>[\\n99 g CO2/km (comb)\\n]</td>\n",
       "    </tr>\n",
       "    <tr>\n",
       "      <th>emission_class</th>\n",
       "      <td>[\\nEuro 6\\n]</td>\n",
       "      <td>[\\nEuro 6\\n]</td>\n",
       "      <td>[\\nEuro 6\\n]</td>\n",
       "    </tr>\n",
       "    <tr>\n",
       "      <th>comfort_&amp;_convenience</th>\n",
       "      <td>[Air conditioning, Armrest, Automatic climate ...</td>\n",
       "      <td>[Air conditioning, Automatic climate control, ...</td>\n",
       "      <td>[Air conditioning, Cruise control, Electrical ...</td>\n",
       "    </tr>\n",
       "    <tr>\n",
       "      <th>entertainment_&amp;_media</th>\n",
       "      <td>[Bluetooth, Hands-free equipment, On-board com...</td>\n",
       "      <td>[Bluetooth, Hands-free equipment, On-board com...</td>\n",
       "      <td>[MP3, On-board computer]</td>\n",
       "    </tr>\n",
       "    <tr>\n",
       "      <th>extras</th>\n",
       "      <td>[Alloy wheels, Catalytic Converter, Voice Cont...</td>\n",
       "      <td>[Alloy wheels, Sport seats, Sport suspension, ...</td>\n",
       "      <td>[Alloy wheels, Voice Control]</td>\n",
       "    </tr>\n",
       "    <tr>\n",
       "      <th>safety_&amp;_security</th>\n",
       "      <td>[ABS, Central door lock, Daytime running light...</td>\n",
       "      <td>[ABS, Central door lock, Central door lock wit...</td>\n",
       "      <td>[ABS, Central door lock, Daytime running light...</td>\n",
       "    </tr>\n",
       "    <tr>\n",
       "      <th>description</th>\n",
       "      <td>[\\n, Sicherheit:,  , Deaktivierung für Beifahr...</td>\n",
       "      <td>[\\nLangstreckenfahrzeug daher die hohe Kilomet...</td>\n",
       "      <td>[\\n, Fahrzeug-Nummer: AM-95365,  , Ehem. UPE 2...</td>\n",
       "    </tr>\n",
       "    <tr>\n",
       "      <th>emission_label</th>\n",
       "      <td>NaN</td>\n",
       "      <td>[\\n4 (Green)\\n]</td>\n",
       "      <td>[\\n4 (Green)\\n]</td>\n",
       "    </tr>\n",
       "    <tr>\n",
       "      <th>gears</th>\n",
       "      <td>NaN</td>\n",
       "      <td>[\\n7\\n]</td>\n",
       "      <td>NaN</td>\n",
       "    </tr>\n",
       "    <tr>\n",
       "      <th>country_version</th>\n",
       "      <td>NaN</td>\n",
       "      <td>NaN</td>\n",
       "      <td>NaN</td>\n",
       "    </tr>\n",
       "    <tr>\n",
       "      <th>electricity_consumption</th>\n",
       "      <td>NaN</td>\n",
       "      <td>NaN</td>\n",
       "      <td>NaN</td>\n",
       "    </tr>\n",
       "    <tr>\n",
       "      <th>last_service_date</th>\n",
       "      <td>NaN</td>\n",
       "      <td>NaN</td>\n",
       "      <td>NaN</td>\n",
       "    </tr>\n",
       "    <tr>\n",
       "      <th>other_fuel_types</th>\n",
       "      <td>NaN</td>\n",
       "      <td>NaN</td>\n",
       "      <td>NaN</td>\n",
       "    </tr>\n",
       "    <tr>\n",
       "      <th>availability</th>\n",
       "      <td>NaN</td>\n",
       "      <td>NaN</td>\n",
       "      <td>NaN</td>\n",
       "    </tr>\n",
       "    <tr>\n",
       "      <th>last_timing_belt_service_date</th>\n",
       "      <td>NaN</td>\n",
       "      <td>NaN</td>\n",
       "      <td>NaN</td>\n",
       "    </tr>\n",
       "    <tr>\n",
       "      <th>available_from</th>\n",
       "      <td>NaN</td>\n",
       "      <td>NaN</td>\n",
       "      <td>NaN</td>\n",
       "    </tr>\n",
       "  </tbody>\n",
       "</table>\n",
       "</div>"
      ],
      "text/plain": [
       "                                                                               0  \\\n",
       "url                            https://www.autoscout24.com//offers/audi-a1-sp...   \n",
       "make_model                                                               Audi A1   \n",
       "short_description                    Sportback 1.4 TDI S-tronic Xenon Navi Klima   \n",
       "body_type                                                                 Sedans   \n",
       "price                                                                      15770   \n",
       "vat                                                               VAT deductible   \n",
       "km                                                                     56,013 km   \n",
       "registration                                                             01/2016   \n",
       "prev_owner                                                     2 previous owners   \n",
       "k_w                                                                          NaN   \n",
       "hp                                                                         66 kW   \n",
       "type                                     [, Used, , Diesel (Particulate Filter)]   \n",
       "previous_owners                                                            \\n2\\n   \n",
       "next_inspection                            [\\n06/2021\\n, \\n99 g CO2/km (comb)\\n]   \n",
       "inspection_new                                             [\\nYes\\n, \\nEuro 6\\n]   \n",
       "warranty                                                 [\\n, \\n, \\n4 (Green)\\n]   \n",
       "full_service                                                            [\\n, \\n]   \n",
       "non_smoking_vehicle                                                     [\\n, \\n]   \n",
       "null                                                                          []   \n",
       "make                                                                    \\nAudi\\n   \n",
       "model                                                               [\\n, A1, \\n]   \n",
       "offer_number                                                     [\\nLR-062483\\n]   \n",
       "first_registration                                                [\\n, 2016, \\n]   \n",
       "body_color                                                       [\\n, Black, \\n]   \n",
       "paint_type                                                        [\\nMetallic\\n]   \n",
       "body_color_original                                          [\\nMythosschwarz\\n]   \n",
       "upholstery                                                    [\\nCloth, Black\\n]   \n",
       "body                                                            [\\n, Sedans, \\n]   \n",
       "nr_of_doors                                                              [\\n5\\n]   \n",
       "nr_of_seats                                                              [\\n5\\n]   \n",
       "model_code                                                        [\\n0588/BDF\\n]   \n",
       "gearing_type                                                 [\\n, Automatic, \\n]   \n",
       "displacement                                                      [\\n1,422 cc\\n]   \n",
       "cylinders                                                                [\\n3\\n]   \n",
       "weight                                                            [\\n1,220 kg\\n]   \n",
       "drive_chain                                                          [\\nfront\\n]   \n",
       "fuel                                       [\\n, Diesel (Particulate Filter), \\n]   \n",
       "consumption                    [[3.8 l/100 km (comb)], [4.3 l/100 km (city)],...   \n",
       "co_2_emission                                           [\\n99 g CO2/km (comb)\\n]   \n",
       "emission_class                                                      [\\nEuro 6\\n]   \n",
       "comfort_&_convenience          [Air conditioning, Armrest, Automatic climate ...   \n",
       "entertainment_&_media          [Bluetooth, Hands-free equipment, On-board com...   \n",
       "extras                         [Alloy wheels, Catalytic Converter, Voice Cont...   \n",
       "safety_&_security              [ABS, Central door lock, Daytime running light...   \n",
       "description                    [\\n, Sicherheit:,  , Deaktivierung für Beifahr...   \n",
       "emission_label                                                               NaN   \n",
       "gears                                                                        NaN   \n",
       "country_version                                                              NaN   \n",
       "electricity_consumption                                                      NaN   \n",
       "last_service_date                                                            NaN   \n",
       "other_fuel_types                                                             NaN   \n",
       "availability                                                                 NaN   \n",
       "last_timing_belt_service_date                                                NaN   \n",
       "available_from                                                               NaN   \n",
       "\n",
       "                                                                               1  \\\n",
       "url                            https://www.autoscout24.com//offers/audi-a1-1-...   \n",
       "make_model                                                               Audi A1   \n",
       "short_description                                                 1.8 TFSI sport   \n",
       "body_type                                                                 Sedans   \n",
       "price                                                                      14500   \n",
       "vat                                                             Price negotiable   \n",
       "km                                                                     80,000 km   \n",
       "registration                                                             03/2017   \n",
       "prev_owner                                                                  None   \n",
       "k_w                                                                          NaN   \n",
       "hp                                                                        141 kW   \n",
       "type                                                        [, Used, , Gasoline]   \n",
       "previous_owners                                                              NaN   \n",
       "next_inspection                                                              NaN   \n",
       "inspection_new                                                               NaN   \n",
       "warranty                                                                     NaN   \n",
       "full_service                                                                 NaN   \n",
       "non_smoking_vehicle                                                          NaN   \n",
       "null                                                                          []   \n",
       "make                                                                    \\nAudi\\n   \n",
       "model                                                               [\\n, A1, \\n]   \n",
       "offer_number                                                                 NaN   \n",
       "first_registration                                                [\\n, 2017, \\n]   \n",
       "body_color                                                         [\\n, Red, \\n]   \n",
       "paint_type                                                                   NaN   \n",
       "body_color_original                                                          NaN   \n",
       "upholstery                                                     [\\nCloth, Grey\\n]   \n",
       "body                                                            [\\n, Sedans, \\n]   \n",
       "nr_of_doors                                                              [\\n3\\n]   \n",
       "nr_of_seats                                                              [\\n4\\n]   \n",
       "model_code                                                        [\\n0588/BCY\\n]   \n",
       "gearing_type                                                 [\\n, Automatic, \\n]   \n",
       "displacement                                                      [\\n1,798 cc\\n]   \n",
       "cylinders                                                                [\\n4\\n]   \n",
       "weight                                                            [\\n1,255 kg\\n]   \n",
       "drive_chain                                                          [\\nfront\\n]   \n",
       "fuel                                                          [\\n, Gasoline, \\n]   \n",
       "consumption                    [[5.6 l/100 km (comb)], [7.1 l/100 km (city)],...   \n",
       "co_2_emission                                          [\\n129 g CO2/km (comb)\\n]   \n",
       "emission_class                                                      [\\nEuro 6\\n]   \n",
       "comfort_&_convenience          [Air conditioning, Automatic climate control, ...   \n",
       "entertainment_&_media          [Bluetooth, Hands-free equipment, On-board com...   \n",
       "extras                         [Alloy wheels, Sport seats, Sport suspension, ...   \n",
       "safety_&_security              [ABS, Central door lock, Central door lock wit...   \n",
       "description                    [\\nLangstreckenfahrzeug daher die hohe Kilomet...   \n",
       "emission_label                                                   [\\n4 (Green)\\n]   \n",
       "gears                                                                    [\\n7\\n]   \n",
       "country_version                                                              NaN   \n",
       "electricity_consumption                                                      NaN   \n",
       "last_service_date                                                            NaN   \n",
       "other_fuel_types                                                             NaN   \n",
       "availability                                                                 NaN   \n",
       "last_timing_belt_service_date                                                NaN   \n",
       "available_from                                                               NaN   \n",
       "\n",
       "                                                                               2  \n",
       "url                            https://www.autoscout24.com//offers/audi-a1-sp...  \n",
       "make_model                                                               Audi A1  \n",
       "short_description              Sportback 1.6 TDI S tronic Einparkhilfe plus+m...  \n",
       "body_type                                                                 Sedans  \n",
       "price                                                                      14640  \n",
       "vat                                                               VAT deductible  \n",
       "km                                                                     83,450 km  \n",
       "registration                                                             02/2016  \n",
       "prev_owner                                                      1 previous owner  \n",
       "k_w                                                                          NaN  \n",
       "hp                                                                         85 kW  \n",
       "type                                     [, Used, , Diesel (Particulate Filter)]  \n",
       "previous_owners                                                            \\n1\\n  \n",
       "next_inspection                                                              NaN  \n",
       "inspection_new                                                               NaN  \n",
       "warranty                                        [\\n, \\n, \\n99 g CO2/km (comb)\\n]  \n",
       "full_service                                                                 NaN  \n",
       "non_smoking_vehicle                                                          NaN  \n",
       "null                                                                          []  \n",
       "make                                                                    \\nAudi\\n  \n",
       "model                                                               [\\n, A1, \\n]  \n",
       "offer_number                                                      [\\nAM-95365\\n]  \n",
       "first_registration                                                [\\n, 2016, \\n]  \n",
       "body_color                                                       [\\n, Black, \\n]  \n",
       "paint_type                                                        [\\nMetallic\\n]  \n",
       "body_color_original                                 [\\nmythosschwarz metallic\\n]  \n",
       "upholstery                                                    [\\nCloth, Black\\n]  \n",
       "body                                                            [\\n, Sedans, \\n]  \n",
       "nr_of_doors                                                              [\\n4\\n]  \n",
       "nr_of_seats                                                              [\\n4\\n]  \n",
       "model_code                                                                   NaN  \n",
       "gearing_type                                                 [\\n, Automatic, \\n]  \n",
       "displacement                                                      [\\n1,598 cc\\n]  \n",
       "cylinders                                                                    NaN  \n",
       "weight                                                                       NaN  \n",
       "drive_chain                                                          [\\nfront\\n]  \n",
       "fuel                                       [\\n, Diesel (Particulate Filter), \\n]  \n",
       "consumption                    [[3.8 l/100 km (comb)], [4.4 l/100 km (city)],...  \n",
       "co_2_emission                                           [\\n99 g CO2/km (comb)\\n]  \n",
       "emission_class                                                      [\\nEuro 6\\n]  \n",
       "comfort_&_convenience          [Air conditioning, Cruise control, Electrical ...  \n",
       "entertainment_&_media                                   [MP3, On-board computer]  \n",
       "extras                                             [Alloy wheels, Voice Control]  \n",
       "safety_&_security              [ABS, Central door lock, Daytime running light...  \n",
       "description                    [\\n, Fahrzeug-Nummer: AM-95365,  , Ehem. UPE 2...  \n",
       "emission_label                                                   [\\n4 (Green)\\n]  \n",
       "gears                                                                        NaN  \n",
       "country_version                                                              NaN  \n",
       "electricity_consumption                                                      NaN  \n",
       "last_service_date                                                            NaN  \n",
       "other_fuel_types                                                             NaN  \n",
       "availability                                                                 NaN  \n",
       "last_timing_belt_service_date                                                NaN  \n",
       "available_from                                                               NaN  "
      ]
     },
     "execution_count": 207,
     "metadata": {},
     "output_type": "execute_result"
    }
   ],
   "source": [
    "# # First Method\n",
    "\n",
    "from skimpy import clean_columns\n",
    "\n",
    "df = clean_columns(df)\n",
    "df.head(3).T"
   ]
  },
  {
   "cell_type": "markdown",
   "id": "f2f5fd15",
   "metadata": {},
   "source": [
    "#Second Method :\n",
    "df.rename(columns={'\\nComfort & Convenience\\n': 'Comfort_Convenience', \n",
    "                   '\\nEntertainment & Media\\n': 'Entertainment_Media',\n",
    "                   '\\nExtras\\n' : 'Extras', \n",
    "                   '\\nSafety & Security\\n':'Safety_Security'}, inplace=True)\n",
    "                   \n",
    "#Third Method :                   \n",
    "for col in df.columns:\n",
    "    df.rename(columns={col:col.lower().replace(\" \",\"_\")},inplace=True)"
   ]
  },
  {
   "cell_type": "code",
   "execution_count": 208,
   "id": "9c40d4dd",
   "metadata": {},
   "outputs": [],
   "source": [
    "df.rename(columns={\"co_2_emission\" :\"co2_emission\",\n",
    "                   \"comfort_&_convenience\" : \"comfort_convenience\",\n",
    "                   \"entertainment_&_media\" : \"entertainment_media\",\n",
    "                   \"safety_&_security\" : \"safety_security\"},inplace=True)"
   ]
  },
  {
   "cell_type": "code",
   "execution_count": 209,
   "id": "4d03c06a",
   "metadata": {},
   "outputs": [
    {
     "data": {
      "text/plain": [
       "(15919, 54)"
      ]
     },
     "execution_count": 209,
     "metadata": {},
     "output_type": "execute_result"
    }
   ],
   "source": [
    "df.shape"
   ]
  },
  {
   "cell_type": "markdown",
   "id": "d4060d1e",
   "metadata": {},
   "source": [
    "# Percentage and Number of Null Values "
   ]
  },
  {
   "cell_type": "code",
   "execution_count": 210,
   "id": "c3e60007",
   "metadata": {},
   "outputs": [
    {
     "data": {
      "text/html": [
       "<div>\n",
       "<style scoped>\n",
       "    .dataframe tbody tr th:only-of-type {\n",
       "        vertical-align: middle;\n",
       "    }\n",
       "\n",
       "    .dataframe tbody tr th {\n",
       "        vertical-align: top;\n",
       "    }\n",
       "\n",
       "    .dataframe thead th {\n",
       "        text-align: right;\n",
       "    }\n",
       "</style>\n",
       "<table border=\"1\" class=\"dataframe\">\n",
       "  <thead>\n",
       "    <tr style=\"text-align: right;\">\n",
       "      <th></th>\n",
       "      <th>isnull</th>\n",
       "    </tr>\n",
       "  </thead>\n",
       "  <tbody>\n",
       "    <tr>\n",
       "      <th>url</th>\n",
       "      <td>0</td>\n",
       "    </tr>\n",
       "    <tr>\n",
       "      <th>make_model</th>\n",
       "      <td>0</td>\n",
       "    </tr>\n",
       "    <tr>\n",
       "      <th>short_description</th>\n",
       "      <td>46</td>\n",
       "    </tr>\n",
       "    <tr>\n",
       "      <th>body_type</th>\n",
       "      <td>60</td>\n",
       "    </tr>\n",
       "    <tr>\n",
       "      <th>price</th>\n",
       "      <td>0</td>\n",
       "    </tr>\n",
       "    <tr>\n",
       "      <th>vat</th>\n",
       "      <td>4513</td>\n",
       "    </tr>\n",
       "    <tr>\n",
       "      <th>km</th>\n",
       "      <td>0</td>\n",
       "    </tr>\n",
       "    <tr>\n",
       "      <th>registration</th>\n",
       "      <td>0</td>\n",
       "    </tr>\n",
       "    <tr>\n",
       "      <th>prev_owner</th>\n",
       "      <td>6828</td>\n",
       "    </tr>\n",
       "    <tr>\n",
       "      <th>k_w</th>\n",
       "      <td>15919</td>\n",
       "    </tr>\n",
       "    <tr>\n",
       "      <th>hp</th>\n",
       "      <td>0</td>\n",
       "    </tr>\n",
       "    <tr>\n",
       "      <th>type</th>\n",
       "      <td>2</td>\n",
       "    </tr>\n",
       "    <tr>\n",
       "      <th>previous_owners</th>\n",
       "      <td>6640</td>\n",
       "    </tr>\n",
       "    <tr>\n",
       "      <th>next_inspection</th>\n",
       "      <td>12384</td>\n",
       "    </tr>\n",
       "    <tr>\n",
       "      <th>inspection_new</th>\n",
       "      <td>11987</td>\n",
       "    </tr>\n",
       "    <tr>\n",
       "      <th>warranty</th>\n",
       "      <td>5420</td>\n",
       "    </tr>\n",
       "    <tr>\n",
       "      <th>full_service</th>\n",
       "      <td>7704</td>\n",
       "    </tr>\n",
       "    <tr>\n",
       "      <th>non_smoking_vehicle</th>\n",
       "      <td>8742</td>\n",
       "    </tr>\n",
       "    <tr>\n",
       "      <th>null</th>\n",
       "      <td>0</td>\n",
       "    </tr>\n",
       "    <tr>\n",
       "      <th>make</th>\n",
       "      <td>0</td>\n",
       "    </tr>\n",
       "    <tr>\n",
       "      <th>model</th>\n",
       "      <td>0</td>\n",
       "    </tr>\n",
       "    <tr>\n",
       "      <th>offer_number</th>\n",
       "      <td>3175</td>\n",
       "    </tr>\n",
       "    <tr>\n",
       "      <th>first_registration</th>\n",
       "      <td>1597</td>\n",
       "    </tr>\n",
       "    <tr>\n",
       "      <th>body_color</th>\n",
       "      <td>597</td>\n",
       "    </tr>\n",
       "    <tr>\n",
       "      <th>paint_type</th>\n",
       "      <td>5772</td>\n",
       "    </tr>\n",
       "    <tr>\n",
       "      <th>body_color_original</th>\n",
       "      <td>3759</td>\n",
       "    </tr>\n",
       "    <tr>\n",
       "      <th>upholstery</th>\n",
       "      <td>3720</td>\n",
       "    </tr>\n",
       "    <tr>\n",
       "      <th>body</th>\n",
       "      <td>60</td>\n",
       "    </tr>\n",
       "    <tr>\n",
       "      <th>nr_of_doors</th>\n",
       "      <td>212</td>\n",
       "    </tr>\n",
       "    <tr>\n",
       "      <th>nr_of_seats</th>\n",
       "      <td>977</td>\n",
       "    </tr>\n",
       "    <tr>\n",
       "      <th>model_code</th>\n",
       "      <td>10941</td>\n",
       "    </tr>\n",
       "    <tr>\n",
       "      <th>gearing_type</th>\n",
       "      <td>0</td>\n",
       "    </tr>\n",
       "    <tr>\n",
       "      <th>displacement</th>\n",
       "      <td>496</td>\n",
       "    </tr>\n",
       "    <tr>\n",
       "      <th>cylinders</th>\n",
       "      <td>5680</td>\n",
       "    </tr>\n",
       "    <tr>\n",
       "      <th>weight</th>\n",
       "      <td>6974</td>\n",
       "    </tr>\n",
       "    <tr>\n",
       "      <th>drive_chain</th>\n",
       "      <td>6858</td>\n",
       "    </tr>\n",
       "    <tr>\n",
       "      <th>fuel</th>\n",
       "      <td>0</td>\n",
       "    </tr>\n",
       "    <tr>\n",
       "      <th>consumption</th>\n",
       "      <td>1906</td>\n",
       "    </tr>\n",
       "    <tr>\n",
       "      <th>co2_emission</th>\n",
       "      <td>1808</td>\n",
       "    </tr>\n",
       "    <tr>\n",
       "      <th>emission_class</th>\n",
       "      <td>3021</td>\n",
       "    </tr>\n",
       "    <tr>\n",
       "      <th>comfort_convenience</th>\n",
       "      <td>920</td>\n",
       "    </tr>\n",
       "    <tr>\n",
       "      <th>entertainment_media</th>\n",
       "      <td>1374</td>\n",
       "    </tr>\n",
       "    <tr>\n",
       "      <th>extras</th>\n",
       "      <td>2962</td>\n",
       "    </tr>\n",
       "    <tr>\n",
       "      <th>safety_security</th>\n",
       "      <td>982</td>\n",
       "    </tr>\n",
       "    <tr>\n",
       "      <th>description</th>\n",
       "      <td>0</td>\n",
       "    </tr>\n",
       "    <tr>\n",
       "      <th>emission_label</th>\n",
       "      <td>11934</td>\n",
       "    </tr>\n",
       "    <tr>\n",
       "      <th>gears</th>\n",
       "      <td>4712</td>\n",
       "    </tr>\n",
       "    <tr>\n",
       "      <th>country_version</th>\n",
       "      <td>8333</td>\n",
       "    </tr>\n",
       "    <tr>\n",
       "      <th>electricity_consumption</th>\n",
       "      <td>15782</td>\n",
       "    </tr>\n",
       "    <tr>\n",
       "      <th>last_service_date</th>\n",
       "      <td>15353</td>\n",
       "    </tr>\n",
       "    <tr>\n",
       "      <th>other_fuel_types</th>\n",
       "      <td>15039</td>\n",
       "    </tr>\n",
       "    <tr>\n",
       "      <th>availability</th>\n",
       "      <td>15284</td>\n",
       "    </tr>\n",
       "    <tr>\n",
       "      <th>last_timing_belt_service_date</th>\n",
       "      <td>15903</td>\n",
       "    </tr>\n",
       "    <tr>\n",
       "      <th>available_from</th>\n",
       "      <td>15647</td>\n",
       "    </tr>\n",
       "  </tbody>\n",
       "</table>\n",
       "</div>"
      ],
      "text/plain": [
       "                               isnull\n",
       "url                                 0\n",
       "make_model                          0\n",
       "short_description                  46\n",
       "body_type                          60\n",
       "price                               0\n",
       "vat                              4513\n",
       "km                                  0\n",
       "registration                        0\n",
       "prev_owner                       6828\n",
       "k_w                             15919\n",
       "hp                                  0\n",
       "type                                2\n",
       "previous_owners                  6640\n",
       "next_inspection                 12384\n",
       "inspection_new                  11987\n",
       "warranty                         5420\n",
       "full_service                     7704\n",
       "non_smoking_vehicle              8742\n",
       "null                                0\n",
       "make                                0\n",
       "model                               0\n",
       "offer_number                     3175\n",
       "first_registration               1597\n",
       "body_color                        597\n",
       "paint_type                       5772\n",
       "body_color_original              3759\n",
       "upholstery                       3720\n",
       "body                               60\n",
       "nr_of_doors                       212\n",
       "nr_of_seats                       977\n",
       "model_code                      10941\n",
       "gearing_type                        0\n",
       "displacement                      496\n",
       "cylinders                        5680\n",
       "weight                           6974\n",
       "drive_chain                      6858\n",
       "fuel                                0\n",
       "consumption                      1906\n",
       "co2_emission                     1808\n",
       "emission_class                   3021\n",
       "comfort_convenience               920\n",
       "entertainment_media              1374\n",
       "extras                           2962\n",
       "safety_security                   982\n",
       "description                         0\n",
       "emission_label                  11934\n",
       "gears                            4712\n",
       "country_version                  8333\n",
       "electricity_consumption         15782\n",
       "last_service_date               15353\n",
       "other_fuel_types                15039\n",
       "availability                    15284\n",
       "last_timing_belt_service_date   15903\n",
       "available_from                  15647"
      ]
     },
     "execution_count": 210,
     "metadata": {},
     "output_type": "execute_result"
    }
   ],
   "source": [
    "is_null = pd.DataFrame(df.isnull().sum(), columns = ['isnull'])\n",
    "is_null"
   ]
  },
  {
   "cell_type": "code",
   "execution_count": 211,
   "id": "726d67f9",
   "metadata": {},
   "outputs": [
    {
     "data": {
      "text/html": [
       "<div>\n",
       "<style scoped>\n",
       "    .dataframe tbody tr th:only-of-type {\n",
       "        vertical-align: middle;\n",
       "    }\n",
       "\n",
       "    .dataframe tbody tr th {\n",
       "        vertical-align: top;\n",
       "    }\n",
       "\n",
       "    .dataframe thead th {\n",
       "        text-align: right;\n",
       "    }\n",
       "</style>\n",
       "<table border=\"1\" class=\"dataframe\">\n",
       "  <thead>\n",
       "    <tr style=\"text-align: right;\">\n",
       "      <th></th>\n",
       "      <th>percentage_null</th>\n",
       "    </tr>\n",
       "  </thead>\n",
       "  <tbody>\n",
       "    <tr>\n",
       "      <th>url</th>\n",
       "      <td>0.000</td>\n",
       "    </tr>\n",
       "    <tr>\n",
       "      <th>make_model</th>\n",
       "      <td>0.000</td>\n",
       "    </tr>\n",
       "    <tr>\n",
       "      <th>short_description</th>\n",
       "      <td>0.289</td>\n",
       "    </tr>\n",
       "    <tr>\n",
       "      <th>body_type</th>\n",
       "      <td>0.377</td>\n",
       "    </tr>\n",
       "    <tr>\n",
       "      <th>price</th>\n",
       "      <td>0.000</td>\n",
       "    </tr>\n",
       "    <tr>\n",
       "      <th>vat</th>\n",
       "      <td>28.350</td>\n",
       "    </tr>\n",
       "    <tr>\n",
       "      <th>km</th>\n",
       "      <td>0.000</td>\n",
       "    </tr>\n",
       "    <tr>\n",
       "      <th>registration</th>\n",
       "      <td>0.000</td>\n",
       "    </tr>\n",
       "    <tr>\n",
       "      <th>prev_owner</th>\n",
       "      <td>42.892</td>\n",
       "    </tr>\n",
       "    <tr>\n",
       "      <th>k_w</th>\n",
       "      <td>100.000</td>\n",
       "    </tr>\n",
       "    <tr>\n",
       "      <th>hp</th>\n",
       "      <td>0.000</td>\n",
       "    </tr>\n",
       "    <tr>\n",
       "      <th>type</th>\n",
       "      <td>0.013</td>\n",
       "    </tr>\n",
       "    <tr>\n",
       "      <th>previous_owners</th>\n",
       "      <td>41.711</td>\n",
       "    </tr>\n",
       "    <tr>\n",
       "      <th>next_inspection</th>\n",
       "      <td>77.794</td>\n",
       "    </tr>\n",
       "    <tr>\n",
       "      <th>inspection_new</th>\n",
       "      <td>75.300</td>\n",
       "    </tr>\n",
       "    <tr>\n",
       "      <th>warranty</th>\n",
       "      <td>34.047</td>\n",
       "    </tr>\n",
       "    <tr>\n",
       "      <th>full_service</th>\n",
       "      <td>48.395</td>\n",
       "    </tr>\n",
       "    <tr>\n",
       "      <th>non_smoking_vehicle</th>\n",
       "      <td>54.916</td>\n",
       "    </tr>\n",
       "    <tr>\n",
       "      <th>null</th>\n",
       "      <td>0.000</td>\n",
       "    </tr>\n",
       "    <tr>\n",
       "      <th>make</th>\n",
       "      <td>0.000</td>\n",
       "    </tr>\n",
       "    <tr>\n",
       "      <th>model</th>\n",
       "      <td>0.000</td>\n",
       "    </tr>\n",
       "    <tr>\n",
       "      <th>offer_number</th>\n",
       "      <td>19.945</td>\n",
       "    </tr>\n",
       "    <tr>\n",
       "      <th>first_registration</th>\n",
       "      <td>10.032</td>\n",
       "    </tr>\n",
       "    <tr>\n",
       "      <th>body_color</th>\n",
       "      <td>3.750</td>\n",
       "    </tr>\n",
       "    <tr>\n",
       "      <th>paint_type</th>\n",
       "      <td>36.259</td>\n",
       "    </tr>\n",
       "    <tr>\n",
       "      <th>body_color_original</th>\n",
       "      <td>23.613</td>\n",
       "    </tr>\n",
       "    <tr>\n",
       "      <th>upholstery</th>\n",
       "      <td>23.368</td>\n",
       "    </tr>\n",
       "    <tr>\n",
       "      <th>body</th>\n",
       "      <td>0.377</td>\n",
       "    </tr>\n",
       "    <tr>\n",
       "      <th>nr_of_doors</th>\n",
       "      <td>1.332</td>\n",
       "    </tr>\n",
       "    <tr>\n",
       "      <th>nr_of_seats</th>\n",
       "      <td>6.137</td>\n",
       "    </tr>\n",
       "    <tr>\n",
       "      <th>model_code</th>\n",
       "      <td>68.729</td>\n",
       "    </tr>\n",
       "    <tr>\n",
       "      <th>gearing_type</th>\n",
       "      <td>0.000</td>\n",
       "    </tr>\n",
       "    <tr>\n",
       "      <th>displacement</th>\n",
       "      <td>3.116</td>\n",
       "    </tr>\n",
       "    <tr>\n",
       "      <th>cylinders</th>\n",
       "      <td>35.681</td>\n",
       "    </tr>\n",
       "    <tr>\n",
       "      <th>weight</th>\n",
       "      <td>43.809</td>\n",
       "    </tr>\n",
       "    <tr>\n",
       "      <th>drive_chain</th>\n",
       "      <td>43.081</td>\n",
       "    </tr>\n",
       "    <tr>\n",
       "      <th>fuel</th>\n",
       "      <td>0.000</td>\n",
       "    </tr>\n",
       "    <tr>\n",
       "      <th>consumption</th>\n",
       "      <td>11.973</td>\n",
       "    </tr>\n",
       "    <tr>\n",
       "      <th>co2_emission</th>\n",
       "      <td>11.357</td>\n",
       "    </tr>\n",
       "    <tr>\n",
       "      <th>emission_class</th>\n",
       "      <td>18.977</td>\n",
       "    </tr>\n",
       "    <tr>\n",
       "      <th>comfort_convenience</th>\n",
       "      <td>5.779</td>\n",
       "    </tr>\n",
       "    <tr>\n",
       "      <th>entertainment_media</th>\n",
       "      <td>8.631</td>\n",
       "    </tr>\n",
       "    <tr>\n",
       "      <th>extras</th>\n",
       "      <td>18.607</td>\n",
       "    </tr>\n",
       "    <tr>\n",
       "      <th>safety_security</th>\n",
       "      <td>6.169</td>\n",
       "    </tr>\n",
       "    <tr>\n",
       "      <th>description</th>\n",
       "      <td>0.000</td>\n",
       "    </tr>\n",
       "    <tr>\n",
       "      <th>emission_label</th>\n",
       "      <td>74.967</td>\n",
       "    </tr>\n",
       "    <tr>\n",
       "      <th>gears</th>\n",
       "      <td>29.600</td>\n",
       "    </tr>\n",
       "    <tr>\n",
       "      <th>country_version</th>\n",
       "      <td>52.346</td>\n",
       "    </tr>\n",
       "    <tr>\n",
       "      <th>electricity_consumption</th>\n",
       "      <td>99.139</td>\n",
       "    </tr>\n",
       "    <tr>\n",
       "      <th>last_service_date</th>\n",
       "      <td>96.445</td>\n",
       "    </tr>\n",
       "    <tr>\n",
       "      <th>other_fuel_types</th>\n",
       "      <td>94.472</td>\n",
       "    </tr>\n",
       "    <tr>\n",
       "      <th>availability</th>\n",
       "      <td>96.011</td>\n",
       "    </tr>\n",
       "    <tr>\n",
       "      <th>last_timing_belt_service_date</th>\n",
       "      <td>99.899</td>\n",
       "    </tr>\n",
       "    <tr>\n",
       "      <th>available_from</th>\n",
       "      <td>98.291</td>\n",
       "    </tr>\n",
       "  </tbody>\n",
       "</table>\n",
       "</div>"
      ],
      "text/plain": [
       "                               percentage_null\n",
       "url                                      0.000\n",
       "make_model                               0.000\n",
       "short_description                        0.289\n",
       "body_type                                0.377\n",
       "price                                    0.000\n",
       "vat                                     28.350\n",
       "km                                       0.000\n",
       "registration                             0.000\n",
       "prev_owner                              42.892\n",
       "k_w                                    100.000\n",
       "hp                                       0.000\n",
       "type                                     0.013\n",
       "previous_owners                         41.711\n",
       "next_inspection                         77.794\n",
       "inspection_new                          75.300\n",
       "warranty                                34.047\n",
       "full_service                            48.395\n",
       "non_smoking_vehicle                     54.916\n",
       "null                                     0.000\n",
       "make                                     0.000\n",
       "model                                    0.000\n",
       "offer_number                            19.945\n",
       "first_registration                      10.032\n",
       "body_color                               3.750\n",
       "paint_type                              36.259\n",
       "body_color_original                     23.613\n",
       "upholstery                              23.368\n",
       "body                                     0.377\n",
       "nr_of_doors                              1.332\n",
       "nr_of_seats                              6.137\n",
       "model_code                              68.729\n",
       "gearing_type                             0.000\n",
       "displacement                             3.116\n",
       "cylinders                               35.681\n",
       "weight                                  43.809\n",
       "drive_chain                             43.081\n",
       "fuel                                     0.000\n",
       "consumption                             11.973\n",
       "co2_emission                            11.357\n",
       "emission_class                          18.977\n",
       "comfort_convenience                      5.779\n",
       "entertainment_media                      8.631\n",
       "extras                                  18.607\n",
       "safety_security                          6.169\n",
       "description                              0.000\n",
       "emission_label                          74.967\n",
       "gears                                   29.600\n",
       "country_version                         52.346\n",
       "electricity_consumption                 99.139\n",
       "last_service_date                       96.445\n",
       "other_fuel_types                        94.472\n",
       "availability                            96.011\n",
       "last_timing_belt_service_date           99.899\n",
       "available_from                          98.291"
      ]
     },
     "execution_count": 211,
     "metadata": {},
     "output_type": "execute_result"
    }
   ],
   "source": [
    "percentage_null = pd.DataFrame(df.isnull().sum()/df.shape[0]*100, columns = ['percentage_null'])\n",
    "percentage_null"
   ]
  },
  {
   "cell_type": "code",
   "execution_count": 212,
   "id": "32c3ab1c",
   "metadata": {},
   "outputs": [
    {
     "data": {
      "text/html": [
       "<div>\n",
       "<style scoped>\n",
       "    .dataframe tbody tr th:only-of-type {\n",
       "        vertical-align: middle;\n",
       "    }\n",
       "\n",
       "    .dataframe tbody tr th {\n",
       "        vertical-align: top;\n",
       "    }\n",
       "\n",
       "    .dataframe thead th {\n",
       "        text-align: right;\n",
       "    }\n",
       "</style>\n",
       "<table border=\"1\" class=\"dataframe\">\n",
       "  <thead>\n",
       "    <tr style=\"text-align: right;\">\n",
       "      <th></th>\n",
       "      <th>Columns</th>\n",
       "      <th>isnull</th>\n",
       "      <th>percentage_null</th>\n",
       "    </tr>\n",
       "  </thead>\n",
       "  <tbody>\n",
       "    <tr>\n",
       "      <th>0</th>\n",
       "      <td>url</td>\n",
       "      <td>0</td>\n",
       "      <td>0.000</td>\n",
       "    </tr>\n",
       "    <tr>\n",
       "      <th>1</th>\n",
       "      <td>make_model</td>\n",
       "      <td>0</td>\n",
       "      <td>0.000</td>\n",
       "    </tr>\n",
       "    <tr>\n",
       "      <th>2</th>\n",
       "      <td>short_description</td>\n",
       "      <td>46</td>\n",
       "      <td>0.289</td>\n",
       "    </tr>\n",
       "    <tr>\n",
       "      <th>3</th>\n",
       "      <td>body_type</td>\n",
       "      <td>60</td>\n",
       "      <td>0.377</td>\n",
       "    </tr>\n",
       "    <tr>\n",
       "      <th>4</th>\n",
       "      <td>price</td>\n",
       "      <td>0</td>\n",
       "      <td>0.000</td>\n",
       "    </tr>\n",
       "    <tr>\n",
       "      <th>5</th>\n",
       "      <td>vat</td>\n",
       "      <td>4513</td>\n",
       "      <td>28.350</td>\n",
       "    </tr>\n",
       "    <tr>\n",
       "      <th>6</th>\n",
       "      <td>km</td>\n",
       "      <td>0</td>\n",
       "      <td>0.000</td>\n",
       "    </tr>\n",
       "    <tr>\n",
       "      <th>7</th>\n",
       "      <td>registration</td>\n",
       "      <td>0</td>\n",
       "      <td>0.000</td>\n",
       "    </tr>\n",
       "    <tr>\n",
       "      <th>8</th>\n",
       "      <td>prev_owner</td>\n",
       "      <td>6828</td>\n",
       "      <td>42.892</td>\n",
       "    </tr>\n",
       "    <tr>\n",
       "      <th>9</th>\n",
       "      <td>k_w</td>\n",
       "      <td>15919</td>\n",
       "      <td>100.000</td>\n",
       "    </tr>\n",
       "    <tr>\n",
       "      <th>10</th>\n",
       "      <td>hp</td>\n",
       "      <td>0</td>\n",
       "      <td>0.000</td>\n",
       "    </tr>\n",
       "    <tr>\n",
       "      <th>11</th>\n",
       "      <td>type</td>\n",
       "      <td>2</td>\n",
       "      <td>0.013</td>\n",
       "    </tr>\n",
       "    <tr>\n",
       "      <th>12</th>\n",
       "      <td>previous_owners</td>\n",
       "      <td>6640</td>\n",
       "      <td>41.711</td>\n",
       "    </tr>\n",
       "    <tr>\n",
       "      <th>13</th>\n",
       "      <td>next_inspection</td>\n",
       "      <td>12384</td>\n",
       "      <td>77.794</td>\n",
       "    </tr>\n",
       "    <tr>\n",
       "      <th>14</th>\n",
       "      <td>inspection_new</td>\n",
       "      <td>11987</td>\n",
       "      <td>75.300</td>\n",
       "    </tr>\n",
       "    <tr>\n",
       "      <th>15</th>\n",
       "      <td>warranty</td>\n",
       "      <td>5420</td>\n",
       "      <td>34.047</td>\n",
       "    </tr>\n",
       "    <tr>\n",
       "      <th>16</th>\n",
       "      <td>full_service</td>\n",
       "      <td>7704</td>\n",
       "      <td>48.395</td>\n",
       "    </tr>\n",
       "    <tr>\n",
       "      <th>17</th>\n",
       "      <td>non_smoking_vehicle</td>\n",
       "      <td>8742</td>\n",
       "      <td>54.916</td>\n",
       "    </tr>\n",
       "    <tr>\n",
       "      <th>18</th>\n",
       "      <td>null</td>\n",
       "      <td>0</td>\n",
       "      <td>0.000</td>\n",
       "    </tr>\n",
       "    <tr>\n",
       "      <th>19</th>\n",
       "      <td>make</td>\n",
       "      <td>0</td>\n",
       "      <td>0.000</td>\n",
       "    </tr>\n",
       "    <tr>\n",
       "      <th>20</th>\n",
       "      <td>model</td>\n",
       "      <td>0</td>\n",
       "      <td>0.000</td>\n",
       "    </tr>\n",
       "    <tr>\n",
       "      <th>21</th>\n",
       "      <td>offer_number</td>\n",
       "      <td>3175</td>\n",
       "      <td>19.945</td>\n",
       "    </tr>\n",
       "    <tr>\n",
       "      <th>22</th>\n",
       "      <td>first_registration</td>\n",
       "      <td>1597</td>\n",
       "      <td>10.032</td>\n",
       "    </tr>\n",
       "    <tr>\n",
       "      <th>23</th>\n",
       "      <td>body_color</td>\n",
       "      <td>597</td>\n",
       "      <td>3.750</td>\n",
       "    </tr>\n",
       "    <tr>\n",
       "      <th>24</th>\n",
       "      <td>paint_type</td>\n",
       "      <td>5772</td>\n",
       "      <td>36.259</td>\n",
       "    </tr>\n",
       "    <tr>\n",
       "      <th>25</th>\n",
       "      <td>body_color_original</td>\n",
       "      <td>3759</td>\n",
       "      <td>23.613</td>\n",
       "    </tr>\n",
       "    <tr>\n",
       "      <th>26</th>\n",
       "      <td>upholstery</td>\n",
       "      <td>3720</td>\n",
       "      <td>23.368</td>\n",
       "    </tr>\n",
       "    <tr>\n",
       "      <th>27</th>\n",
       "      <td>body</td>\n",
       "      <td>60</td>\n",
       "      <td>0.377</td>\n",
       "    </tr>\n",
       "    <tr>\n",
       "      <th>28</th>\n",
       "      <td>nr_of_doors</td>\n",
       "      <td>212</td>\n",
       "      <td>1.332</td>\n",
       "    </tr>\n",
       "    <tr>\n",
       "      <th>29</th>\n",
       "      <td>nr_of_seats</td>\n",
       "      <td>977</td>\n",
       "      <td>6.137</td>\n",
       "    </tr>\n",
       "    <tr>\n",
       "      <th>30</th>\n",
       "      <td>model_code</td>\n",
       "      <td>10941</td>\n",
       "      <td>68.729</td>\n",
       "    </tr>\n",
       "    <tr>\n",
       "      <th>31</th>\n",
       "      <td>gearing_type</td>\n",
       "      <td>0</td>\n",
       "      <td>0.000</td>\n",
       "    </tr>\n",
       "    <tr>\n",
       "      <th>32</th>\n",
       "      <td>displacement</td>\n",
       "      <td>496</td>\n",
       "      <td>3.116</td>\n",
       "    </tr>\n",
       "    <tr>\n",
       "      <th>33</th>\n",
       "      <td>cylinders</td>\n",
       "      <td>5680</td>\n",
       "      <td>35.681</td>\n",
       "    </tr>\n",
       "    <tr>\n",
       "      <th>34</th>\n",
       "      <td>weight</td>\n",
       "      <td>6974</td>\n",
       "      <td>43.809</td>\n",
       "    </tr>\n",
       "    <tr>\n",
       "      <th>35</th>\n",
       "      <td>drive_chain</td>\n",
       "      <td>6858</td>\n",
       "      <td>43.081</td>\n",
       "    </tr>\n",
       "    <tr>\n",
       "      <th>36</th>\n",
       "      <td>fuel</td>\n",
       "      <td>0</td>\n",
       "      <td>0.000</td>\n",
       "    </tr>\n",
       "    <tr>\n",
       "      <th>37</th>\n",
       "      <td>consumption</td>\n",
       "      <td>1906</td>\n",
       "      <td>11.973</td>\n",
       "    </tr>\n",
       "    <tr>\n",
       "      <th>38</th>\n",
       "      <td>co2_emission</td>\n",
       "      <td>1808</td>\n",
       "      <td>11.357</td>\n",
       "    </tr>\n",
       "    <tr>\n",
       "      <th>39</th>\n",
       "      <td>emission_class</td>\n",
       "      <td>3021</td>\n",
       "      <td>18.977</td>\n",
       "    </tr>\n",
       "    <tr>\n",
       "      <th>40</th>\n",
       "      <td>comfort_convenience</td>\n",
       "      <td>920</td>\n",
       "      <td>5.779</td>\n",
       "    </tr>\n",
       "    <tr>\n",
       "      <th>41</th>\n",
       "      <td>entertainment_media</td>\n",
       "      <td>1374</td>\n",
       "      <td>8.631</td>\n",
       "    </tr>\n",
       "    <tr>\n",
       "      <th>42</th>\n",
       "      <td>extras</td>\n",
       "      <td>2962</td>\n",
       "      <td>18.607</td>\n",
       "    </tr>\n",
       "    <tr>\n",
       "      <th>43</th>\n",
       "      <td>safety_security</td>\n",
       "      <td>982</td>\n",
       "      <td>6.169</td>\n",
       "    </tr>\n",
       "    <tr>\n",
       "      <th>44</th>\n",
       "      <td>description</td>\n",
       "      <td>0</td>\n",
       "      <td>0.000</td>\n",
       "    </tr>\n",
       "    <tr>\n",
       "      <th>45</th>\n",
       "      <td>emission_label</td>\n",
       "      <td>11934</td>\n",
       "      <td>74.967</td>\n",
       "    </tr>\n",
       "    <tr>\n",
       "      <th>46</th>\n",
       "      <td>gears</td>\n",
       "      <td>4712</td>\n",
       "      <td>29.600</td>\n",
       "    </tr>\n",
       "    <tr>\n",
       "      <th>47</th>\n",
       "      <td>country_version</td>\n",
       "      <td>8333</td>\n",
       "      <td>52.346</td>\n",
       "    </tr>\n",
       "    <tr>\n",
       "      <th>48</th>\n",
       "      <td>electricity_consumption</td>\n",
       "      <td>15782</td>\n",
       "      <td>99.139</td>\n",
       "    </tr>\n",
       "    <tr>\n",
       "      <th>49</th>\n",
       "      <td>last_service_date</td>\n",
       "      <td>15353</td>\n",
       "      <td>96.445</td>\n",
       "    </tr>\n",
       "    <tr>\n",
       "      <th>50</th>\n",
       "      <td>other_fuel_types</td>\n",
       "      <td>15039</td>\n",
       "      <td>94.472</td>\n",
       "    </tr>\n",
       "    <tr>\n",
       "      <th>51</th>\n",
       "      <td>availability</td>\n",
       "      <td>15284</td>\n",
       "      <td>96.011</td>\n",
       "    </tr>\n",
       "    <tr>\n",
       "      <th>52</th>\n",
       "      <td>last_timing_belt_service_date</td>\n",
       "      <td>15903</td>\n",
       "      <td>99.899</td>\n",
       "    </tr>\n",
       "    <tr>\n",
       "      <th>53</th>\n",
       "      <td>available_from</td>\n",
       "      <td>15647</td>\n",
       "      <td>98.291</td>\n",
       "    </tr>\n",
       "  </tbody>\n",
       "</table>\n",
       "</div>"
      ],
      "text/plain": [
       "                          Columns  isnull  percentage_null\n",
       "0                             url       0            0.000\n",
       "1                      make_model       0            0.000\n",
       "2               short_description      46            0.289\n",
       "3                       body_type      60            0.377\n",
       "4                           price       0            0.000\n",
       "5                             vat    4513           28.350\n",
       "6                              km       0            0.000\n",
       "7                    registration       0            0.000\n",
       "8                      prev_owner    6828           42.892\n",
       "9                             k_w   15919          100.000\n",
       "10                             hp       0            0.000\n",
       "11                           type       2            0.013\n",
       "12                previous_owners    6640           41.711\n",
       "13                next_inspection   12384           77.794\n",
       "14                 inspection_new   11987           75.300\n",
       "15                       warranty    5420           34.047\n",
       "16                   full_service    7704           48.395\n",
       "17            non_smoking_vehicle    8742           54.916\n",
       "18                           null       0            0.000\n",
       "19                           make       0            0.000\n",
       "20                          model       0            0.000\n",
       "21                   offer_number    3175           19.945\n",
       "22             first_registration    1597           10.032\n",
       "23                     body_color     597            3.750\n",
       "24                     paint_type    5772           36.259\n",
       "25            body_color_original    3759           23.613\n",
       "26                     upholstery    3720           23.368\n",
       "27                           body      60            0.377\n",
       "28                    nr_of_doors     212            1.332\n",
       "29                    nr_of_seats     977            6.137\n",
       "30                     model_code   10941           68.729\n",
       "31                   gearing_type       0            0.000\n",
       "32                   displacement     496            3.116\n",
       "33                      cylinders    5680           35.681\n",
       "34                         weight    6974           43.809\n",
       "35                    drive_chain    6858           43.081\n",
       "36                           fuel       0            0.000\n",
       "37                    consumption    1906           11.973\n",
       "38                   co2_emission    1808           11.357\n",
       "39                 emission_class    3021           18.977\n",
       "40            comfort_convenience     920            5.779\n",
       "41            entertainment_media    1374            8.631\n",
       "42                         extras    2962           18.607\n",
       "43                safety_security     982            6.169\n",
       "44                    description       0            0.000\n",
       "45                 emission_label   11934           74.967\n",
       "46                          gears    4712           29.600\n",
       "47                country_version    8333           52.346\n",
       "48        electricity_consumption   15782           99.139\n",
       "49              last_service_date   15353           96.445\n",
       "50               other_fuel_types   15039           94.472\n",
       "51                   availability   15284           96.011\n",
       "52  last_timing_belt_service_date   15903           99.899\n",
       "53                 available_from   15647           98.291"
      ]
     },
     "execution_count": 212,
     "metadata": {},
     "output_type": "execute_result"
    }
   ],
   "source": [
    "summary_null = pd.concat([is_null, percentage_null], axis = 1).reset_index().rename({'index':'Columns'},axis = 1)\n",
    "summary_null"
   ]
  },
  {
   "cell_type": "markdown",
   "id": "cbfe738e",
   "metadata": {},
   "source": [
    "# Droping columns that have missing values more than %80."
   ]
  },
  {
   "cell_type": "code",
   "execution_count": 213,
   "id": "952bf819",
   "metadata": {},
   "outputs": [],
   "source": [
    "def df_nans(df, limit):\n",
    "    missing = df.isnull().sum()*100 / df.shape[0]\n",
    "    return missing.loc[lambda x : x >= limit]\n",
    "\n",
    "def column_nans(serial):\n",
    "    # display percentage of nans in a Series\n",
    "    return serial.isnull().sum()*100 / serial.shape[0]"
   ]
  },
  {
   "cell_type": "code",
   "execution_count": 214,
   "id": "33f74933",
   "metadata": {},
   "outputs": [
    {
     "data": {
      "text/plain": [
       "k_w                             100.000\n",
       "electricity_consumption          99.139\n",
       "last_service_date                96.445\n",
       "other_fuel_types                 94.472\n",
       "availability                     96.011\n",
       "last_timing_belt_service_date    99.899\n",
       "available_from                   98.291\n",
       "dtype: float64"
      ]
     },
     "execution_count": 214,
     "metadata": {},
     "output_type": "execute_result"
    }
   ],
   "source": [
    "df_nans(df, 90)"
   ]
  },
  {
   "cell_type": "code",
   "execution_count": 215,
   "id": "c44065f9",
   "metadata": {},
   "outputs": [
    {
     "data": {
      "text/plain": [
       "k_w                             100.000\n",
       "electricity_consumption          99.139\n",
       "last_service_date                96.445\n",
       "other_fuel_types                 94.472\n",
       "availability                     96.011\n",
       "last_timing_belt_service_date    99.899\n",
       "available_from                   98.291\n",
       "dtype: float64"
      ]
     },
     "execution_count": 215,
     "metadata": {},
     "output_type": "execute_result"
    }
   ],
   "source": [
    "df_nans(df, 80)"
   ]
  },
  {
   "cell_type": "code",
   "execution_count": 216,
   "id": "c5b3d467",
   "metadata": {},
   "outputs": [
    {
     "data": {
      "text/plain": [
       "Index(['k_w', 'electricity_consumption', 'last_service_date',\n",
       "       'other_fuel_types', 'availability', 'last_timing_belt_service_date',\n",
       "       'available_from'],\n",
       "      dtype='object')"
      ]
     },
     "execution_count": 216,
     "metadata": {},
     "output_type": "execute_result"
    }
   ],
   "source": [
    "drop_columns = df_nans(df, 80).index\n",
    "drop_columns"
   ]
  },
  {
   "cell_type": "code",
   "execution_count": 217,
   "id": "d0827e48",
   "metadata": {},
   "outputs": [],
   "source": [
    "df.drop(drop_columns, axis=1, inplace=True)"
   ]
  },
  {
   "cell_type": "code",
   "execution_count": 218,
   "id": "c549ee6a",
   "metadata": {},
   "outputs": [
    {
     "data": {
      "text/plain": [
       "(15919, 47)"
      ]
     },
     "execution_count": 218,
     "metadata": {},
     "output_type": "execute_result"
    }
   ],
   "source": [
    "df.shape"
   ]
  },
  {
   "cell_type": "code",
   "execution_count": 219,
   "id": "28b03aa2",
   "metadata": {},
   "outputs": [
    {
     "data": {
      "text/plain": [
       "[]    15919\n",
       "Name: null, dtype: int64"
      ]
     },
     "execution_count": 219,
     "metadata": {},
     "output_type": "execute_result"
    }
   ],
   "source": [
    "df[\"null\"].value_counts()"
   ]
  },
  {
   "cell_type": "code",
   "execution_count": 220,
   "id": "32e5ce74",
   "metadata": {},
   "outputs": [],
   "source": [
    "df.drop(\"null\", axis=1, inplace=True)"
   ]
  },
  {
   "cell_type": "markdown",
   "id": "30ff51be",
   "metadata": {},
   "source": [
    "## Let's examine and clean all the columns/features one by one"
   ]
  },
  {
   "cell_type": "markdown",
   "id": "34f3bc4a",
   "metadata": {},
   "source": [
    "# url"
   ]
  },
  {
   "cell_type": "code",
   "execution_count": 221,
   "id": "766b2ba0",
   "metadata": {
    "scrolled": true
   },
   "outputs": [
    {
     "data": {
      "text/plain": [
       "https://www.autoscout24.com//offers/audi-a1-sportback-1-4-tdi-s-tronic-xenon-navi-klima-diesel-black-bdab349a-caa5-41b0-98eb-c1345b84445e                  1\n",
       "https://www.autoscout24.com//offers/opel-insignia-bus-inno-2-0-cdti-aut-navi-bi-xe-led-e6-diesel-black-8710b253-dd98-4ed0-9d46-cbad2d79532b                1\n",
       "https://www.autoscout24.com//offers/opel-insignia-sport-tourer-opel-sport-tourer-1-6-cdti-136-ch-a-c-diesel-silver-10b7463b-9f56-4348-af35-df3432b2b585    1\n",
       "https://www.autoscout24.com//offers/opel-insignia-2-0cdti-st-business-innovation-navi-bt-diesel-black-ba5a3368-dedc-4e51-9127-3976b26e93c2                 1\n",
       "https://www.autoscout24.com//offers/opel-insignia-sport-tourer-opel-sport-tourer-1-6-cdti-136-ch-a-c-diesel-silver-7b52f054-78d3-4d5e-9370-8a7d081d7edd    1\n",
       "                                                                                                                                                          ..\n",
       "https://www.autoscout24.com//offers/audi-a3-sb-30-1-6-tdi-business-116cv-s-tronic-diesel-black-cf50f7b1-4d7b-466f-93a2-4e11ec0b4107                        1\n",
       "https://www.autoscout24.com//offers/audi-a3-sb-30-1-6-tdi-business-116cv-s-tronic-diesel-grey-3f47eb34-15c4-4763-860d-78fcbbd2c9ff                         1\n",
       "https://www.autoscout24.com//offers/audi-a3-sb-30-1-6-tdi-business-116cv-s-tronic-diesel-silver-f7a4bc95-b2ef-4bac-9497-6bcbcd05db0b                       1\n",
       "https://www.autoscout24.com//offers/audi-a3-sb-30-1-6-tdi-business-116cv-s-tronic-diesel-silver-1c94c7a2-67b5-49ca-ae42-42a6800fb3f5                       1\n",
       "https://www.autoscout24.com//offers/renault-espace-initiale-paris-tce-225-edc-gpf-navi-shz-aux-gasoline-grey-0bd690d9-7e93-4cab-bc5a-9d5b63402481          1\n",
       "Name: url, Length: 15919, dtype: int64"
      ]
     },
     "execution_count": 221,
     "metadata": {},
     "output_type": "execute_result"
    }
   ],
   "source": [
    "df.url.value_counts(dropna=False)"
   ]
  },
  {
   "cell_type": "code",
   "execution_count": 222,
   "id": "eaae7898",
   "metadata": {},
   "outputs": [],
   "source": [
    "# A data analyst should primarily benefit from all incoming data s/he encounters; HOWEVER,\n",
    "# Even if url contains some information, we do NOT need it since this information can be obtained from other features.\n",
    "\n",
    "df.drop(\"url\", axis=1, inplace=True)"
   ]
  },
  {
   "cell_type": "code",
   "execution_count": 223,
   "id": "6073f7d8",
   "metadata": {},
   "outputs": [],
   "source": [
    "#Cleaning apply a function on some features in first_list.\n",
    "\n",
    "def out_of_list(column_list, data):\n",
    "    for item in column_list:\n",
    "        data[item] = data[item].apply(lambda x: x[0] if type(x) == list else x)\n",
    "        "
   ]
  },
  {
   "cell_type": "code",
   "execution_count": 224,
   "id": "c60c4c6c",
   "metadata": {},
   "outputs": [],
   "source": [
    "\n",
    "first_list = ['make', 'upholstery', 'displacement', 'cylinders', 'drive_chain', 'gears',\"previous_owners\",'body_color_original',\n",
    "                 \"nr_of_doors\",\"nr_of_seats\",\"weight\",\"co2_emission\",\"emission_class\"]\n"
   ]
  },
  {
   "cell_type": "code",
   "execution_count": 225,
   "id": "024ecef3",
   "metadata": {},
   "outputs": [],
   "source": [
    "out_of_list(first_list, df)"
   ]
  },
  {
   "cell_type": "code",
   "execution_count": 226,
   "id": "0d2a471f",
   "metadata": {},
   "outputs": [],
   "source": [
    "#Then let's clean the '\\n' parts.\n",
    "for i in first_list:\n",
    "    df[i] = df[i].str.replace(\"\\n\", \"\", regex = False)"
   ]
  },
  {
   "cell_type": "code",
   "execution_count": 227,
   "id": "9e6ea7bc",
   "metadata": {},
   "outputs": [],
   "source": [
    "\n",
    "second_list = ['model', 'body_color', 'gearing_type', 'fuel']\n"
   ]
  },
  {
   "cell_type": "code",
   "execution_count": 228,
   "id": "e3d89dd4",
   "metadata": {},
   "outputs": [],
   "source": [
    "\n",
    "for item in second_list:\n",
    "    df[item] = df[item].apply(lambda x: x[1] if type(x) == list else x)\n",
    "    "
   ]
  },
  {
   "cell_type": "code",
   "execution_count": 229,
   "id": "24b1b96d",
   "metadata": {},
   "outputs": [
    {
     "data": {
      "text/html": [
       "<div>\n",
       "<style scoped>\n",
       "    .dataframe tbody tr th:only-of-type {\n",
       "        vertical-align: middle;\n",
       "    }\n",
       "\n",
       "    .dataframe tbody tr th {\n",
       "        vertical-align: top;\n",
       "    }\n",
       "\n",
       "    .dataframe thead th {\n",
       "        text-align: right;\n",
       "    }\n",
       "</style>\n",
       "<table border=\"1\" class=\"dataframe\">\n",
       "  <thead>\n",
       "    <tr style=\"text-align: right;\">\n",
       "      <th></th>\n",
       "      <th>make_model</th>\n",
       "      <th>make</th>\n",
       "      <th>model</th>\n",
       "    </tr>\n",
       "  </thead>\n",
       "  <tbody>\n",
       "    <tr>\n",
       "      <th>4422</th>\n",
       "      <td>Audi A3</td>\n",
       "      <td>Audi</td>\n",
       "      <td>A3</td>\n",
       "    </tr>\n",
       "    <tr>\n",
       "      <th>7993</th>\n",
       "      <td>Opel Astra</td>\n",
       "      <td>Opel</td>\n",
       "      <td>Astra</td>\n",
       "    </tr>\n",
       "    <tr>\n",
       "      <th>14249</th>\n",
       "      <td>Renault Clio</td>\n",
       "      <td>Renault</td>\n",
       "      <td>Clio</td>\n",
       "    </tr>\n",
       "    <tr>\n",
       "      <th>4103</th>\n",
       "      <td>Audi A3</td>\n",
       "      <td>Audi</td>\n",
       "      <td>A3</td>\n",
       "    </tr>\n",
       "    <tr>\n",
       "      <th>1062</th>\n",
       "      <td>Audi A1</td>\n",
       "      <td>Audi</td>\n",
       "      <td>A1</td>\n",
       "    </tr>\n",
       "    <tr>\n",
       "      <th>6999</th>\n",
       "      <td>Opel Astra</td>\n",
       "      <td>Opel</td>\n",
       "      <td>Astra</td>\n",
       "    </tr>\n",
       "    <tr>\n",
       "      <th>8854</th>\n",
       "      <td>Opel Corsa</td>\n",
       "      <td>Opel</td>\n",
       "      <td>Corsa</td>\n",
       "    </tr>\n",
       "    <tr>\n",
       "      <th>779</th>\n",
       "      <td>Audi A1</td>\n",
       "      <td>Audi</td>\n",
       "      <td>A1</td>\n",
       "    </tr>\n",
       "    <tr>\n",
       "      <th>10726</th>\n",
       "      <td>Opel Insignia</td>\n",
       "      <td>Opel</td>\n",
       "      <td>Insignia</td>\n",
       "    </tr>\n",
       "    <tr>\n",
       "      <th>6009</th>\n",
       "      <td>Opel Astra</td>\n",
       "      <td>Opel</td>\n",
       "      <td>Astra</td>\n",
       "    </tr>\n",
       "    <tr>\n",
       "      <th>13313</th>\n",
       "      <td>Renault Clio</td>\n",
       "      <td>Renault</td>\n",
       "      <td>Clio</td>\n",
       "    </tr>\n",
       "    <tr>\n",
       "      <th>6825</th>\n",
       "      <td>Opel Astra</td>\n",
       "      <td>Opel</td>\n",
       "      <td>Astra</td>\n",
       "    </tr>\n",
       "    <tr>\n",
       "      <th>3345</th>\n",
       "      <td>Audi A3</td>\n",
       "      <td>Audi</td>\n",
       "      <td>A3</td>\n",
       "    </tr>\n",
       "    <tr>\n",
       "      <th>11809</th>\n",
       "      <td>Opel Insignia</td>\n",
       "      <td>Opel</td>\n",
       "      <td>Insignia</td>\n",
       "    </tr>\n",
       "    <tr>\n",
       "      <th>14061</th>\n",
       "      <td>Renault Clio</td>\n",
       "      <td>Renault</td>\n",
       "      <td>Clio</td>\n",
       "    </tr>\n",
       "    <tr>\n",
       "      <th>7096</th>\n",
       "      <td>Opel Astra</td>\n",
       "      <td>Opel</td>\n",
       "      <td>Astra</td>\n",
       "    </tr>\n",
       "    <tr>\n",
       "      <th>9900</th>\n",
       "      <td>Opel Corsa</td>\n",
       "      <td>Opel</td>\n",
       "      <td>Corsa</td>\n",
       "    </tr>\n",
       "    <tr>\n",
       "      <th>11246</th>\n",
       "      <td>Opel Insignia</td>\n",
       "      <td>Opel</td>\n",
       "      <td>Insignia</td>\n",
       "    </tr>\n",
       "    <tr>\n",
       "      <th>5222</th>\n",
       "      <td>Audi A3</td>\n",
       "      <td>Audi</td>\n",
       "      <td>A3</td>\n",
       "    </tr>\n",
       "    <tr>\n",
       "      <th>9793</th>\n",
       "      <td>Opel Corsa</td>\n",
       "      <td>Opel</td>\n",
       "      <td>Corsa</td>\n",
       "    </tr>\n",
       "  </tbody>\n",
       "</table>\n",
       "</div>"
      ],
      "text/plain": [
       "          make_model     make     model\n",
       "4422         Audi A3     Audi        A3\n",
       "7993      Opel Astra     Opel     Astra\n",
       "14249   Renault Clio  Renault      Clio\n",
       "4103         Audi A3     Audi        A3\n",
       "1062         Audi A1     Audi        A1\n",
       "6999      Opel Astra     Opel     Astra\n",
       "8854      Opel Corsa     Opel     Corsa\n",
       "779          Audi A1     Audi        A1\n",
       "10726  Opel Insignia     Opel  Insignia\n",
       "6009      Opel Astra     Opel     Astra\n",
       "13313   Renault Clio  Renault      Clio\n",
       "6825      Opel Astra     Opel     Astra\n",
       "3345         Audi A3     Audi        A3\n",
       "11809  Opel Insignia     Opel  Insignia\n",
       "14061   Renault Clio  Renault      Clio\n",
       "7096      Opel Astra     Opel     Astra\n",
       "9900      Opel Corsa     Opel     Corsa\n",
       "11246  Opel Insignia     Opel  Insignia\n",
       "5222         Audi A3     Audi        A3\n",
       "9793      Opel Corsa     Opel     Corsa"
      ]
     },
     "execution_count": 229,
     "metadata": {},
     "output_type": "execute_result"
    }
   ],
   "source": [
    "df[['make_model', 'make', 'model']].sample(20)"
   ]
  },
  {
   "cell_type": "code",
   "execution_count": 230,
   "id": "e88dc2e0",
   "metadata": {},
   "outputs": [],
   "source": [
    "df.drop([\"make\", \"model\"], axis=1, inplace=True)"
   ]
  },
  {
   "cell_type": "markdown",
   "id": "35a1e2a3",
   "metadata": {},
   "source": [
    "# Description & Short Description"
   ]
  },
  {
   "cell_type": "code",
   "execution_count": 231,
   "id": "c9542546",
   "metadata": {},
   "outputs": [
    {
     "data": {
      "text/plain": [
       "SPB 1.6 TDI 116 CV S tronic Sport                 64\n",
       "None                                              46\n",
       "1.4 66kW (90CV) Selective                         40\n",
       "MOVE KLIMA CD USB ALLWETTER BLUETOOTH             38\n",
       "SPB 30 TDI S tronic Business                      35\n",
       "                                                  ..\n",
       "K Sports Tourer Business **Navi*Voll**             1\n",
       "1.0 Turbo ecoFLEX Automatic Elective Park Navi     1\n",
       "1.6 CDTI Business *Navi*Automatik*Spurh.*          1\n",
       "1.6 136 CV Automatica Navi E 6 Garanzia Full       1\n",
       "TCe 225 EDC GPF LIM Deluxe Pano,RFK                1\n",
       "Name: short_description, Length: 10002, dtype: int64"
      ]
     },
     "execution_count": 231,
     "metadata": {},
     "output_type": "execute_result"
    }
   ],
   "source": [
    "df.short_description.value_counts(dropna=False)"
   ]
  },
  {
   "cell_type": "code",
   "execution_count": 232,
   "id": "de6256fc",
   "metadata": {},
   "outputs": [
    {
     "data": {
      "text/plain": [
       "10001"
      ]
     },
     "execution_count": 232,
     "metadata": {},
     "output_type": "execute_result"
    }
   ],
   "source": [
    "df['short_description'].nunique()"
   ]
  },
  {
   "cell_type": "code",
   "execution_count": 233,
   "id": "b3d77c5d",
   "metadata": {},
   "outputs": [],
   "source": [
    "df.drop(\"short_description\", axis=1, inplace=True)"
   ]
  },
  {
   "cell_type": "code",
   "execution_count": 234,
   "id": "c7cdd767",
   "metadata": {},
   "outputs": [
    {
     "data": {
      "text/plain": [
       "(15919, 42)"
      ]
     },
     "execution_count": 234,
     "metadata": {},
     "output_type": "execute_result"
    }
   ],
   "source": [
    "df.shape"
   ]
  },
  {
   "cell_type": "code",
   "execution_count": 235,
   "id": "2a3d9a10",
   "metadata": {},
   "outputs": [
    {
     "data": {
      "text/plain": [
       "[]                                                                                                                                                                                                                                                                                                                                                                                                                                                                                                                                                                                                                                                                                                                                                                                                                                                                                                                                                                                                                                                                                                                                                                                                                                                                                                                                                                                                                                                                                                                                                                                                                                                                                                                                                                                                                                                                                                                                                                                                                                                                                                                                                                                                                                                                                                                                                                                                                                                                                                                                                                                                                                                                                                                                                                                                                                                                                               636\n",
       "['\\n', '\\n']                                                                                                                                                                                                                                                                                                                                                                                                                                                                                                                                                                                                                                                                                                                                                                                                                                                                                                                                                                                                                                                                                                                                                                                                                                                                                                                                                                                                                                                                                                                                                                                                                                                                                                                                                                                                                                                                                                                                                                                                                                                                                                                                                                                                                                                                                                                                                                                                                                                                                                                                                                                                                                                                                                                                                                                                                                                                                      30\n",
       "['\\n', 'Fahrzeugbeschreibung', ' Sichern Sie sich diesen Renault Clio 1.6 TCE Energy Sport Trophy zum Top-Preis inklusive dem ', 'AUTOHERO-RUNDUM-SORGLOS-PAKET', ' ', 'Infos:', ' 1.Hand, deutsche Auslieferung, Unfallfrei, scheckheftgepflegt', ' ', 'Highlights', ' ', 'Audio-Navigationssystem R-Link Evolution mit Touchscreen und Carminat TomTom', ' ', 'Sportsitze ', ' ', 'Sportfahrwerk', ' ', 'Scheinwerfer Full-LED ', 'Komfort', ' ', 'Geschwindigkeits-Regelanlage (Tempomat) ', ' ', 'Klimaanlage', ' ', 'Einparkhilfe hinten', ' ', 'Multifunktionslenkrad (Sport/Leder) mit Schaltwippen/-tasten ', ' ', 'Fensterheber elektr. mit Impulsgeber links/rechts vorn', ' ', 'Zentralverriegelung / Startanlage Handsfree Entry & Drive ', ' ', 'Berganfahr-Assistent (HSA) ', 'Multimedia', ' ', 'Audiosystem: Radio R & GO (Bluetooth, DAB-Tuner)', ' ', 'Bordcomputer', ' ', 'Freisprecheinrichtung Bluetooth ', ' ', 'USB-Anschluss inkl. AUX-IN-Anschluss (Plug & Music) ', 'Licht und Sicht', ' ', 'Außenspiegel elektr. verstell- und heizbar ', ' ', 'Licht- und Regensensor ', ' ', 'Tagfahrlicht LED ', ' ', 'Nebelscheinwerfer LED ', ' ', 'Coming-Home-Lichtfunktion ', ' ', 'Heckleuchten LED ', 'Sicherheit', ' ', 'Isofix-Aufnahmen für Kindersitz ', ' ', 'Seitenairbag vorn', ' ', 'Wegfahrsperre', ' ', 'Differentialsperre', ' ', 'Bremsassistent ', ' ', 'Elektron. Stabilitäts-Programm (ESP)', ' ', 'Anti-Blockier-System (ABS)', ' ', 'Anti-Submarining-Airbag im Fond', ' ', 'Airbag Fahrer-/Beifahrerseite ', ' ', 'Differentialsperre ', ' ', 'Reifendruck-Kontrollsystem ', ' ', 'Untersteuerungskontrolle (USC) ', ' ', 'Antischlupfregelung (ASR) ', 'Weiteres', ' ', 'Start/Stop-Anlage ', ' ', 'Servolenkung geschwindigkeitsabhängig', ' ', 'R.S. Drive (Fahrmodusschalter) ', ' ', 'Gepäckraumabdeckung / Rollo ', ' ', 'Heckdiffusor ', ' ', 'LM-Felgen ', ' ', 'Heckspoiler (Renault Sport) ', ' ', 'Pedale Aluminium ', ' ', 'Energierückgewinnung (Energy Smart Management) ', ' ', 'Elektr. Bremskraftverteilung ', ' ', 'Reifen-Reparaturkit ', ' ', 'Sitzbezug / Polsterung: Stoff ', ' Ihr ', 'AUTOHERO-RUNDUM-SORGLOS-PAKET', ' beinhaltet:', 'Kostenlose Lieferung in Ihre Nähe', 'Optische & technische Aufbereitung', 'Mindestens 12 Monate gültige HU und AU', '1-Jahr-Premium-Garantie', 'Zulassung inklusive ', '14-Tage-Rückgaberecht', 'Markenunabhängige Inzahlungnahme ', 'Individuelle Finanzierungen zu fairen Konditionen', ' ', 'HIER GEHT ES ZUR 360° - ANSICHT DES FAHRZEUGES:', ':', 'https://www.autohero.com/de/renault-clio-1-6-tce-energy-renault-sport-trophy/id/f7ca29bf-e005-453f-bbc9-8c6fe892dec6/', ' ', 'Haftungsausschluss', ':', 'Für Angaben vom Verkäufer, des Herstellers oder von Datenbankabfragen übernimmt Autohero keine Haftung. Änderungen, Zwischenverkauf und Irrtümer sind vorbehalten.\\n']     27\n",
       "['\\nPosibilidad de prueba del vehículo hasta 5 días. Consultar condiciones. PVP para particulares. Varias unidades y colores disponibles. Precios publicados para vehículos industriales (furgonetas) válidos para compradores autónomos o empresas, consultar condiciones para particulares. Las imágenes y kilómetros pueden no corresponder con el modelo anunciado. Para confirmar póngase en contacto con nuestro departamento comercial. Consulta las excepcionales condiciones de financiación que tenemos disponibles. Precio de venta final IVA y gastos de transferencia incluidos. Horario de atención al cliente: Lunes a Viernes de 09:00 a 18:00.\\n']                                                                                                                                                                                                                                                                                                                                                                                                                                                                                                                                                                                                                                                                                                                                                                                                                                                                                                                                                                                                                                                                                                                                                                                                                                                                                                                                                                                                                                                                                                                                                                                                                                                                                                                                                                                                                                                                                                                                                                                                                                                                                                                                                                                                                               27\n",
       "['\\nSichern Sie sich diesen RENAULT CLIO 1.2 LIMITED zum Top-Preis inklusive dem', 'AUTOHERO-RUNDUM-SORGLOS-PAKET', ' ', 'Infos:', ' 2.Hand, mindestens 12 Monate gültige HU und AU, deutsche Ausführung, unfallfrei ', ' ', 'Highlights', ' ', 'Audio-Navigationssystem mit Touchscreen-Farbdisplay', 'Komfort', ' ', 'Klimaanlage ', ' ', 'Multifunktionslenkrad in Leder ', ' ', 'Berganfahr-Assistent (HSA)', ' ', 'Fensterheber elektrisch vorn ', ' ', 'Geschwindigkeits-Regelanlage (Tempomat) ', ' ', 'Heckscheibe heizbar ', ' ', 'Sitz vorn links höhenverstellbar', ' ', 'Sitz vorn rechts umklappbar ', ' ', 'Stau-/Ablagefach im Laderaumboden ', ' ', 'Zentralverriegelung mit Fernbedienung ', 'Multimedia', ' ', 'Radio R&GO', ' ', 'Bluetooth Freisprechanlage ', ' ', 'USB-/AUX-Schnittstelle ', ' ', 'Bordcomputer', ' ', 'Licht und Sicht', ' ', 'Tagfahrlicht LED ', ' ', 'Außenspiegel elektrisch verstell- und heizbar', 'Sicherheit', ' ', 'Airbag für Fahrer und Beifahrer', ' ', 'Beifahrerairbag deaktivierbar ', ' ', 'Seitenairbags vorn ', ' ', 'Kopfairbagsystem', ' ', 'Anti-Blockier-System (ABS)', ' ', 'Elektronische Bremskraftverteilung ', ' ', 'Elektronische Stabilitäts-Programm (ESP) ', ' ', 'Reifen-Reparaturkit ', ' ', 'Reifendruck-Kontrollsystem ', ' ', 'Untersteuerungskontrolle (USC) ', ' ', 'ISOFIX Kindersitzverankerung ', 'Weiteres', ' ', 'Dachreling silber ', ' ', 'Look-Paket Chrom (außen) ', ' ', 'Look-Paket Grau (innen) ', ' ', 'R&GO-Paket ', ' ', 'Style-Paket ', ' Ihr ', 'AUTOHERO-RUNDUM-SORGLOS-PAKET', ' beinhaltet:', 'Kostenlose Lieferung in Ihre Nähe', 'Optische & technische Aufbereitung', 'Mindestens 12 Monate gültige HU und AU', '1-Jahr-Premium-Garantie', 'Zulassung inklusive ', '14-Tage-Rückgaberecht', 'Markenunabhängige Inzahlungnahme ', 'Individuelle Finanzierungen zu fairen Konditionen', ' ', 'HIER GEHT ES ZUR 360° - ANSICHT DES FAHRZEUGES:', ':', 'https://www.autohero.com/de/renault-clio-1-2-limited/id/30f99516-8785-47e7-a4a3-6cdac4d8e633/', ' ', 'Haftungsausschluss', ':', 'Für Angaben vom Verkäufer, des Herstellers oder von Datenbankabfragen übernimmt Autohero keine Haftung. Änderungen, Zwischenverkauf und Irrtümer sind vorbehalten.\\n']                                                                                                                                                                                                                                                                                                                                                                                                                                                                                                                                                                                                                                   27\n",
       "                                                                                                                                                                                                                                                                                                                                                                                                                                                                                                                                                                                                                                                                                                                                                                                                                                                                                                                                                                                                                                                                                                                                                                                                                                                                                                                                                                                                                                                                                                                                                                                                                                                                                                                                                                                                                                                                                                                                                                                                                                                                                                                                                                                                                                                                                                                                                                                                                                                                                                                                                                                                                                                                                                                                                                                                                                                                                                ... \n",
       "['\\nPratica\\xa067374', 'Airbag fullsize per conducente e passeggero, Alzacristalli elettrici ant. e post. con funzione attivaz. a pressione, Assetto dinamico, Audi drive select, Inserti in micrometallic argento, Kit riparazione pneumatici, Pacchetto di navigazione, Piano di copertura del vano bagagli estraibile, Presa AUX-IN, Proiettori allo Xenon Plus con reg. aut. prof. fari, Lavafari, Rivestimenti dei sedili in tessuto, Serbatoio AdBlue, Sistema controllo pressione pneumatici, Sistema di ancoraggio ISOFIX e 3° punto di ancoraggio Top Tether sui sedili post. laterali, Sistema di informazioni per il conducente con display monocromatico, Tappetini anteriori e posteriori, Versione Business, Volante sportivo multifunzionale in pelle 3 razze, ABS, EBV (Ripartitore elettronico della forza frenante), Airbag laterali anteriori integrati negli schienali dei sedili, Airbag per la testa, Airbag per le ginocchia (lato conducente), Appoggiatesta anteriori (2) e posteriori (3) regolabili, Radio MMI plus, Interfaccia Bluetooth, Appoggiabraccia centrale anteriore, Cambio manuale, Cerchi in lega 7 J x 16\" a 5 razze a stella, Chiusura centralizzata con telecomando, Regolatore di velocità, ESC - Sistema elettronico di controllo della stabilizzazione con bloccaggio trasversale elettronico, ASR - Dispositivo di controllo della trazione, EDS (Dispositivo antislittamento in partenza), Filtro anti particolato, Cinture di sicurezza con pretensionatore, Specchietti retrovisivi esterni riscaldabili e ripiegabili elettricamente, Schienale del sedile posteriore ribaltabile (divisibile in rapporto 40:60 o ribaltabile completam.), Sistema di ausilio al parcheggio posteriore, Servosterzo elettromeccanico, Tergilunotto\\n']                                                                                                                                                                                                                                                                                                                                                                                                                                                                                                                                                                                                                                                                                                                                                                                                                                                                                                                                                                                                                                                                                                          1\n",
       "['\\n', 'Getriebe:', ' Schaltgetriebe', 'Technik:', ' Bordcomputer, Start-Stop-Automatik', 'Assistenten:', ' Regensensor, Lichtsensor, Berganfahrassistent', 'Komfort:', ' Servolenkung, Zentralverriegelung, Elektrischer Fensterheber, Sitzheizung, Elektrische Aussenspiegel, Teilbare Ruecksitzlehne, Tempomat, Park Distance Control, Multifunktionslenkrad, Innenspiegel autom. abblendbar, Mittelarmlehne, Innenraumfilter, Lenksaeule einstellbar, Sportsitze, Klimaautomatik-2-Zonen', 'Sicht:', ' Xenon Scheinwerfer, Colorverglasung, Scheinwerferreinigung, Aussenspiegel beheizbar, Privacyverglasung', 'Sicherheit:', ' ABS, Airbag, Beifahrer-Airbag, Wegfahrsperre, Seitenairbags, ESP, Antriebsschlupfregelung, Reifendruckkontrolle, Traktionskontrolle, Kopfairbag, Knieairbag, Kindersitzbefestigung, Pannenkit', 'Entertainment:', ' CD, Radio, AUX-In, USB-Anschluss, MP3, Bluetooth, Freisprecheinrichtung', 'Umwelt:', ' Grüne Umweltplakette, ', 'Energieeffizienzklasse B', 'Qualität:', ' Garantie, Scheckheftgepflegt, HUAU neu, Nichtraucherfahrzeug', 'Sonstiges:', ' Metallic, Alufelgen, Dachreling, Gepaeckraumabdeckung, Stossfaenger in Wagenfarbe, Sportfahrwerk', 'Weiteres:', ' Connectivity-Paket inkl. Bluetooth-Schnittstelle, Klimaautomatik 2-Zonen, Optik-Paket schwarz Audi exclusive, Einparkhilfe (APS), Verglasung hinten abgedunkelt, Sitzheizung vorn, Dachreling (Aluminium), Soundsystem DSP / Audi Sound-System, Ablage- und Gepäckraum-Paket, Audi music interface, Scheibenwaschdüsen heizbar, Vorbereitung Navigationssystem, Adaptives Bremslicht, Anfahr-Assistent (hold assist), Antriebsart: Frontantrieb, Audi Drive Select, Außenspiegel Wagenfarbe, Blinkleuchten LED in Außenspiegel integriert, Bremsanlage mit Rekuperation - Bremsenergierückgewinnung, Bremsassistent, Dachspoiler, Dekoreinlagen Aluminium Mistral, Einstiegsleisten Aluminium, Elektron. Differentialsperre (EDS), Elektron. Stabilitätskontrolle (ESC), Elektron. Stabilitäts-Programm, Euro 6, Fahrer-Informations-System (FIS), Fensterheber elektrisch vorn und hinten, Frontscheibe Akustikglas, Fußmatten Velours, Getriebe 6-Gang, Heckscheibe heizbar, Interieur Aluminium-Optik, Isofix-Aufnahmen für Kindersitz, Kopfstützen hinten, Multi-Media-Interface MMI, Parkbremse elektro-mechanisch, Polster: Stoff Rallye, Servolenkung elektro-mechanisch, Sitze vorn mit ausziehbarer Oberschenkelauflage, Sitzhöhenverstellung, Sport/Lederlenkrad, Sport-Fahrwerk, Start/Stop-Anlage, Telefon-Vorbereitung mit Bluetooth-Schnittstelle, Wagenheber, Wärmeschutzverglasung, Xenon Plus, ZV mit Fernbedienung', '... Änderungen, Zwischenverkauf und Irrtümer vorbehalten.', ' by CG360.de\\n']                                                                                                                                                         1\n",
       "['\\n', 'Getriebe', '6-Gang', 'Licht und Sicht', 'Xenon-Scheinwerfer Plus (Abblend- und Fernlicht)', 'Technik und Sicherheit', 'Fahrerairbag', 'Airbag Fahrer-/Beifahrerseite', 'Seitenairbag vorn', 'Kopfairbags', 'Anti-Blockier-System (ABS)', 'Elektron. Stabilitätskontrolle (ESC)', 'Elektron. Differentialsperre (EDS)', 'Zentralverriegelung mit Fernbedienung', 'Schließ-/Startsystem Advanced Key (Komfortschlüssel)', 'Servolenkung elektro-mechanisch', 'Geschwindigkeits-Regelanlage (Tempomat)', 'Elektronische Wegfahrsperre', 'Bordcomputer', 'Reifendruck-Kontrollsystem', 'Assistenzsysteme', 'Fahrassistenz-System: Anfahr-Assistent (hold assist)', 'Multimedia', 'Multi-Media-Interface MMI Basic Plus / MMI Radio Plus', 'Audi Smartphone Interface', 'Komfort', 'Komfort-Klimaautomatik 2-Zonen', 'Einparkhilfe hinten (APS)', 'Fensterheber elektrisch', 'Licht- und Regensensor', 'Außenspiegel elektr. verstellbar beide', 'Scheibenwaschdüsen und Außenspiegel beheizt', 'Wärmeschutzverglasung grün getönt', 'Innenausstattung', 'Sitzheizung vorn', 'Lenkrad (Sport/Leder - 3-Speichen) mit Multifunktion', 'Mittelarmlehne vorn', 'Rücksitzlehne geteilt/klappbar', 'Aussenausstattung', 'LM-Felgen', 'Pakete', 'Komfort-Paket', 'Sonstiges', 'Rußpartikelfilter', 'Scheckheftgepflegt', 'Nichtraucherfahrzeug', 'Weitere Informationen', 'Schadstoffklasse: EURO 6D-TEMP', 'Connectivity-Paket', 'Glanz-Paket', 'LM-Felgen 7.5x17 (5-Speichen Y-Design)', 'Progressivlenkung', 'Antriebs-Schlupfregelung (ASR)', 'Elektron. Stabilitäts-Programm (ESP)', 'Getriebe 6-Gang', 'Lenkrad (Sport - 3-Speichen)', 'Parkbremse elektro-mechanisch', 'Sitze vorn höhenverstellbar', 'Vorrüstung Mobiltelefon/Handy mit Bluetooth-Schnittstelle', 'Audi music interface', 'Außenspiegel elektr. verstell- und heizbar beide', 'Vorbereitung Navigationssystem', 'Irrtümer und Änderungen vorbehalten.', 'Die im Internet angebotene Ausstattung ist kein Vertragsbestandteil.', 'Die Ausstattung muss vor Ort geprüft werden.', 'Das angebotene Fahrzeug kann von einer Rückrufaktion betroffen sein. Co2 Angaben können abweichen.', '\\n']                                                                                                                                                                                                                                                                                                                                                                                                                                                                                                                                                                                                                                                                                                                                   1\n",
       "['\\n', 'Aluminium-Gussräder im 5-Speichen-Stern-Design Größe 7 J x 16 mit Reifen 205/55 R 16', 'Dachreling eloxiert', 'Einparkhilfe hinten', 'Fahrerinformationssystem mit Farbdisplay', 'Lederlenkrad im 3-Speichen-Design mit Multifunktion plus', 'Ablage-/Gepäckraumpaket mit erweitertem USB-Buchsen-Angebot', 'Lichtpaket', \"Reifen 16'\", 'Anlaufvariante RdW', 'Vorbereitung für Anhängevorrichtung', 'Audi sound system', 'Reifen 205/55 R16 91W', 'Xenon plus', 'Allwetterlicht', 'Kopfstützen hinten (3 Stück)', 'MMI Radio plus', 'Zentralverriegelung mit Funkschlüssel', 'Bluetooth-Schnittstelle', 'Innenspiegel abblendbar', 'elektronische Stabilisierungskontrolle (ESC)', 'Airbags', '6-Gang-Schaltgetriebe', 'Seitenairbags vorn und Kopfairbagsystem', 'elektromechanische Servolenkung', 'Leuchtweitenregulierung automatisch-statisch', 'Scheibenwaschdüsen beheizbar vorn', 'Reifendruck-Kontrollanzeige', 'Tagfahrlicht', 'Start-Stop-System', 'AUX-IN-Anschluss', 'Kindersitzverankerung ISOFIX und Top Tether für die äußeren Fondsitze', 'Sitzbezüge in Stoff Index', 'Wärmeschutzverglasung', 'Akustikfrontscheibe', 'Außenspiegel links asphärisch', 'Außen-Sound Standard', 'Außenspiegel rechts (großes Sichtfeld) konvex', 'elektromechanische Parkbremse', 'Dachhimmel in Stoff felsgrau', 'Kraftstoffsystem Otto-Einspritzer', 'Linkslenker', 'Reifenreparaturset', 'Heckleuchten', 'Scheibenwaschanlage', 'Entriegelung Hintersitz Standard', 'Waschwasserstandsanzeige', 'Abgaskonzept EU6 AG/H/I', 'Frontantrieb', 'A3', 'Außenspiegelgehäuse in Wagenfarbe', 'Ohne erweitertem Sicherheitssystem', 'Geschwindigkeitsbegrenzungsanlage', 'Dachkantenspoiler', 'Heckscheibenwischer', 'Sportback', 'Kindersicherung manuell', 'Ohne Kamerasysteme/Umfeldsensorik', '4-Zyl. Ottomotor 1 5 L/110KW TSI Grundmotor ist: TJ7/N09/T9F', 'Nebelschlussleuchten', 'Nichtraucherausführung', 'Radstand', 'Doppeltonfanfare', 'Serienfahrwerk', '4 Türen', 'Modellbezeichnung gemäß neuer Leistungskennzeichnung', 'Warnleuchten', 'Zierleisten schwarz', 'Nichtraucherfahrzeug', 'Irrtümer Änderungen und Zwischenverkauf vorbehalten', 'sehr guter Zustand', 'Komfortklima', 'Aussenspiegel heizbar', 'elektrische Aussenspiegel', 'geteilte Rückbank', 'Scheckheft gepflegt', 'Fahrersitz höhenverstellbar', 'Beifahrersitz höhenverstellbar', '\\n']                                                                                                                                                                                                                                                                                                                                                                                                                                                                                                                 1\n",
       "['\\nDEK:[2691331]', 'Renault Espace Blue dCi 200CV EDC Business', 'Nuova da Immatricolare', 'COLORE: Grigio Titanio', 'INTERNO: Pelle+Tessuto', 'TRASMISSIONE: Cambio Automatico EDC', '---', 'ACCESSORI: ', '7 Posti', ', ', 'Cerchi in Lega 17, Navigatore con Display 8.7, Clima Automatico, Sensori di Parcheggio Anteriori e Posteriori con Retrocamera, Fari Full LED Pure Vision, Cruise Control, Renault Multisense', '---', 'Listino Nuovo 44.300 Euro', 'Prezzo Gruppo Carmeli: 39.700 Euro (Esclusa IPT e Messa in Strada)', 'IVA Esposta', 'In caso di Adesione alla PROMO GRUPPO CARMELI puoi Averla a 36.000 Euro', 'Contattaci per scoprire tutti i vantaggi della PROMO GRUPPO CARMELI', '____________________________________', 'Gruppo Carmeli S.p.A. è Concessionaria e Service ufficiale dei Marchi Renault, Dacia, Nissan, Mercedes e Smart per la provincia di Brescia e Bergamo ed opera nel mercato dell’auto da più di 40 anni.', 'Nelle sedi di Brescia (Nissan e Renault-Dacia Autospazio), di Coccaglio (Renault-Dacia e Nissan) e di Bergamo (Nissan) oltre a tutta la gamma di veicoli dei Marchi rappresentati, propone anche 2.000 auto a Km Zero e Aziendali di tutte le marche.', 'Offriamo Servizi:', '-VALUTAZIONE e PERMUTA del tuo USATO', '-ACQUISTO con pagamento immediato del tuo USATO', '-FINANZIAMENTI e LEASING agevolati', '-NOLEGGIO A LUNGO TERMINE di veicoli di tutte le marche', '-PACCHETTI ASSICURATIVI su misura con possibilità di garanzia del valore a Nuovo', '____________________________________', \"Sebbene sia stato fatto ogni ragionevole sforzo per assicurare l'esattezza delle informazioni riportate, vi potrebbero essere involontarie incongruenze riguardanti le immagini e la descrizione degli accessori, che pertanto non rappresentano vincolo contrattuale. Per ulteriori informazioni sulle condizioni economiche ti invitiamo a contattarci.\", '\\n']                                                                                                                                                                                                                                                                                                                                                                                                                                                                                                                                                                                                                                                                                                                                                                                                                                                                                                                                                                1\n",
       "Name: description, Length: 12874, dtype: int64"
      ]
     },
     "execution_count": 235,
     "metadata": {},
     "output_type": "execute_result"
    }
   ],
   "source": [
    "df['description'].astype('str').value_counts(dropna=False)"
   ]
  },
  {
   "cell_type": "code",
   "execution_count": 236,
   "id": "7af438c8",
   "metadata": {},
   "outputs": [
    {
     "data": {
      "text/plain": [
       "12874"
      ]
     },
     "execution_count": 236,
     "metadata": {},
     "output_type": "execute_result"
    }
   ],
   "source": [
    "df['description'].astype('str').nunique()"
   ]
  },
  {
   "cell_type": "code",
   "execution_count": 237,
   "id": "90f96604",
   "metadata": {},
   "outputs": [],
   "source": [
    "df.drop(\"description\", axis=1, inplace=True)"
   ]
  },
  {
   "cell_type": "code",
   "execution_count": 238,
   "id": "6b8ad2bd",
   "metadata": {},
   "outputs": [
    {
     "data": {
      "text/plain": [
       "(15919, 41)"
      ]
     },
     "execution_count": 238,
     "metadata": {},
     "output_type": "execute_result"
    }
   ],
   "source": [
    "df.shape"
   ]
  },
  {
   "cell_type": "markdown",
   "id": "b37e892b",
   "metadata": {},
   "source": [
    "**Even if the columns of \"short_description\" & \"description\" contain detailed information, we do NOT need it since this information can be obtained from other features.**"
   ]
  },
  {
   "cell_type": "markdown",
   "id": "e7a2ad5d",
   "metadata": {},
   "source": [
    "# body & body_type"
   ]
  },
  {
   "cell_type": "code",
   "execution_count": 240,
   "id": "feb1ad9f",
   "metadata": {},
   "outputs": [
    {
     "data": {
      "text/html": [
       "<div>\n",
       "<style scoped>\n",
       "    .dataframe tbody tr th:only-of-type {\n",
       "        vertical-align: middle;\n",
       "    }\n",
       "\n",
       "    .dataframe tbody tr th {\n",
       "        vertical-align: top;\n",
       "    }\n",
       "\n",
       "    .dataframe thead th {\n",
       "        text-align: right;\n",
       "    }\n",
       "</style>\n",
       "<table border=\"1\" class=\"dataframe\">\n",
       "  <thead>\n",
       "    <tr style=\"text-align: right;\">\n",
       "      <th></th>\n",
       "      <th>body_type</th>\n",
       "      <th>body</th>\n",
       "    </tr>\n",
       "  </thead>\n",
       "  <tbody>\n",
       "    <tr>\n",
       "      <th>7192</th>\n",
       "      <td>Station wagon</td>\n",
       "      <td>[\\n, Station wagon, \\n]</td>\n",
       "    </tr>\n",
       "    <tr>\n",
       "      <th>8817</th>\n",
       "      <td>Compact</td>\n",
       "      <td>[\\n, Compact, \\n]</td>\n",
       "    </tr>\n",
       "    <tr>\n",
       "      <th>7437</th>\n",
       "      <td>Station wagon</td>\n",
       "      <td>[\\n, Station wagon, \\n]</td>\n",
       "    </tr>\n",
       "    <tr>\n",
       "      <th>11912</th>\n",
       "      <td>Sedans</td>\n",
       "      <td>[\\n, Sedans, \\n]</td>\n",
       "    </tr>\n",
       "    <tr>\n",
       "      <th>7358</th>\n",
       "      <td>Sedans</td>\n",
       "      <td>[\\n, Sedans, \\n]</td>\n",
       "    </tr>\n",
       "    <tr>\n",
       "      <th>9704</th>\n",
       "      <td>Sedans</td>\n",
       "      <td>[\\n, Sedans, \\n]</td>\n",
       "    </tr>\n",
       "    <tr>\n",
       "      <th>95</th>\n",
       "      <td>Sedans</td>\n",
       "      <td>[\\n, Sedans, \\n]</td>\n",
       "    </tr>\n",
       "    <tr>\n",
       "      <th>548</th>\n",
       "      <td>Compact</td>\n",
       "      <td>[\\n, Compact, \\n]</td>\n",
       "    </tr>\n",
       "    <tr>\n",
       "      <th>11087</th>\n",
       "      <td>Station wagon</td>\n",
       "      <td>[\\n, Station wagon, \\n]</td>\n",
       "    </tr>\n",
       "    <tr>\n",
       "      <th>13405</th>\n",
       "      <td>Sedans</td>\n",
       "      <td>[\\n, Sedans, \\n]</td>\n",
       "    </tr>\n",
       "    <tr>\n",
       "      <th>11744</th>\n",
       "      <td>Sedans</td>\n",
       "      <td>[\\n, Sedans, \\n]</td>\n",
       "    </tr>\n",
       "    <tr>\n",
       "      <th>7139</th>\n",
       "      <td>Station wagon</td>\n",
       "      <td>[\\n, Station wagon, \\n]</td>\n",
       "    </tr>\n",
       "    <tr>\n",
       "      <th>3361</th>\n",
       "      <td>Sedans</td>\n",
       "      <td>[\\n, Sedans, \\n]</td>\n",
       "    </tr>\n",
       "    <tr>\n",
       "      <th>3943</th>\n",
       "      <td>Sedans</td>\n",
       "      <td>[\\n, Sedans, \\n]</td>\n",
       "    </tr>\n",
       "    <tr>\n",
       "      <th>9942</th>\n",
       "      <td>Compact</td>\n",
       "      <td>[\\n, Compact, \\n]</td>\n",
       "    </tr>\n",
       "    <tr>\n",
       "      <th>7349</th>\n",
       "      <td>Sedans</td>\n",
       "      <td>[\\n, Sedans, \\n]</td>\n",
       "    </tr>\n",
       "    <tr>\n",
       "      <th>14945</th>\n",
       "      <td>Van</td>\n",
       "      <td>[\\n, Van, \\n]</td>\n",
       "    </tr>\n",
       "    <tr>\n",
       "      <th>12333</th>\n",
       "      <td>Station wagon</td>\n",
       "      <td>[\\n, Station wagon, \\n]</td>\n",
       "    </tr>\n",
       "    <tr>\n",
       "      <th>14255</th>\n",
       "      <td>Sedans</td>\n",
       "      <td>[\\n, Sedans, \\n]</td>\n",
       "    </tr>\n",
       "    <tr>\n",
       "      <th>1950</th>\n",
       "      <td>Compact</td>\n",
       "      <td>[\\n, Compact, \\n]</td>\n",
       "    </tr>\n",
       "  </tbody>\n",
       "</table>\n",
       "</div>"
      ],
      "text/plain": [
       "           body_type                     body\n",
       "7192   Station wagon  [\\n, Station wagon, \\n]\n",
       "8817         Compact        [\\n, Compact, \\n]\n",
       "7437   Station wagon  [\\n, Station wagon, \\n]\n",
       "11912         Sedans         [\\n, Sedans, \\n]\n",
       "7358          Sedans         [\\n, Sedans, \\n]\n",
       "9704          Sedans         [\\n, Sedans, \\n]\n",
       "95            Sedans         [\\n, Sedans, \\n]\n",
       "548          Compact        [\\n, Compact, \\n]\n",
       "11087  Station wagon  [\\n, Station wagon, \\n]\n",
       "13405         Sedans         [\\n, Sedans, \\n]\n",
       "11744         Sedans         [\\n, Sedans, \\n]\n",
       "7139   Station wagon  [\\n, Station wagon, \\n]\n",
       "3361          Sedans         [\\n, Sedans, \\n]\n",
       "3943          Sedans         [\\n, Sedans, \\n]\n",
       "9942         Compact        [\\n, Compact, \\n]\n",
       "7349          Sedans         [\\n, Sedans, \\n]\n",
       "14945            Van            [\\n, Van, \\n]\n",
       "12333  Station wagon  [\\n, Station wagon, \\n]\n",
       "14255         Sedans         [\\n, Sedans, \\n]\n",
       "1950         Compact        [\\n, Compact, \\n]"
      ]
     },
     "execution_count": 240,
     "metadata": {},
     "output_type": "execute_result"
    }
   ],
   "source": [
    "df[['body_type', 'body']].sample(20)"
   ]
  },
  {
   "cell_type": "code",
   "execution_count": 241,
   "id": "b0424034",
   "metadata": {},
   "outputs": [],
   "source": [
    "df.drop(\"body\", axis = 1, inplace = True)"
   ]
  },
  {
   "cell_type": "markdown",
   "id": "1314386c",
   "metadata": {},
   "source": [
    "**Both the columns of \"body_type\" & \"body\" have the same information, we will keep the \"body_type\" column which is more readable.**"
   ]
  },
  {
   "cell_type": "markdown",
   "id": "76b18485",
   "metadata": {},
   "source": [
    "## price (target column)"
   ]
  },
  {
   "cell_type": "code",
   "execution_count": 242,
   "id": "cd397d2b",
   "metadata": {},
   "outputs": [
    {
     "data": {
      "text/plain": [
       "14990    154\n",
       "15990    151\n",
       "10990    139\n",
       "15900    106\n",
       "17990    102\n",
       "        ... \n",
       "17559      1\n",
       "17560      1\n",
       "17570      1\n",
       "17575      1\n",
       "39875      1\n",
       "Name: price, Length: 2956, dtype: int64"
      ]
     },
     "execution_count": 242,
     "metadata": {},
     "output_type": "execute_result"
    }
   ],
   "source": [
    "df.price.value_counts(dropna=False)"
   ]
  },
  {
   "cell_type": "code",
   "execution_count": 243,
   "id": "8d029c5a",
   "metadata": {},
   "outputs": [
    {
     "data": {
      "text/plain": [
       "0"
      ]
     },
     "execution_count": 243,
     "metadata": {},
     "output_type": "execute_result"
    }
   ],
   "source": [
    "df.price.isnull().sum()"
   ]
  },
  {
   "cell_type": "code",
   "execution_count": 244,
   "id": "0d0313ab",
   "metadata": {},
   "outputs": [
    {
     "data": {
      "text/plain": [
       "count   15919.000\n",
       "mean    18019.897\n",
       "std      7386.169\n",
       "min        13.000\n",
       "25%     12850.000\n",
       "50%     16900.000\n",
       "75%     21900.000\n",
       "max     74600.000\n",
       "Name: price, dtype: float64"
      ]
     },
     "execution_count": 244,
     "metadata": {},
     "output_type": "execute_result"
    }
   ],
   "source": [
    "df[\"price\"].describe()"
   ]
  },
  {
   "cell_type": "code",
   "execution_count": 245,
   "id": "42a3c748",
   "metadata": {},
   "outputs": [
    {
     "data": {
      "image/png": "[encoded data removed]",
      "text/plain": [
       "<Figure size 1000x600 with 1 Axes>"
      ]
     },
     "metadata": {},
     "output_type": "display_data"
    }
   ],
   "source": [
    "sns.boxplot(df.price);"
   ]
  },
  {
   "cell_type": "code",
   "execution_count": 246,
   "id": "253512ab",
   "metadata": {},
   "outputs": [
    {
     "data": {
      "image/png": "[encoded data removed]",
      "text/plain": [
       "<Figure size 1000x600 with 1 Axes>"
      ]
     },
     "metadata": {},
     "output_type": "display_data"
    }
   ],
   "source": [
    "sns.distplot(df.price);"
   ]
  },
  {
   "cell_type": "markdown",
   "id": "07b59418",
   "metadata": {},
   "source": [
    "## vat\n",
    "The **``\"Value Added Tax\"``** (VAT) in the European Union is a general, broadly based consumption tax assessed on the value added to goods and services."
   ]
  },
  {
   "cell_type": "code",
   "execution_count": 247,
   "id": "c6391fda",
   "metadata": {},
   "outputs": [
    {
     "data": {
      "text/plain": [
       "VAT deductible      10980\n",
       "None                 4513\n",
       "Price negotiable      426\n",
       "Name: vat, dtype: int64"
      ]
     },
     "execution_count": 247,
     "metadata": {},
     "output_type": "execute_result"
    }
   ],
   "source": [
    "df.vat.value_counts(dropna=False)"
   ]
  },
  {
   "cell_type": "markdown",
   "id": "f2b5050b",
   "metadata": {},
   "source": [
    "# hp "
   ]
  },
  {
   "cell_type": "code",
   "execution_count": 248,
   "id": "62d587c3",
   "metadata": {
    "scrolled": true
   },
   "outputs": [
    {
     "data": {
      "text/plain": [
       "85 kW     2542\n",
       "66 kW     2122\n",
       "81 kW     1402\n",
       "100 kW    1308\n",
       "110 kW    1112\n",
       "70 kW      888\n",
       "125 kW     707\n",
       "51 kW      695\n",
       "55 kW      569\n",
       "118 kW     516\n",
       "92 kW      466\n",
       "121 kW     392\n",
       "147 kW     380\n",
       "77 kW      345\n",
       "56 kW      286\n",
       "54 kW      276\n",
       "103 kW     253\n",
       "87 kW      232\n",
       "165 kW     194\n",
       "88 kW      177\n",
       "60 kW      160\n",
       "162 kW      98\n",
       "- kW        88\n",
       "74 kW       81\n",
       "96 kW       72\n",
       "71 kW       59\n",
       "101 kW      47\n",
       "67 kW       40\n",
       "154 kW      39\n",
       "122 kW      35\n",
       "119 kW      30\n",
       "164 kW      27\n",
       "135 kW      24\n",
       "82 kW       22\n",
       "52 kW       22\n",
       "78 kW       20\n",
       "1 kW        20\n",
       "294 kW      18\n",
       "146 kW      18\n",
       "141 kW      16\n",
       "57 kW       10\n",
       "104 kW       8\n",
       "120 kW       8\n",
       "191 kW       7\n",
       "112 kW       7\n",
       "155 kW       6\n",
       "117 kW       6\n",
       "184 kW       5\n",
       "90 kW        4\n",
       "76 kW        4\n",
       "65 kW        4\n",
       "149 kW       3\n",
       "80 kW        3\n",
       "168 kW       3\n",
       "98 kW        3\n",
       "93 kW        3\n",
       "228 kW       2\n",
       "270 kW       2\n",
       "53 kW        2\n",
       "140 kW       2\n",
       "86 kW        2\n",
       "167 kW       2\n",
       "127 kW       2\n",
       "89 kW        2\n",
       "143 kW       2\n",
       "63 kW        2\n",
       "40 kW        2\n",
       "150 kW       2\n",
       "163 kW       1\n",
       "115 kW       1\n",
       "132 kW       1\n",
       "75 kW        1\n",
       "4 kW         1\n",
       "137 kW       1\n",
       "123 kW       1\n",
       "133 kW       1\n",
       "84 kW        1\n",
       "195 kW       1\n",
       "44 kW        1\n",
       "239 kW       1\n",
       "9 kW         1\n",
       "Name: hp, dtype: int64"
      ]
     },
     "execution_count": 248,
     "metadata": {},
     "output_type": "execute_result"
    }
   ],
   "source": [
    "df.hp.value_counts()"
   ]
  },
  {
   "cell_type": "code",
   "execution_count": 249,
   "id": "9e46959a",
   "metadata": {},
   "outputs": [
    {
     "data": {
      "text/plain": [
       "0         66  \n",
       "1        141  \n",
       "2         85  \n",
       "3         66  \n",
       "4         66  \n",
       "         ...  \n",
       "15914    147  \n",
       "15915    165  \n",
       "15916    146  \n",
       "15917    147  \n",
       "15918    165  \n",
       "Name: hp, Length: 15919, dtype: object"
      ]
     },
     "execution_count": 249,
     "metadata": {},
     "output_type": "execute_result"
    }
   ],
   "source": [
    "df.hp = df.hp.str.replace('kW',' ')\n",
    "df.hp"
   ]
  },
  {
   "cell_type": "code",
   "execution_count": 250,
   "id": "ad65a78e",
   "metadata": {},
   "outputs": [],
   "source": [
    "# df['hp_kW'] = df['hp'].str.strip(' kW').replace('-', np.nan).astype(float)"
   ]
  },
  {
   "cell_type": "code",
   "execution_count": 251,
   "id": "3705d9fe",
   "metadata": {},
   "outputs": [],
   "source": [
    "#Alternative method\n",
    "\n",
    "#df.replace({\"hp\" : {\" kW\" : \"\"}}, regex = True, inplace = True)\n",
    "#df[\"hp_kw\"] = pd.to_numeric(df.hp)"
   ]
  },
  {
   "cell_type": "code",
   "execution_count": 252,
   "id": "94a1ec30",
   "metadata": {},
   "outputs": [],
   "source": [
    "df.hp = df.hp.str.extract('(\\d{1,4})').astype('float')"
   ]
  },
  {
   "cell_type": "code",
   "execution_count": 253,
   "id": "b9018d3b",
   "metadata": {},
   "outputs": [
    {
     "data": {
      "text/plain": [
       "(15919, 40)"
      ]
     },
     "execution_count": 253,
     "metadata": {},
     "output_type": "execute_result"
    }
   ],
   "source": [
    "df.shape"
   ]
  },
  {
   "cell_type": "markdown",
   "id": "894e7127",
   "metadata": {},
   "source": [
    "# fuel"
   ]
  },
  {
   "cell_type": "code",
   "execution_count": 254,
   "id": "f901543b",
   "metadata": {},
   "outputs": [
    {
     "data": {
      "text/plain": [
       "0                          Diesel (Particulate Filter)\n",
       "1                                             Gasoline\n",
       "2                          Diesel (Particulate Filter)\n",
       "3                          Diesel (Particulate Filter)\n",
       "4                          Diesel (Particulate Filter)\n",
       "                             ...                      \n",
       "15914                      Diesel (Particulate Filter)\n",
       "15915    Super 95 / Super Plus 98 (Particulate Filter)\n",
       "15916                                           Diesel\n",
       "15917                                           Diesel\n",
       "15918                                         Super 95\n",
       "Name: fuel, Length: 15919, dtype: object"
      ]
     },
     "execution_count": 254,
     "metadata": {},
     "output_type": "execute_result"
    }
   ],
   "source": [
    "df.fuel"
   ]
  },
  {
   "cell_type": "code",
   "execution_count": 255,
   "id": "f36be987",
   "metadata": {},
   "outputs": [],
   "source": [
    "df[\"fuel\"] = df.fuel.str.split(\"(\").str[0].str.strip().str.split('/').str[0]"
   ]
  },
  {
   "cell_type": "code",
   "execution_count": 256,
   "id": "89faf6be",
   "metadata": {},
   "outputs": [
    {
     "data": {
      "text/plain": [
       "0           Diesel\n",
       "1         Gasoline\n",
       "2           Diesel\n",
       "3           Diesel\n",
       "4           Diesel\n",
       "           ...    \n",
       "15914       Diesel\n",
       "15915    Super 95 \n",
       "15916       Diesel\n",
       "15917       Diesel\n",
       "15918     Super 95\n",
       "Name: fuel, Length: 15919, dtype: object"
      ]
     },
     "execution_count": 256,
     "metadata": {},
     "output_type": "execute_result"
    }
   ],
   "source": [
    "df.fuel"
   ]
  },
  {
   "cell_type": "markdown",
   "id": "f28aae6a",
   "metadata": {},
   "source": [
    "# km"
   ]
  },
  {
   "cell_type": "code",
   "execution_count": 239,
   "id": "a4c9fafb",
   "metadata": {},
   "outputs": [
    {
     "data": {
      "text/plain": [
       "0        56,013  \n",
       "1        80,000  \n",
       "2        83,450  \n",
       "3        73,000  \n",
       "4        16,200  \n",
       "           ...   \n",
       "15914         -  \n",
       "15915     9,900  \n",
       "15916        15  \n",
       "15917        10  \n",
       "15918         -  \n",
       "Name: km, Length: 15919, dtype: object"
      ]
     },
     "execution_count": 239,
     "metadata": {},
     "output_type": "execute_result"
    }
   ],
   "source": [
    "df.km = df.km.str.replace('km',' ')\n",
    "df.km"
   ]
  },
  {
   "cell_type": "code",
   "execution_count": 257,
   "id": "658fbe1e",
   "metadata": {},
   "outputs": [
    {
     "data": {
      "text/plain": [
       "10          1045\n",
       "-           1024\n",
       "1            367\n",
       "5            170\n",
       "50           148\n",
       "            ... \n",
       "67,469         1\n",
       "43,197         1\n",
       "10,027         1\n",
       "35,882         1\n",
       "57             1\n",
       "Name: km, Length: 6690, dtype: int64"
      ]
     },
     "execution_count": 257,
     "metadata": {},
     "output_type": "execute_result"
    }
   ],
   "source": [
    "df.km.value_counts(dropna=False)"
   ]
  },
  {
   "cell_type": "code",
   "execution_count": 258,
   "id": "af6a699a",
   "metadata": {},
   "outputs": [],
   "source": [
    "df[\"km\"] = df.km.str.replace(',', '').str.extract('(\\d{1,8})').astype('float') \n",
    "                                   # .str.extract('(\\d+)')"
   ]
  },
  {
   "cell_type": "code",
   "execution_count": 259,
   "id": "9b0f6373",
   "metadata": {},
   "outputs": [],
   "source": [
    "# This is another solution\n",
    "\n",
    "#df[\"km\"] = df.km.str.replace(',', '').str.rstrip(\" km\").replace('-', np.nan).astype('float')"
   ]
  },
  {
   "cell_type": "code",
   "execution_count": 260,
   "id": "33291ae4",
   "metadata": {},
   "outputs": [
    {
     "data": {
      "text/plain": [
       "10.000       1045\n",
       "NaN          1024\n",
       "1.000         367\n",
       "5.000         170\n",
       "50.000        148\n",
       "             ... \n",
       "67469.000       1\n",
       "43197.000       1\n",
       "10027.000       1\n",
       "35882.000       1\n",
       "57.000          1\n",
       "Name: km, Length: 6690, dtype: int64"
      ]
     },
     "execution_count": 260,
     "metadata": {},
     "output_type": "execute_result"
    }
   ],
   "source": [
    "df.km.value_counts(dropna=False)"
   ]
  },
  {
   "cell_type": "markdown",
   "id": "3a2831cd",
   "metadata": {},
   "source": [
    "# type "
   ]
  },
  {
   "cell_type": "code",
   "execution_count": 261,
   "id": "cd4d5890",
   "metadata": {},
   "outputs": [
    {
     "data": {
      "text/plain": [
       "0                  Used\n",
       "1                  Used\n",
       "2                  Used\n",
       "3                  Used\n",
       "4                  Used\n",
       "              ...      \n",
       "15914               New\n",
       "15915              Used\n",
       "15916    Pre-registered\n",
       "15917    Pre-registered\n",
       "15918     Demonstration\n",
       "Name: type, Length: 15919, dtype: object"
      ]
     },
     "execution_count": 261,
     "metadata": {},
     "output_type": "execute_result"
    }
   ],
   "source": [
    "df[\"type\"] = [i[1] if i is not np.nan else np.nan for i in df.type ]\n",
    "df[\"type\"]"
   ]
  },
  {
   "cell_type": "code",
   "execution_count": 262,
   "id": "64bd8234",
   "metadata": {},
   "outputs": [
    {
     "data": {
      "text/plain": [
       "Used              11096\n",
       "New                1650\n",
       "Pre-registered     1364\n",
       "Employee's car     1011\n",
       "Demonstration       796\n",
       "NaN                   2\n",
       "Name: type, dtype: int64"
      ]
     },
     "execution_count": 262,
     "metadata": {},
     "output_type": "execute_result"
    }
   ],
   "source": [
    "df.type.value_counts(dropna= False)"
   ]
  },
  {
   "cell_type": "markdown",
   "id": "a39b82aa",
   "metadata": {},
   "source": [
    "## Next Inspection & Inspection new"
   ]
  },
  {
   "cell_type": "code",
   "execution_count": 263,
   "id": "c1c4cab1",
   "metadata": {},
   "outputs": [],
   "source": [
    "df[\"inspection_new\"]= [item[0] if type(item) == list else item for item in df[\"inspection_new\"]]\n",
    "df[\"inspection_new\"]= df[\"inspection_new\"].str.strip(\"\\n\")"
   ]
  },
  {
   "cell_type": "code",
   "execution_count": 264,
   "id": "66fd7710",
   "metadata": {},
   "outputs": [
    {
     "data": {
      "text/plain": [
       "NaN    11987\n",
       "Yes     3932\n",
       "Name: inspection_new, dtype: int64"
      ]
     },
     "execution_count": 264,
     "metadata": {},
     "output_type": "execute_result"
    }
   ],
   "source": [
    "df[\"inspection_new\"].value_counts(dropna= False)"
   ]
  },
  {
   "cell_type": "code",
   "execution_count": 265,
   "id": "7f3eefa2",
   "metadata": {},
   "outputs": [],
   "source": [
    "df.drop(\"next_inspection\", axis = 1, inplace= True)"
   ]
  },
  {
   "cell_type": "code",
   "execution_count": 266,
   "id": "71122e9d",
   "metadata": {},
   "outputs": [
    {
     "data": {
      "text/plain": [
       "(15919, 39)"
      ]
     },
     "execution_count": 266,
     "metadata": {},
     "output_type": "execute_result"
    }
   ],
   "source": [
    "df.shape"
   ]
  },
  {
   "cell_type": "markdown",
   "id": "6db1fa0d",
   "metadata": {},
   "source": [
    "# Warranty"
   ]
  },
  {
   "cell_type": "code",
   "execution_count": 267,
   "id": "7b90a6fd",
   "metadata": {},
   "outputs": [
    {
     "data": {
      "text/plain": [
       "nan                                                                                                                5420\n",
       "['\\n', '\\n', '\\nEuro 6\\n']                                                                                         1868\n",
       "\\n12 months\\n                                                                                                      1177\n",
       "\\n                                                                                                                  979\n",
       "\\n24 months\\n                                                                                                       566\n",
       "                                                                                                                   ... \n",
       "['\\n72 months\\n', '\\n125 g CO2/km (comb)\\n']                                                                          1\n",
       "['\\n60 months\\n', '\\n14 g CO2/km (comb)\\n']                                                                           1\n",
       "['\\n24 months\\n', '\\n121 g CO2/km (comb)\\n']                                                                          1\n",
       "['\\n12 months\\n', '\\nEuro 6d\\n']                                                                                      1\n",
       "['\\n36 months\\n', '\\n', '7.4 l/100 km (comb)', '\\n', '9.6 l/100 km (city)', '\\n', '6 l/100 km (country)', '\\n']       1\n",
       "Name: warranty, Length: 516, dtype: int64"
      ]
     },
     "execution_count": 267,
     "metadata": {},
     "output_type": "execute_result"
    }
   ],
   "source": [
    "df.warranty.astype('str').value_counts(dropna=False)"
   ]
  },
  {
   "cell_type": "code",
   "execution_count": 268,
   "id": "fca72bf1",
   "metadata": {},
   "outputs": [],
   "source": [
    "df[\"warranty\"] = df.warranty.apply(lambda x : x[0] if type(x)==list else x)"
   ]
  },
  {
   "cell_type": "code",
   "execution_count": 269,
   "id": "2cda8f43",
   "metadata": {},
   "outputs": [],
   "source": [
    "df[\"warranty\"] = df.warranty.str.strip(\"\\n\").str.extract('(\\d{1,2})').astype(\"float\") # str.extract('(\\d+)')"
   ]
  },
  {
   "cell_type": "code",
   "execution_count": 270,
   "id": "ded0e540",
   "metadata": {},
   "outputs": [
    {
     "data": {
      "text/plain": [
       "NaN       11066\n",
       "12.000     2594\n",
       "24.000     1118\n",
       "60.000      401\n",
       "36.000      279\n",
       "48.000      149\n",
       "6.000       125\n",
       "72.000       59\n",
       "3.000        33\n",
       "23.000       11\n",
       "18.000       10\n",
       "20.000        7\n",
       "25.000        6\n",
       "2.000         5\n",
       "50.000        4\n",
       "26.000        4\n",
       "16.000        4\n",
       "4.000         3\n",
       "1.000         3\n",
       "19.000        3\n",
       "34.000        3\n",
       "13.000        3\n",
       "28.000        2\n",
       "22.000        2\n",
       "14.000        2\n",
       "11.000        2\n",
       "46.000        2\n",
       "21.000        2\n",
       "9.000         2\n",
       "17.000        2\n",
       "45.000        2\n",
       "33.000        1\n",
       "40.000        1\n",
       "65.000        1\n",
       "10.000        1\n",
       "15.000        1\n",
       "7.000         1\n",
       "8.000         1\n",
       "56.000        1\n",
       "49.000        1\n",
       "47.000        1\n",
       "30.000        1\n",
       "Name: warranty, dtype: int64"
      ]
     },
     "execution_count": 270,
     "metadata": {},
     "output_type": "execute_result"
    }
   ],
   "source": [
    "df.warranty.value_counts(dropna=False)"
   ]
  },
  {
   "cell_type": "markdown",
   "id": "843aed6c",
   "metadata": {},
   "source": [
    "## Full Service"
   ]
  },
  {
   "cell_type": "code",
   "execution_count": 271,
   "id": "cb15c88b",
   "metadata": {},
   "outputs": [
    {
     "data": {
      "text/plain": [
       "nan                                                                                                             7704\n",
       "['\\n', '\\n', '\\n4 (Green)\\n']                                                                                   2235\n",
       "['\\n', '\\n', '\\nEuro 6\\n']                                                                                      2097\n",
       "['\\n', '\\n']                                                                                                    1702\n",
       "['\\n', '\\n', '\\nEuro 6d-TEMP\\n']                                                                                 399\n",
       "                                                                                                                ... \n",
       "['\\n', '\\n', '\\n80 g CO2/km (comb)\\n']                                                                             1\n",
       "['\\n', '\\n', '\\n84 g CO2/km (comb)\\n']                                                                             1\n",
       "['\\n', '\\n', '\\n', '6 l/100 km (comb)', '\\n', '8 l/100 km (city)', '\\n', '4.9 l/100 km (country)', '\\n']           1\n",
       "['\\n', '\\n', '\\n', '4.9 l/100 km (comb)', '\\n', '6.2 l/100 km (city)', '\\n', '4.1 l/100 km (country)', '\\n']       1\n",
       "['\\n', '\\n', '\\nEuro 4\\n']                                                                                         1\n",
       "Name: full_service, Length: 123, dtype: int64"
      ]
     },
     "execution_count": 271,
     "metadata": {},
     "output_type": "execute_result"
    }
   ],
   "source": [
    "df['full_service'].astype('str').value_counts(dropna=False)"
   ]
  },
  {
   "cell_type": "code",
   "execution_count": 272,
   "id": "abfda203",
   "metadata": {},
   "outputs": [],
   "source": [
    "df.drop(\"full_service\", axis=1, inplace=True)"
   ]
  },
  {
   "cell_type": "code",
   "execution_count": 273,
   "id": "de81334e",
   "metadata": {},
   "outputs": [
    {
     "data": {
      "text/plain": [
       "(15919, 38)"
      ]
     },
     "execution_count": 273,
     "metadata": {},
     "output_type": "execute_result"
    }
   ],
   "source": [
    "df.shape"
   ]
  },
  {
   "cell_type": "markdown",
   "id": "8ec25085",
   "metadata": {},
   "source": [
    "# Non-Smoking vehicle "
   ]
  },
  {
   "cell_type": "code",
   "execution_count": 274,
   "id": "05403411",
   "metadata": {
    "scrolled": true
   },
   "outputs": [
    {
     "data": {
      "text/plain": [
       "NaN                                                                                           8742\n",
       "[\\n, \\n]                                                                                      3647\n",
       "[\\n, \\n, \\n4 (Green)\\n]                                                                       1240\n",
       "[\\n, \\n, \\nEuro 6\\n]                                                                          1127\n",
       "[\\n, \\n, \\nEuro 6d-TEMP\\n]                                                                     345\n",
       "\\n                                                                                              70\n",
       "[\\n, \\n, \\n120 g CO2/km (comb)\\n]                                                               63\n",
       "[\\n, \\n, \\n85 g CO2/km (comb)\\n]                                                                46\n",
       "[\\n, \\n, \\n104 g CO2/km (comb)\\n]                                                               36\n",
       "[\\n, \\n, \\n107 g CO2/km (comb)\\n]                                                               36\n",
       "[\\n, \\n, \\n153 g CO2/km (comb)\\n]                                                               31\n",
       "[\\n, \\n, \\n124 g CO2/km (comb)\\n]                                                               29\n",
       "[\\n, \\n, \\n1 (No sticker)\\n]                                                                    24\n",
       "[\\n, \\n, \\n99 g CO2/km (comb)\\n]                                                                23\n",
       "[\\n, \\n, \\n106 g CO2/km (comb)\\n]                                                               20\n",
       "[\\n, \\n, \\n97 g CO2/km (comb)\\n]                                                                20\n",
       "[\\n, \\n, \\n108 g CO2/km (comb)\\n]                                                               19\n",
       "[\\n, \\n, \\n113 g CO2/km (comb)\\n]                                                               18\n",
       "[\\n, \\n, \\n100 g CO2/km (comb)\\n]                                                               18\n",
       "[\\n, \\n, \\n109 g CO2/km (comb)\\n]                                                               18\n",
       "[\\n, \\n, \\n105 g CO2/km (comb)\\n]                                                               18\n",
       "[\\n, \\n, \\nEuro 6c\\n]                                                                           17\n",
       "[\\n, \\n, \\n98 g CO2/km (comb)\\n]                                                                15\n",
       "[\\n, \\n, \\n129 g CO2/km (comb)\\n]                                                               14\n",
       "[\\n, \\n, \\n131 g CO2/km (comb)\\n]                                                               13\n",
       "[\\n, \\n, \\n133 g CO2/km (comb)\\n]                                                               12\n",
       "[\\n, \\n, \\n103 g CO2/km (comb)\\n]                                                               12\n",
       "[\\n, \\n, \\n114 g CO2/km (comb)\\n]                                                               12\n",
       "[\\n, \\n, \\n116 g CO2/km (comb)\\n]                                                               11\n",
       "[\\n, \\n, \\n135 g CO2/km (comb)\\n]                                                               11\n",
       "[\\n, \\n, \\n102 g CO2/km (comb)\\n]                                                               11\n",
       "[\\n, \\n, \\n127 g CO2/km (comb)\\n]                                                               10\n",
       "[\\n, \\n, \\n143 g CO2/km (comb)\\n]                                                               10\n",
       "[\\n, \\n, \\n92 g CO2/km (comb)\\n]                                                                 9\n",
       "[\\n, \\n, \\nEuro 6d\\n]                                                                            9\n",
       "[\\n, \\n, \\n112 g CO2/km (comb)\\n]                                                                9\n",
       "[\\n, \\n, \\n5 (Blue)\\n]                                                                           8\n",
       "[\\n, \\n, \\n118 g CO2/km (comb)\\n]                                                                8\n",
       "[\\n, \\n, \\n139 g CO2/km (comb)\\n]                                                                7\n",
       "[\\n, \\n, \\n128 g CO2/km (comb)\\n]                                                                7\n",
       "[\\n, \\n, \\n147 g CO2/km (comb)\\n]                                                                7\n",
       "[\\n, \\n, \\n126 g CO2/km (comb)\\n]                                                                6\n",
       "[\\n, \\n, \\n137 g CO2/km (comb)\\n]                                                                6\n",
       "[\\n, \\n, \\n117 g CO2/km (comb)\\n]                                                                6\n",
       "[\\n, \\n, \\n140 g CO2/km (comb)\\n]                                                                6\n",
       "[\\n, \\n, \\n130 g CO2/km (comb)\\n]                                                                5\n",
       "[\\n, \\n, \\n115 g CO2/km (comb)\\n]                                                                5\n",
       "[\\n, \\n, \\nEuro 5\\n]                                                                             4\n",
       "[\\n, \\n, \\n, 5.2 l/100 km (comb), \\n, 5.8 l/100 km (city), \\n, 4.8 l/100 km (country), \\n]       4\n",
       "[\\n, \\n, \\n123 g CO2/km (comb)\\n]                                                                4\n",
       "[\\n, \\n, \\n151 g CO2/km (comb)\\n]                                                                4\n",
       "[\\n, \\n, \\n95 g CO2/km (comb)\\n]                                                                 3\n",
       "[\\n, \\n, \\n119 g CO2/km (comb)\\n]                                                                3\n",
       "[\\n, \\n, \\n148 g CO2/km (comb)\\n]                                                                3\n",
       "[\\n, \\n, \\n157 g CO2/km (comb)\\n]                                                                3\n",
       "[\\n, \\n, \\n136 g CO2/km (comb)\\n]                                                                3\n",
       "[\\n, \\n, \\n110 g CO2/km (comb)\\n]                                                                3\n",
       "[\\n, \\n, \\n149 g CO2/km (comb)\\n]                                                                3\n",
       "[\\n, \\n, \\n138 g CO2/km (comb)\\n]                                                                2\n",
       "[\\n, \\n, \\n125 g CO2/km (comb)\\n]                                                                2\n",
       "[\\n, \\n, \\n, 5.2 l/100 km (comb), \\n, 6.4 l/100 km (city), \\n, 4.4 l/100 km (country), \\n]       2\n",
       "[\\n, \\n, \\n166 g CO2/km (comb)\\n]                                                                2\n",
       "[\\n, \\n, \\n121 g CO2/km (comb)\\n]                                                                2\n",
       "[\\n, \\n, \\n142 g CO2/km (comb)\\n]                                                                2\n",
       "[\\n, \\n, \\n90 g CO2/km (comb)\\n]                                                                 2\n",
       "[\\n, \\n, \\n111 g CO2/km (comb)\\n]                                                                2\n",
       "[\\n, \\n, \\n134 g CO2/km (comb)\\n]                                                                2\n",
       "[\\n, \\n, \\n, 6.5 l/100 km (comb), \\n, 8.5 l/100 km (city), \\n, 5.4 l/100 km (country), \\n]       1\n",
       "[\\n, \\n, \\n, 6.4 l/100 km (comb), \\n, 8.1 l/100 km (city), \\n, 5.4 l/100 km (country), \\n]       1\n",
       "[\\n, \\n, \\n161 g CO2/km (comb)\\n]                                                                1\n",
       "[\\n, \\n, \\n172 g CO2/km (comb)\\n]                                                                1\n",
       "[\\n, \\n, \\n189 g CO2/km (comb)\\n]                                                                1\n",
       "[\\n, \\n, \\n82 g CO2/km (comb)\\n]                                                                 1\n",
       "[\\n, \\n, \\n154 g CO2/km (comb)\\n]                                                                1\n",
       "[\\n, \\n, \\n, 6.5 l/100 km (comb), \\n, 7.9 l/100 km (city), \\n, 5.6 l/100 km (country), \\n]       1\n",
       "[\\n, \\n, \\n, 6.3 l/100 km (comb), \\n, 8 l/100 km (city), \\n, 5.3 l/100 km (country), \\n]         1\n",
       "[\\n, \\n, \\n146 g CO2/km (comb)\\n]                                                                1\n",
       "[\\n, \\n, \\n, 5.7 l/100 km (comb), \\n, 7.3 l/100 km (city), \\n, 4.7 l/100 km (country), \\n]       1\n",
       "[\\n, \\n, \\n, 6.1 l/100 km (comb), \\n, 7.7 l/100 km (city), \\n, 5.2 l/100 km (country), \\n]       1\n",
       "[\\n, \\n, \\n156 g CO2/km (comb)\\n]                                                                1\n",
       "[\\n, \\n, \\n, 6.1 l/100 km (comb), \\n, 7.8 l/100 km (city), \\n, 5.1 l/100 km (country), \\n]       1\n",
       "[\\n, \\n, \\n, 6.2 l/100 km (comb), \\n, 7.9 l/100 km (city), \\n, 5.3 l/100 km (country), \\n]       1\n",
       "[\\n, \\n, \\n152 g CO2/km (comb)\\n]                                                                1\n",
       "[\\n, \\n, \\n144 g CO2/km (comb)\\n]                                                                1\n",
       "[\\n, \\n, \\n132 g CO2/km (comb)\\n]                                                                1\n",
       "[\\n, \\n, \\n, 1.6 l/100 km (comb), \\n, \\n, \\n]                                                    1\n",
       "[\\n, \\n, \\n169 g CO2/km (comb)\\n]                                                                1\n",
       "[\\n, \\n, \\n101 g CO2/km (comb)\\n]                                                                1\n",
       "[\\n, \\n, \\n159 g CO2/km (comb)\\n]                                                                1\n",
       "[\\n, \\n, \\n91 g CO2/km (comb)\\n]                                                                 1\n",
       "[\\n, \\n, \\n, 5.6 l/100 km (comb), \\n, 7.3 l/100 km (city), \\n, 4.7 l/100 km (country), \\n]       1\n",
       "[\\n, \\n, \\n122 g CO2/km (comb)\\n]                                                                1\n",
       "[\\n, \\n, \\n158 g CO2/km (comb)\\n]                                                                1\n",
       "[\\n, \\n, \\n150 g CO2/km (comb)\\n]                                                                1\n",
       "[\\n, \\n, \\n175 g CO2/km (comb)\\n]                                                                1\n",
       "Name: non_smoking_vehicle, dtype: int64"
      ]
     },
     "execution_count": 274,
     "metadata": {},
     "output_type": "execute_result"
    }
   ],
   "source": [
    "df['non_smoking_vehicle'].value_counts(dropna=False)"
   ]
  },
  {
   "cell_type": "code",
   "execution_count": 275,
   "id": "19090b27",
   "metadata": {},
   "outputs": [],
   "source": [
    "df.drop(\"non_smoking_vehicle\", axis=1, inplace=True)"
   ]
  },
  {
   "cell_type": "code",
   "execution_count": 276,
   "id": "adc220ff",
   "metadata": {},
   "outputs": [
    {
     "data": {
      "text/plain": [
       "(15919, 37)"
      ]
     },
     "execution_count": 276,
     "metadata": {},
     "output_type": "execute_result"
    }
   ],
   "source": [
    "df.shape"
   ]
  },
  {
   "cell_type": "markdown",
   "id": "3c6e7975",
   "metadata": {},
   "source": [
    "# Registration & First Registration"
   ]
  },
  {
   "cell_type": "code",
   "execution_count": 277,
   "id": "fc3e9c2e",
   "metadata": {
    "scrolled": true
   },
   "outputs": [
    {
     "data": {
      "text/plain": [
       "-/-        1597\n",
       "03/2018     695\n",
       "02/2019     585\n",
       "05/2018     572\n",
       "03/2019     543\n",
       "01/2019     541\n",
       "04/2018     541\n",
       "02/2018     539\n",
       "03/2016     536\n",
       "04/2016     532\n",
       "06/2018     532\n",
       "01/2018     511\n",
       "04/2019     506\n",
       "02/2016     472\n",
       "03/2017     471\n",
       "05/2016     459\n",
       "06/2016     452\n",
       "05/2019     440\n",
       "06/2017     409\n",
       "05/2017     404\n",
       "07/2018     396\n",
       "04/2017     380\n",
       "01/2016     376\n",
       "02/2017     368\n",
       "01/2017     306\n",
       "08/2018     285\n",
       "06/2019     224\n",
       "07/2017     215\n",
       "11/2017     180\n",
       "07/2016     176\n",
       "10/2016     160\n",
       "10/2017     154\n",
       "09/2017     149\n",
       "11/2016     142\n",
       "09/2018     141\n",
       "09/2016     141\n",
       "12/2016     134\n",
       "12/2017     123\n",
       "08/2017     114\n",
       "11/2018     110\n",
       "12/2018     103\n",
       "10/2018      97\n",
       "08/2016      94\n",
       "07/2019       6\n",
       "09/2019       5\n",
       "08/2019       1\n",
       "11/2019       1\n",
       "12/2019       1\n",
       "Name: registration, dtype: int64"
      ]
     },
     "execution_count": 277,
     "metadata": {},
     "output_type": "execute_result"
    }
   ],
   "source": [
    "df.registration.value_counts(dropna=False)"
   ]
  },
  {
   "cell_type": "code",
   "execution_count": 278,
   "id": "2e173c95",
   "metadata": {},
   "outputs": [],
   "source": [
    "# df.registration.str.split('/').str[1]\n",
    "# df.registration.str.extract(\"(\\d{2}).(\\d{4})\")\n",
    "# df.registration.str.extract(\"(\\d{4})\")"
   ]
  },
  {
   "cell_type": "code",
   "execution_count": 279,
   "id": "c58c3d07",
   "metadata": {},
   "outputs": [
    {
     "data": {
      "text/plain": [
       "['\\n', '2018', '\\n']    4522\n",
       "['\\n', '2016', '\\n']    3674\n",
       "['\\n', '2017', '\\n']    3273\n",
       "['\\n', '2019', '\\n']    2853\n",
       "nan                     1597\n",
       "Name: first_registration, dtype: int64"
      ]
     },
     "execution_count": 279,
     "metadata": {},
     "output_type": "execute_result"
    }
   ],
   "source": [
    "df[\"first_registration\"].astype('str').value_counts(dropna=False)"
   ]
  },
  {
   "cell_type": "markdown",
   "id": "2998881a",
   "metadata": {},
   "source": [
    "**We prefer \"First Registration\" column because I don't need month values.**"
   ]
  },
  {
   "cell_type": "code",
   "execution_count": 280,
   "id": "c91305c4",
   "metadata": {},
   "outputs": [],
   "source": [
    "#Other Solutions \n",
    "df.first_registration = [(re.sub(r'\\n',' ',i[1])) if i is not np.nan else i for i in df.first_registration]\n"
   ]
  },
  {
   "cell_type": "code",
   "execution_count": 281,
   "id": "4ebb7e10",
   "metadata": {},
   "outputs": [],
   "source": [
    "df['first_registration'] = df['first_registration'].astype('float')"
   ]
  },
  {
   "cell_type": "code",
   "execution_count": 282,
   "id": "4e0ec54e",
   "metadata": {},
   "outputs": [
    {
     "data": {
      "text/plain": [
       "2018.000    4522\n",
       "2016.000    3674\n",
       "2017.000    3273\n",
       "2019.000    2853\n",
       "NaN         1597\n",
       "Name: first_registration, dtype: int64"
      ]
     },
     "execution_count": 282,
     "metadata": {},
     "output_type": "execute_result"
    }
   ],
   "source": [
    "df['first_registration'].value_counts(dropna=False)"
   ]
  },
  {
   "cell_type": "code",
   "execution_count": 283,
   "id": "57402add",
   "metadata": {},
   "outputs": [
    {
     "data": {
      "text/html": [
       "<div>\n",
       "<style scoped>\n",
       "    .dataframe tbody tr th:only-of-type {\n",
       "        vertical-align: middle;\n",
       "    }\n",
       "\n",
       "    .dataframe tbody tr th {\n",
       "        vertical-align: top;\n",
       "    }\n",
       "\n",
       "    .dataframe thead th {\n",
       "        text-align: right;\n",
       "    }\n",
       "</style>\n",
       "<table border=\"1\" class=\"dataframe\">\n",
       "  <thead>\n",
       "    <tr style=\"text-align: right;\">\n",
       "      <th></th>\n",
       "      <th>registration</th>\n",
       "      <th>first_registration</th>\n",
       "    </tr>\n",
       "  </thead>\n",
       "  <tbody>\n",
       "    <tr>\n",
       "      <th>15194</th>\n",
       "      <td>01/2016</td>\n",
       "      <td>2016.000</td>\n",
       "    </tr>\n",
       "    <tr>\n",
       "      <th>11189</th>\n",
       "      <td>06/2016</td>\n",
       "      <td>2016.000</td>\n",
       "    </tr>\n",
       "    <tr>\n",
       "      <th>8506</th>\n",
       "      <td>09/2017</td>\n",
       "      <td>2017.000</td>\n",
       "    </tr>\n",
       "    <tr>\n",
       "      <th>2846</th>\n",
       "      <td>06/2016</td>\n",
       "      <td>2016.000</td>\n",
       "    </tr>\n",
       "    <tr>\n",
       "      <th>11850</th>\n",
       "      <td>10/2018</td>\n",
       "      <td>2018.000</td>\n",
       "    </tr>\n",
       "    <tr>\n",
       "      <th>160</th>\n",
       "      <td>02/2018</td>\n",
       "      <td>2018.000</td>\n",
       "    </tr>\n",
       "    <tr>\n",
       "      <th>9511</th>\n",
       "      <td>09/2018</td>\n",
       "      <td>2018.000</td>\n",
       "    </tr>\n",
       "    <tr>\n",
       "      <th>3617</th>\n",
       "      <td>02/2018</td>\n",
       "      <td>2018.000</td>\n",
       "    </tr>\n",
       "    <tr>\n",
       "      <th>6738</th>\n",
       "      <td>02/2017</td>\n",
       "      <td>2017.000</td>\n",
       "    </tr>\n",
       "    <tr>\n",
       "      <th>243</th>\n",
       "      <td>04/2016</td>\n",
       "      <td>2016.000</td>\n",
       "    </tr>\n",
       "    <tr>\n",
       "      <th>11580</th>\n",
       "      <td>07/2017</td>\n",
       "      <td>2017.000</td>\n",
       "    </tr>\n",
       "    <tr>\n",
       "      <th>7829</th>\n",
       "      <td>02/2019</td>\n",
       "      <td>2019.000</td>\n",
       "    </tr>\n",
       "    <tr>\n",
       "      <th>1166</th>\n",
       "      <td>04/2017</td>\n",
       "      <td>2017.000</td>\n",
       "    </tr>\n",
       "    <tr>\n",
       "      <th>4046</th>\n",
       "      <td>02/2018</td>\n",
       "      <td>2018.000</td>\n",
       "    </tr>\n",
       "    <tr>\n",
       "      <th>8806</th>\n",
       "      <td>04/2016</td>\n",
       "      <td>2016.000</td>\n",
       "    </tr>\n",
       "    <tr>\n",
       "      <th>6267</th>\n",
       "      <td>07/2016</td>\n",
       "      <td>2016.000</td>\n",
       "    </tr>\n",
       "    <tr>\n",
       "      <th>11241</th>\n",
       "      <td>09/2017</td>\n",
       "      <td>2017.000</td>\n",
       "    </tr>\n",
       "    <tr>\n",
       "      <th>14229</th>\n",
       "      <td>05/2018</td>\n",
       "      <td>2018.000</td>\n",
       "    </tr>\n",
       "    <tr>\n",
       "      <th>12295</th>\n",
       "      <td>06/2018</td>\n",
       "      <td>2018.000</td>\n",
       "    </tr>\n",
       "    <tr>\n",
       "      <th>204</th>\n",
       "      <td>06/2018</td>\n",
       "      <td>2018.000</td>\n",
       "    </tr>\n",
       "  </tbody>\n",
       "</table>\n",
       "</div>"
      ],
      "text/plain": [
       "      registration  first_registration\n",
       "15194      01/2016            2016.000\n",
       "11189      06/2016            2016.000\n",
       "8506       09/2017            2017.000\n",
       "2846       06/2016            2016.000\n",
       "11850      10/2018            2018.000\n",
       "160        02/2018            2018.000\n",
       "9511       09/2018            2018.000\n",
       "3617       02/2018            2018.000\n",
       "6738       02/2017            2017.000\n",
       "243        04/2016            2016.000\n",
       "11580      07/2017            2017.000\n",
       "7829       02/2019            2019.000\n",
       "1166       04/2017            2017.000\n",
       "4046       02/2018            2018.000\n",
       "8806       04/2016            2016.000\n",
       "6267       07/2016            2016.000\n",
       "11241      09/2017            2017.000\n",
       "14229      05/2018            2018.000\n",
       "12295      06/2018            2018.000\n",
       "204        06/2018            2018.000"
      ]
     },
     "execution_count": 283,
     "metadata": {},
     "output_type": "execute_result"
    }
   ],
   "source": [
    "df[['registration', 'first_registration']].sample(20)"
   ]
  },
  {
   "cell_type": "code",
   "execution_count": 284,
   "id": "37c7df0a",
   "metadata": {},
   "outputs": [],
   "source": [
    "# The data used for this project were scraped in 2019.\n",
    "\n",
    "df['age'] = 2019 - df['first_registration']"
   ]
  },
  {
   "cell_type": "code",
   "execution_count": 285,
   "id": "89a7160f",
   "metadata": {},
   "outputs": [
    {
     "data": {
      "text/plain": [
       "1.000    4522\n",
       "3.000    3674\n",
       "2.000    3273\n",
       "0.000    2853\n",
       "NaN      1597\n",
       "Name: age, dtype: int64"
      ]
     },
     "execution_count": 285,
     "metadata": {},
     "output_type": "execute_result"
    }
   ],
   "source": [
    "# The data used for this project were scraped in 2019.\n",
    "\n",
    "df.age.value_counts(dropna=False)"
   ]
  },
  {
   "cell_type": "code",
   "execution_count": 286,
   "id": "bb83d868",
   "metadata": {},
   "outputs": [],
   "source": [
    "df.drop([\"registration\", \"first_registration\"], axis=1, inplace=True)"
   ]
  },
  {
   "cell_type": "markdown",
   "id": "3fbc86f3",
   "metadata": {},
   "source": [
    "# previous_owner & prev_owner"
   ]
  },
  {
   "cell_type": "code",
   "execution_count": 287,
   "id": "df1cd277",
   "metadata": {},
   "outputs": [
    {
     "data": {
      "text/plain": [
       "1 previous owner     8294\n",
       "None                 6828\n",
       "2 previous owners     778\n",
       "3 previous owners      17\n",
       "4 previous owners       2\n",
       "Name: prev_owner, dtype: int64"
      ]
     },
     "execution_count": 287,
     "metadata": {},
     "output_type": "execute_result"
    }
   ],
   "source": [
    "df.prev_owner.value_counts(dropna=False)"
   ]
  },
  {
   "cell_type": "code",
   "execution_count": 288,
   "id": "e1718a07",
   "metadata": {},
   "outputs": [
    {
     "data": {
      "text/plain": [
       "1      8294\n",
       "NaN    6640\n",
       "2       778\n",
       "0       188\n",
       "3        17\n",
       "4         2\n",
       "Name: previous_owners, dtype: int64"
      ]
     },
     "execution_count": 288,
     "metadata": {},
     "output_type": "execute_result"
    }
   ],
   "source": [
    "df[\"previous_owners\"].value_counts(dropna=False)"
   ]
  },
  {
   "cell_type": "markdown",
   "id": "0a1fbf8c",
   "metadata": {},
   "source": [
    "I prefer \"previous_owners\" column because it has less NaN values. But before dropping \"prev_owner\", I'll fill \"Previous Owners\" with \"prev_owner\"."
   ]
  },
  {
   "cell_type": "code",
   "execution_count": 289,
   "id": "c81351ad",
   "metadata": {},
   "outputs": [],
   "source": [
    "df[\"previous_owners\"] = df[\"previous_owners\"].astype('float')"
   ]
  },
  {
   "cell_type": "code",
   "execution_count": 290,
   "id": "96e5cdf7",
   "metadata": {},
   "outputs": [
    {
     "data": {
      "text/html": [
       "<div>\n",
       "<style scoped>\n",
       "    .dataframe tbody tr th:only-of-type {\n",
       "        vertical-align: middle;\n",
       "    }\n",
       "\n",
       "    .dataframe tbody tr th {\n",
       "        vertical-align: top;\n",
       "    }\n",
       "\n",
       "    .dataframe thead th {\n",
       "        text-align: right;\n",
       "    }\n",
       "</style>\n",
       "<table border=\"1\" class=\"dataframe\">\n",
       "  <thead>\n",
       "    <tr style=\"text-align: right;\">\n",
       "      <th></th>\n",
       "      <th>make_model</th>\n",
       "      <th>body_type</th>\n",
       "      <th>price</th>\n",
       "      <th>vat</th>\n",
       "      <th>km</th>\n",
       "      <th>prev_owner</th>\n",
       "      <th>hp</th>\n",
       "      <th>type</th>\n",
       "      <th>previous_owners</th>\n",
       "      <th>inspection_new</th>\n",
       "      <th>warranty</th>\n",
       "      <th>offer_number</th>\n",
       "      <th>body_color</th>\n",
       "      <th>paint_type</th>\n",
       "      <th>body_color_original</th>\n",
       "      <th>upholstery</th>\n",
       "      <th>nr_of_doors</th>\n",
       "      <th>nr_of_seats</th>\n",
       "      <th>model_code</th>\n",
       "      <th>gearing_type</th>\n",
       "      <th>displacement</th>\n",
       "      <th>cylinders</th>\n",
       "      <th>weight</th>\n",
       "      <th>drive_chain</th>\n",
       "      <th>fuel</th>\n",
       "      <th>consumption</th>\n",
       "      <th>co2_emission</th>\n",
       "      <th>emission_class</th>\n",
       "      <th>comfort_convenience</th>\n",
       "      <th>entertainment_media</th>\n",
       "      <th>extras</th>\n",
       "      <th>safety_security</th>\n",
       "      <th>emission_label</th>\n",
       "      <th>gears</th>\n",
       "      <th>country_version</th>\n",
       "      <th>age</th>\n",
       "    </tr>\n",
       "  </thead>\n",
       "  <tbody>\n",
       "  </tbody>\n",
       "</table>\n",
       "</div>"
      ],
      "text/plain": [
       "Empty DataFrame\n",
       "Columns: [make_model, body_type, price, vat, km, prev_owner, hp, type, previous_owners, inspection_new, warranty, offer_number, body_color, paint_type, body_color_original, upholstery, nr_of_doors, nr_of_seats, model_code, gearing_type, displacement, cylinders, weight, drive_chain, fuel, consumption, co2_emission, emission_class, comfort_convenience, entertainment_media, extras, safety_security, emission_label, gears, country_version, age]\n",
       "Index: []"
      ]
     },
     "execution_count": 290,
     "metadata": {},
     "output_type": "execute_result"
    }
   ],
   "source": [
    "df[(df[\"previous_owners\"].isna()) & (df[\"prev_owner\"].notna())]#.value_counts()"
   ]
  },
  {
   "cell_type": "code",
   "execution_count": 291,
   "id": "a34a7536",
   "metadata": {},
   "outputs": [],
   "source": [
    "df[\"previous_owners\"].fillna(df[\"prev_owner\"], inplace=True)"
   ]
  },
  {
   "cell_type": "code",
   "execution_count": 292,
   "id": "c52688cc",
   "metadata": {},
   "outputs": [
    {
     "data": {
      "text/plain": [
       "1.000    8294\n",
       "NaN      6640\n",
       "2.000     778\n",
       "0.000     188\n",
       "3.000      17\n",
       "4.000       2\n",
       "Name: previous_owners, dtype: int64"
      ]
     },
     "execution_count": 292,
     "metadata": {},
     "output_type": "execute_result"
    }
   ],
   "source": [
    "df[\"previous_owners\"].value_counts(dropna=False)"
   ]
  },
  {
   "cell_type": "code",
   "execution_count": 293,
   "id": "e5f5f2cd",
   "metadata": {},
   "outputs": [
    {
     "data": {
      "text/html": [
       "<div>\n",
       "<style scoped>\n",
       "    .dataframe tbody tr th:only-of-type {\n",
       "        vertical-align: middle;\n",
       "    }\n",
       "\n",
       "    .dataframe tbody tr th {\n",
       "        vertical-align: top;\n",
       "    }\n",
       "\n",
       "    .dataframe thead th {\n",
       "        text-align: right;\n",
       "    }\n",
       "</style>\n",
       "<table border=\"1\" class=\"dataframe\">\n",
       "  <thead>\n",
       "    <tr style=\"text-align: right;\">\n",
       "      <th></th>\n",
       "      <th>make_model</th>\n",
       "      <th>body_type</th>\n",
       "      <th>price</th>\n",
       "      <th>vat</th>\n",
       "      <th>km</th>\n",
       "      <th>prev_owner</th>\n",
       "      <th>hp</th>\n",
       "      <th>type</th>\n",
       "      <th>previous_owners</th>\n",
       "      <th>inspection_new</th>\n",
       "      <th>warranty</th>\n",
       "      <th>offer_number</th>\n",
       "      <th>body_color</th>\n",
       "      <th>paint_type</th>\n",
       "      <th>body_color_original</th>\n",
       "      <th>upholstery</th>\n",
       "      <th>nr_of_doors</th>\n",
       "      <th>nr_of_seats</th>\n",
       "      <th>model_code</th>\n",
       "      <th>gearing_type</th>\n",
       "      <th>displacement</th>\n",
       "      <th>cylinders</th>\n",
       "      <th>weight</th>\n",
       "      <th>drive_chain</th>\n",
       "      <th>fuel</th>\n",
       "      <th>consumption</th>\n",
       "      <th>co2_emission</th>\n",
       "      <th>emission_class</th>\n",
       "      <th>comfort_convenience</th>\n",
       "      <th>entertainment_media</th>\n",
       "      <th>extras</th>\n",
       "      <th>safety_security</th>\n",
       "      <th>emission_label</th>\n",
       "      <th>gears</th>\n",
       "      <th>country_version</th>\n",
       "      <th>age</th>\n",
       "    </tr>\n",
       "  </thead>\n",
       "  <tbody>\n",
       "  </tbody>\n",
       "</table>\n",
       "</div>"
      ],
      "text/plain": [
       "Empty DataFrame\n",
       "Columns: [make_model, body_type, price, vat, km, prev_owner, hp, type, previous_owners, inspection_new, warranty, offer_number, body_color, paint_type, body_color_original, upholstery, nr_of_doors, nr_of_seats, model_code, gearing_type, displacement, cylinders, weight, drive_chain, fuel, consumption, co2_emission, emission_class, comfort_convenience, entertainment_media, extras, safety_security, emission_label, gears, country_version, age]\n",
       "Index: []"
      ]
     },
     "execution_count": 293,
     "metadata": {},
     "output_type": "execute_result"
    }
   ],
   "source": [
    "df[(df[\"previous_owners\"].isna()) & (df[\"prev_owner\"].notna())]#.value_counts()"
   ]
  },
  {
   "cell_type": "code",
   "execution_count": 294,
   "id": "dedcb9dc",
   "metadata": {},
   "outputs": [],
   "source": [
    "df.drop(columns= \"prev_owner\", inplace= True)"
   ]
  },
  {
   "cell_type": "code",
   "execution_count": 295,
   "id": "04fcb67c",
   "metadata": {},
   "outputs": [
    {
     "data": {
      "text/plain": [
       "(15919, 35)"
      ]
     },
     "execution_count": 295,
     "metadata": {},
     "output_type": "execute_result"
    }
   ],
   "source": [
    "df.shape"
   ]
  },
  {
   "cell_type": "markdown",
   "id": "6e477e28",
   "metadata": {},
   "source": [
    "# offer_number"
   ]
  },
  {
   "cell_type": "code",
   "execution_count": 296,
   "id": "410c6a06",
   "metadata": {},
   "outputs": [
    {
     "data": {
      "text/plain": [
       "nan                                                 3175\n",
       "['\\nLT67679\\n']                                       27\n",
       "['\\nUN89904\\n']                                       27\n",
       "['\\nXJ38068\\n']                                       27\n",
       "['\\nJV03654\\n']                                       27\n",
       "                                                    ... \n",
       "['\\n160_dcbb6c3e-a6da-43a3-8754-ccd994cec93b\\n']       1\n",
       "['\\n6701576\\n']                                        1\n",
       "['\\n6701569\\n']                                        1\n",
       "['\\n158121\\n']                                         1\n",
       "['\\nRe_30000008029\\n']                                 1\n",
       "Name: offer_number, Length: 11441, dtype: int64"
      ]
     },
     "execution_count": 296,
     "metadata": {},
     "output_type": "execute_result"
    }
   ],
   "source": [
    "df['offer_number'].astype('str').value_counts(dropna=False)"
   ]
  },
  {
   "cell_type": "code",
   "execution_count": 297,
   "id": "be8e80a1",
   "metadata": {},
   "outputs": [],
   "source": [
    "df['offer_number'] = df['offer_number'].str[0].str.strip('\\n')"
   ]
  },
  {
   "cell_type": "code",
   "execution_count": 298,
   "id": "508d5dcb",
   "metadata": {},
   "outputs": [
    {
     "data": {
      "text/plain": [
       "LT67679                                     27\n",
       "AK13780                                     27\n",
       "TP62881                                     27\n",
       "TA76392                                     27\n",
       "XT61649                                     27\n",
       "                                            ..\n",
       "160_dcbb6c3e-a6da-43a3-8754-ccd994cec93b     1\n",
       "6701576                                      1\n",
       "6701569                                      1\n",
       "158121                                       1\n",
       "Re_30000008029                               1\n",
       "Name: offer_number, Length: 11440, dtype: int64"
      ]
     },
     "execution_count": 298,
     "metadata": {},
     "output_type": "execute_result"
    }
   ],
   "source": [
    "df['offer_number'].value_counts()"
   ]
  },
  {
   "cell_type": "code",
   "execution_count": 299,
   "id": "d940901d",
   "metadata": {},
   "outputs": [
    {
     "data": {
      "text/plain": [
       "4478"
      ]
     },
     "execution_count": 299,
     "metadata": {},
     "output_type": "execute_result"
    }
   ],
   "source": [
    "df.duplicated(subset='offer_number').sum()"
   ]
  },
  {
   "cell_type": "code",
   "execution_count": 300,
   "id": "b6368b5b",
   "metadata": {},
   "outputs": [],
   "source": [
    "df.drop(\"offer_number\", axis=1, inplace=True)"
   ]
  },
  {
   "cell_type": "code",
   "execution_count": 301,
   "id": "6e5ec57a",
   "metadata": {},
   "outputs": [
    {
     "data": {
      "text/plain": [
       "(15919, 34)"
      ]
     },
     "execution_count": 301,
     "metadata": {},
     "output_type": "execute_result"
    }
   ],
   "source": [
    "df.shape"
   ]
  },
  {
   "cell_type": "markdown",
   "id": "4c23949b",
   "metadata": {},
   "source": [
    "## Body Color & Body Color Original"
   ]
  },
  {
   "cell_type": "code",
   "execution_count": 302,
   "id": "888548c0",
   "metadata": {},
   "outputs": [],
   "source": [
    "df.drop([\"body_color\", \"body_color_original\"], axis=1, inplace=True)"
   ]
  },
  {
   "cell_type": "markdown",
   "id": "0e7f2126",
   "metadata": {},
   "source": [
    "# Paint_type"
   ]
  },
  {
   "cell_type": "code",
   "execution_count": 303,
   "id": "6e1449fe",
   "metadata": {},
   "outputs": [
    {
     "data": {
      "text/plain": [
       "['\\nMetallic\\n']       9794\n",
       "nan                    5772\n",
       "['\\nUni/basic\\n']       347\n",
       "['\\nPerl effect\\n']       6\n",
       "Name: paint_type, dtype: int64"
      ]
     },
     "execution_count": 303,
     "metadata": {},
     "output_type": "execute_result"
    }
   ],
   "source": [
    "df['paint_type'].astype('str').value_counts(dropna=False)"
   ]
  },
  {
   "cell_type": "code",
   "execution_count": 304,
   "id": "9a00070c",
   "metadata": {},
   "outputs": [],
   "source": [
    "df['paint_type'] = df['paint_type'].str[0].str.strip('\\n')"
   ]
  },
  {
   "cell_type": "code",
   "execution_count": 305,
   "id": "cc15e155",
   "metadata": {},
   "outputs": [
    {
     "data": {
      "text/plain": [
       "Metallic       9794\n",
       "NaN            5772\n",
       "Uni/basic       347\n",
       "Perl effect       6\n",
       "Name: paint_type, dtype: int64"
      ]
     },
     "execution_count": 305,
     "metadata": {},
     "output_type": "execute_result"
    }
   ],
   "source": [
    "df['paint_type'].value_counts(dropna=False)"
   ]
  },
  {
   "cell_type": "code",
   "execution_count": 306,
   "id": "11020ab9",
   "metadata": {},
   "outputs": [
    {
     "data": {
      "text/plain": [
       "(15919, 32)"
      ]
     },
     "execution_count": 306,
     "metadata": {},
     "output_type": "execute_result"
    }
   ],
   "source": [
    "df.shape"
   ]
  },
  {
   "cell_type": "markdown",
   "id": "89f7f1f6",
   "metadata": {},
   "source": [
    "# upholstery "
   ]
  },
  {
   "cell_type": "code",
   "execution_count": 307,
   "id": "916d591e",
   "metadata": {},
   "outputs": [],
   "source": [
    "df[\"upholstery\"] = [item[0] if type(item) == list else item for item in df.upholstery]"
   ]
  },
  {
   "cell_type": "code",
   "execution_count": 308,
   "id": "c0db36ce",
   "metadata": {},
   "outputs": [
    {
     "data": {
      "text/plain": [
       "Cloth, Black           5821\n",
       "NaN                    3720\n",
       "Part leather, Black    1121\n",
       "Cloth                  1005\n",
       "Cloth, Grey             891\n",
       "Cloth, Other            639\n",
       "Full leather, Black     575\n",
       "Black                   491\n",
       "Grey                    273\n",
       "Other, Other            182\n",
       "Part leather            140\n",
       "Full leather            139\n",
       "Full leather, Brown     116\n",
       "Part leather, Grey      116\n",
       "Other, Black            110\n",
       "Full leather, Other      72\n",
       "Full leather, Grey       67\n",
       "Part leather, Other      65\n",
       "Other                    56\n",
       "Part leather, Brown      50\n",
       "alcantara, Black         47\n",
       "Velour, Black            36\n",
       "Full leather, Beige      36\n",
       "Cloth, Brown             28\n",
       "Velour                   16\n",
       "Other, Grey              15\n",
       "Cloth, Beige             13\n",
       "Brown                    12\n",
       "Cloth, Blue              12\n",
       "Velour, Grey              8\n",
       "Cloth, White              8\n",
       "alcantara, Grey           6\n",
       "Cloth, Red                5\n",
       "Other, Yellow             4\n",
       "Part leather, Red         3\n",
       "Beige                     3\n",
       "Part leather, White       2\n",
       "Full leather, Blue        2\n",
       "alcantara, Other          2\n",
       "alcantara                 2\n",
       "White                     2\n",
       "Part leather, Beige       2\n",
       "Blue                      2\n",
       "Cloth, Orange             1\n",
       "Full leather, Red         1\n",
       "Other, Brown              1\n",
       "Full leather, White       1\n",
       "Name: upholstery, dtype: int64"
      ]
     },
     "execution_count": 308,
     "metadata": {},
     "output_type": "execute_result"
    }
   ],
   "source": [
    "df[\"upholstery\"].value_counts(dropna=False)"
   ]
  },
  {
   "cell_type": "code",
   "execution_count": 309,
   "id": "ee5c0100",
   "metadata": {},
   "outputs": [],
   "source": [
    "df[\"upholstery\"] = df.upholstery.str.strip(\"\\n\").str.split(\", \")"
   ]
  },
  {
   "cell_type": "code",
   "execution_count": 310,
   "id": "4434587d",
   "metadata": {},
   "outputs": [
    {
     "data": {
      "text/plain": [
       "['Cloth', 'Black']           5821\n",
       "nan                          3720\n",
       "['Part leather', 'Black']    1121\n",
       "['Cloth']                    1005\n",
       "['Cloth', 'Grey']             891\n",
       "['Cloth', 'Other']            639\n",
       "['Full leather', 'Black']     575\n",
       "['Black']                     491\n",
       "['Grey']                      273\n",
       "['Other', 'Other']            182\n",
       "['Part leather']              140\n",
       "['Full leather']              139\n",
       "['Full leather', 'Brown']     116\n",
       "['Part leather', 'Grey']      116\n",
       "['Other', 'Black']            110\n",
       "['Full leather', 'Other']      72\n",
       "['Full leather', 'Grey']       67\n",
       "['Part leather', 'Other']      65\n",
       "['Other']                      56\n",
       "['Part leather', 'Brown']      50\n",
       "['alcantara', 'Black']         47\n",
       "['Velour', 'Black']            36\n",
       "['Full leather', 'Beige']      36\n",
       "['Cloth', 'Brown']             28\n",
       "['Velour']                     16\n",
       "['Other', 'Grey']              15\n",
       "['Cloth', 'Beige']             13\n",
       "['Brown']                      12\n",
       "['Cloth', 'Blue']              12\n",
       "['Velour', 'Grey']              8\n",
       "['Cloth', 'White']              8\n",
       "['alcantara', 'Grey']           6\n",
       "['Cloth', 'Red']                5\n",
       "['Other', 'Yellow']             4\n",
       "['Part leather', 'Red']         3\n",
       "['Beige']                       3\n",
       "['Part leather', 'White']       2\n",
       "['Full leather', 'Blue']        2\n",
       "['alcantara', 'Other']          2\n",
       "['alcantara']                   2\n",
       "['White']                       2\n",
       "['Part leather', 'Beige']       2\n",
       "['Blue']                        2\n",
       "['Cloth', 'Orange']             1\n",
       "['Full leather', 'Red']         1\n",
       "['Other', 'Brown']              1\n",
       "['Full leather', 'White']       1\n",
       "Name: upholstery, dtype: int64"
      ]
     },
     "execution_count": 310,
     "metadata": {},
     "output_type": "execute_result"
    }
   ],
   "source": [
    "df[\"upholstery\"].astype('str').value_counts(dropna=False)"
   ]
  },
  {
   "cell_type": "code",
   "execution_count": 311,
   "id": "4eb6398d",
   "metadata": {},
   "outputs": [],
   "source": [
    "u_type = [\"Cloth\", 'Part leather', 'Full leather', 'Velour', 'alcantara']\n",
    "\n",
    "df[\"upholstery_type\"] = df[\"upholstery\"].apply(lambda x : x[0] if type(x) == list and x[0] in u_type else np.nan)"
   ]
  },
  {
   "cell_type": "code",
   "execution_count": 312,
   "id": "776f114d",
   "metadata": {},
   "outputs": [
    {
     "data": {
      "text/plain": [
       "Cloth           8423\n",
       "NaN             4871\n",
       "Part leather    1499\n",
       "Full leather    1009\n",
       "Velour            60\n",
       "alcantara         57\n",
       "Name: upholstery_type, dtype: int64"
      ]
     },
     "execution_count": 312,
     "metadata": {},
     "output_type": "execute_result"
    }
   ],
   "source": [
    "df[\"upholstery_type\"].value_counts(dropna=False)"
   ]
  },
  {
   "cell_type": "code",
   "execution_count": 313,
   "id": "e5d59b1b",
   "metadata": {},
   "outputs": [],
   "source": [
    "color = ['Black', 'Grey', 'Brown', 'Beige', 'White', 'Blue', 'Red', 'Yellow', 'Orange']\n",
    "\n",
    "def color_finder(x):\n",
    "    if type(x) == list and len(x) == 2:\n",
    "        return x[1]\n",
    "    elif type(x) == list and x[0] in color:\n",
    "        return x[0]\n",
    "    else:\n",
    "        return np.nan\n",
    "    \n",
    "df['upholstery_color'] = df.upholstery.apply(color_finder)"
   ]
  },
  {
   "cell_type": "code",
   "execution_count": 314,
   "id": "dd641fed",
   "metadata": {},
   "outputs": [
    {
     "data": {
      "text/plain": [
       "Black     8201\n",
       "NaN       5078\n",
       "Grey      1376\n",
       "Other      960\n",
       "Brown      207\n",
       "Beige       54\n",
       "Blue        16\n",
       "White       13\n",
       "Red          9\n",
       "Yellow       4\n",
       "Orange       1\n",
       "Name: upholstery_color, dtype: int64"
      ]
     },
     "execution_count": 314,
     "metadata": {},
     "output_type": "execute_result"
    }
   ],
   "source": [
    "df[\"upholstery_color\"].value_counts(dropna=False)"
   ]
  },
  {
   "cell_type": "code",
   "execution_count": 315,
   "id": "ceebbcd5",
   "metadata": {},
   "outputs": [],
   "source": [
    "df.drop(\"upholstery\", axis=1, inplace=True)"
   ]
  },
  {
   "cell_type": "code",
   "execution_count": 316,
   "id": "16c6f9d9",
   "metadata": {},
   "outputs": [
    {
     "data": {
      "text/plain": [
       "(15919, 33)"
      ]
     },
     "execution_count": 316,
     "metadata": {},
     "output_type": "execute_result"
    }
   ],
   "source": [
    "df.shape"
   ]
  },
  {
   "cell_type": "markdown",
   "id": "d08f524c",
   "metadata": {},
   "source": [
    "# nr__of_door & nr_of_seast"
   ]
  },
  {
   "cell_type": "code",
   "execution_count": 317,
   "id": "baba357c",
   "metadata": {},
   "outputs": [
    {
     "data": {
      "text/plain": [
       "5      11575\n",
       "4       3079\n",
       "3        832\n",
       "2        219\n",
       "nan      212\n",
       "1          1\n",
       "7          1\n",
       "Name: nr_of_doors, dtype: int64"
      ]
     },
     "execution_count": 317,
     "metadata": {},
     "output_type": "execute_result"
    }
   ],
   "source": [
    "df[\"nr_of_doors\"].astype('str').value_counts(dropna=False)"
   ]
  },
  {
   "cell_type": "code",
   "execution_count": 318,
   "id": "0edb380c",
   "metadata": {},
   "outputs": [],
   "source": [
    "df['Nr_of_Doors'] = df['nr_of_doors'].str[0].str.strip('\\n').astype('float')"
   ]
  },
  {
   "cell_type": "code",
   "execution_count": 319,
   "id": "25c17e53",
   "metadata": {},
   "outputs": [
    {
     "data": {
      "text/plain": [
       "5.000    11575\n",
       "4.000     3079\n",
       "3.000      832\n",
       "2.000      219\n",
       "NaN        212\n",
       "1.000        1\n",
       "7.000        1\n",
       "Name: Nr_of_Doors, dtype: int64"
      ]
     },
     "execution_count": 319,
     "metadata": {},
     "output_type": "execute_result"
    }
   ],
   "source": [
    "df[\"Nr_of_Doors\"].value_counts(dropna=False)"
   ]
  },
  {
   "cell_type": "code",
   "execution_count": 320,
   "id": "c807cd99",
   "metadata": {},
   "outputs": [],
   "source": [
    "df.drop(\"nr_of_doors\", axis=1, inplace=True)"
   ]
  },
  {
   "cell_type": "code",
   "execution_count": 321,
   "id": "00d42c3e",
   "metadata": {},
   "outputs": [
    {
     "data": {
      "text/plain": [
       "(15919, 33)"
      ]
     },
     "execution_count": 321,
     "metadata": {},
     "output_type": "execute_result"
    }
   ],
   "source": [
    "df.shape"
   ]
  },
  {
   "cell_type": "code",
   "execution_count": 322,
   "id": "7cded7b5",
   "metadata": {},
   "outputs": [
    {
     "data": {
      "text/plain": [
       "5      13336\n",
       "4       1125\n",
       "nan      977\n",
       "7        362\n",
       "2        116\n",
       "6          2\n",
       "3          1\n",
       "Name: nr_of_seats, dtype: int64"
      ]
     },
     "execution_count": 322,
     "metadata": {},
     "output_type": "execute_result"
    }
   ],
   "source": [
    "df[\"nr_of_seats\"].astype('str').value_counts(dropna=False)"
   ]
  },
  {
   "cell_type": "code",
   "execution_count": 323,
   "id": "a6698974",
   "metadata": {},
   "outputs": [],
   "source": [
    "df['Nr_of_Seats'] = df['nr_of_seats'].str[0].str.strip('\\n').astype('float')"
   ]
  },
  {
   "cell_type": "code",
   "execution_count": 324,
   "id": "4420b992",
   "metadata": {},
   "outputs": [
    {
     "data": {
      "text/plain": [
       "5.000    13336\n",
       "4.000     1125\n",
       "NaN        977\n",
       "7.000      362\n",
       "2.000      116\n",
       "6.000        2\n",
       "3.000        1\n",
       "Name: Nr_of_Seats, dtype: int64"
      ]
     },
     "execution_count": 324,
     "metadata": {},
     "output_type": "execute_result"
    }
   ],
   "source": [
    "df[\"Nr_of_Seats\"].value_counts(dropna=False)"
   ]
  },
  {
   "cell_type": "code",
   "execution_count": 325,
   "id": "9a0c6ca7",
   "metadata": {},
   "outputs": [],
   "source": [
    "df.drop(\"nr_of_seats\", axis=1, inplace=True)"
   ]
  },
  {
   "cell_type": "code",
   "execution_count": 326,
   "id": "1a63b804",
   "metadata": {},
   "outputs": [
    {
     "data": {
      "text/plain": [
       "Index(['make_model', 'body_type', 'price', 'vat', 'km', 'hp', 'type',\n",
       "       'previous_owners', 'inspection_new', 'warranty', 'paint_type',\n",
       "       'model_code', 'gearing_type', 'displacement', 'cylinders', 'weight',\n",
       "       'drive_chain', 'fuel', 'consumption', 'co2_emission', 'emission_class',\n",
       "       'comfort_convenience', 'entertainment_media', 'extras',\n",
       "       'safety_security', 'emission_label', 'gears', 'country_version', 'age',\n",
       "       'upholstery_type', 'upholstery_color', 'Nr_of_Doors', 'Nr_of_Seats'],\n",
       "      dtype='object')"
      ]
     },
     "execution_count": 326,
     "metadata": {},
     "output_type": "execute_result"
    }
   ],
   "source": [
    "df.columns"
   ]
  },
  {
   "cell_type": "markdown",
   "id": "e159d114",
   "metadata": {},
   "source": [
    "# Model_Code"
   ]
  },
  {
   "cell_type": "code",
   "execution_count": 327,
   "id": "dfb64575",
   "metadata": {},
   "outputs": [
    {
     "data": {
      "text/plain": [
       "nan                 10941\n",
       "['\\n0035/BCB\\n']      268\n",
       "['\\n0588/BNO\\n']      245\n",
       "['\\n0588/BDB\\n']      206\n",
       "['\\n0588/BHX\\n']      188\n",
       "                    ...  \n",
       "['\\n0035/AVN\\n']        1\n",
       "['\\n0035/BEM\\n']        1\n",
       "['\\n0035/BAG\\n']        1\n",
       "['\\n0035/BAA\\n']        1\n",
       "['\\n3333/BKG\\n']        1\n",
       "Name: model_code, Length: 233, dtype: int64"
      ]
     },
     "execution_count": 327,
     "metadata": {},
     "output_type": "execute_result"
    }
   ],
   "source": [
    "df[\"model_code\"].astype('str').value_counts(dropna=False)"
   ]
  },
  {
   "cell_type": "code",
   "execution_count": 328,
   "id": "3d724722",
   "metadata": {},
   "outputs": [],
   "source": [
    "df.drop(\"model_code\", axis=1, inplace=True)"
   ]
  },
  {
   "cell_type": "code",
   "execution_count": 329,
   "id": "7f514921",
   "metadata": {},
   "outputs": [
    {
     "data": {
      "text/plain": [
       "Manual            8153\n",
       "Automatic         7297\n",
       "Semi-automatic     469\n",
       "Name: gearing_type, dtype: int64"
      ]
     },
     "execution_count": 329,
     "metadata": {},
     "output_type": "execute_result"
    }
   ],
   "source": [
    "df.gearing_type.value_counts(dropna= False)"
   ]
  },
  {
   "cell_type": "markdown",
   "id": "c3bdac12",
   "metadata": {},
   "source": [
    "# displacement "
   ]
  },
  {
   "cell_type": "code",
   "execution_count": 330,
   "id": "6146f934",
   "metadata": {},
   "outputs": [
    {
     "data": {
      "text/plain": [
       "0        1,422  \n",
       "1        1,798  \n",
       "2        1,598  \n",
       "3        1,422  \n",
       "4        1,422  \n",
       "          ...   \n",
       "15914    1,997  \n",
       "15915    1,798  \n",
       "15916    1,997  \n",
       "15917    1,997  \n",
       "15918    1,798  \n",
       "Name: displacement, Length: 15919, dtype: object"
      ]
     },
     "execution_count": 330,
     "metadata": {},
     "output_type": "execute_result"
    }
   ],
   "source": [
    "df.displacement = df.displacement.str.replace('cc',' ')\n",
    "df.displacement "
   ]
  },
  {
   "cell_type": "code",
   "execution_count": 331,
   "id": "61b8fca0",
   "metadata": {},
   "outputs": [
    {
     "data": {
      "text/plain": [
       "0       1422.000\n",
       "1       1798.000\n",
       "2       1598.000\n",
       "3       1422.000\n",
       "4       1422.000\n",
       "          ...   \n",
       "15914   1997.000\n",
       "15915   1798.000\n",
       "15916   1997.000\n",
       "15917   1997.000\n",
       "15918   1798.000\n",
       "Name: displacement, Length: 15919, dtype: float64"
      ]
     },
     "execution_count": 331,
     "metadata": {},
     "output_type": "execute_result"
    }
   ],
   "source": [
    "df.displacement.str.strip('\\n').str.replace(',', '').astype('float')"
   ]
  },
  {
   "cell_type": "markdown",
   "id": "e22c92f1",
   "metadata": {},
   "source": [
    "# weight "
   ]
  },
  {
   "cell_type": "code",
   "execution_count": 332,
   "id": "765335ed",
   "metadata": {},
   "outputs": [
    {
     "data": {
      "text/plain": [
       "0        1,220  \n",
       "1        1,255  \n",
       "2            NaN\n",
       "3        1,195  \n",
       "4            NaN\n",
       "          ...   \n",
       "15914    1,758  \n",
       "15915    1,708  \n",
       "15916        NaN\n",
       "15917    1,758  \n",
       "15918    1,685  \n",
       "Name: weight, Length: 15919, dtype: object"
      ]
     },
     "execution_count": 332,
     "metadata": {},
     "output_type": "execute_result"
    }
   ],
   "source": [
    "df.weight = df.weight.str.replace('kg',' ')\n",
    "df.weight"
   ]
  },
  {
   "cell_type": "code",
   "execution_count": 333,
   "id": "1e47cde9",
   "metadata": {},
   "outputs": [
    {
     "data": {
      "text/plain": [
       "0       1220.000\n",
       "1       1255.000\n",
       "2            NaN\n",
       "3       1195.000\n",
       "4            NaN\n",
       "          ...   \n",
       "15914   1758.000\n",
       "15915   1708.000\n",
       "15916        NaN\n",
       "15917   1758.000\n",
       "15918   1685.000\n",
       "Name: weight, Length: 15919, dtype: float64"
      ]
     },
     "execution_count": 333,
     "metadata": {},
     "output_type": "execute_result"
    }
   ],
   "source": [
    "df.weight.str.strip('\\n').str.replace(',', '').astype('float')"
   ]
  },
  {
   "cell_type": "code",
   "execution_count": 334,
   "id": "b0e215fc",
   "metadata": {},
   "outputs": [
    {
     "data": {
      "text/plain": [
       "NaN        6974\n",
       "1,163       574\n",
       "1,360       356\n",
       "1,165       301\n",
       "1,335       242\n",
       "           ... \n",
       "1,960         1\n",
       "1,258         1\n",
       "1,167         1\n",
       "1,331         1\n",
       "2,037         1\n",
       "Name: weight, Length: 435, dtype: int64"
      ]
     },
     "execution_count": 334,
     "metadata": {},
     "output_type": "execute_result"
    }
   ],
   "source": [
    "df.weight.value_counts(dropna= False)"
   ]
  },
  {
   "cell_type": "markdown",
   "id": "4c218722",
   "metadata": {},
   "source": [
    "# Cylinders"
   ]
  },
  {
   "cell_type": "code",
   "execution_count": 335,
   "id": "0e6612be",
   "metadata": {},
   "outputs": [],
   "source": [
    "df[\"cylinders\"] = df.cylinders.str[0].str.strip('\\n').astype(\"float\")"
   ]
  },
  {
   "cell_type": "code",
   "execution_count": 336,
   "id": "e968b62f",
   "metadata": {},
   "outputs": [
    {
     "data": {
      "text/plain": [
       "4.000    8105\n",
       "NaN      5680\n",
       "3.000    2104\n",
       "5.000      22\n",
       "6.000       3\n",
       "8.000       2\n",
       "2.000       2\n",
       "1.000       1\n",
       "Name: cylinders, dtype: int64"
      ]
     },
     "execution_count": 336,
     "metadata": {},
     "output_type": "execute_result"
    }
   ],
   "source": [
    "df[\"cylinders\"].value_counts(dropna=False)"
   ]
  },
  {
   "cell_type": "markdown",
   "id": "67d73467",
   "metadata": {},
   "source": [
    "# consumption "
   ]
  },
  {
   "cell_type": "code",
   "execution_count": 337,
   "id": "453cbb2e",
   "metadata": {},
   "outputs": [
    {
     "data": {
      "text/plain": [
       "nan                                                                                                 1906\n",
       "[['3.9 l/100 km (comb)'], ['4.1 l/100 km (city)'], ['3.7 l/100 km (country)']]                       304\n",
       "[['4.2 l/100 km (comb)'], ['5 l/100 km (city)'], ['3.7 l/100 km (country)']]                         276\n",
       "[['5.4 l/100 km (comb)'], ['6.8 l/100 km (city)'], ['4.5 l/100 km (country)']]                       257\n",
       "[['3.8 l/100 km (comb)'], ['4.3 l/100 km (city)'], ['3.5 l/100 km (country)']]                       253\n",
       "                                                                                                    ... \n",
       "[['4.2 l/100 km (comb)'], ['5.3 l/100 km (city)'], ['3.6 l/100 km (country)']]                         1\n",
       "['\\n', '5.1 l/100 km (comb)', '\\n', '6.4 l/100 km (city)', '\\n', '4.3 l/100 km (country)', '\\n']       1\n",
       "[['4.6 l/100 km (comb)'], ['5.4 l/100 km (city)'], ['6.7 l/100 km (country)']]                         1\n",
       "['\\n', '6.3 l/100 km (comb)', '\\n', '\\n', '\\n']                                                        1\n",
       "['\\n', '7.4 l/100 km (comb)', '\\n', '9.6 l/100 km (city)', '\\n', '6 l/100 km (country)', '\\n']         1\n",
       "Name: consumption, Length: 882, dtype: int64"
      ]
     },
     "execution_count": 337,
     "metadata": {},
     "output_type": "execute_result"
    }
   ],
   "source": [
    "df[\"consumption\"].astype('str').value_counts(dropna=False)"
   ]
  },
  {
   "cell_type": "code",
   "execution_count": 338,
   "id": "02e48c0c",
   "metadata": {},
   "outputs": [],
   "source": [
    "def cons_comb(x):\n",
    "    \n",
    "    if type(x)==list and len(x)==3:\n",
    "        if x[0] != []: return x[0][0]\n",
    "        else: return None\n",
    "        \n",
    "    if type(x)==list and len(x)==5:\n",
    "        return x[1]\n",
    "    \n",
    "    if type(x)==list and len(x)==7:\n",
    "        return x[1]\n",
    "    \n",
    "    else:\n",
    "        return None"
   ]
  },
  {
   "cell_type": "code",
   "execution_count": 339,
   "id": "865cd378",
   "metadata": {},
   "outputs": [],
   "source": [
    "df['cons_comb'] = df.consumption.apply(cons_comb).str.extract('(\\d{1,2}.\\d|\\d{1,3})').astype(\"float\") # str.extract('(\\S+)')"
   ]
  },
  {
   "cell_type": "code",
   "execution_count": 340,
   "id": "21d21969",
   "metadata": {},
   "outputs": [
    {
     "data": {
      "text/plain": [
       "NaN      2033\n",
       "5.400     770\n",
       "3.900     733\n",
       "4.000     713\n",
       "5.100     657\n",
       "Name: cons_comb, dtype: int64"
      ]
     },
     "execution_count": 340,
     "metadata": {},
     "output_type": "execute_result"
    }
   ],
   "source": [
    "df[\"cons_comb\"].value_counts(dropna=False).head()"
   ]
  },
  {
   "cell_type": "code",
   "execution_count": 341,
   "id": "b6644f90",
   "metadata": {},
   "outputs": [],
   "source": [
    "def cons_city(x):\n",
    "    \n",
    "    if type(x)==list and len(x)==3:\n",
    "        if x[1] != []: return x[1][0]\n",
    "        else: return None\n",
    "        \n",
    "    if type(x)==list and len(x)==5:\n",
    "        return None\n",
    "    \n",
    "    if type(x)==list and len(x)==7:\n",
    "        return x[3]\n",
    "    \n",
    "    else:\n",
    "        return None"
   ]
  },
  {
   "cell_type": "code",
   "execution_count": 342,
   "id": "e5b394a8",
   "metadata": {},
   "outputs": [],
   "source": [
    "df['cons_city'] = df.consumption.apply(cons_city).str.extract('(\\d{1,2}.\\d|\\d{1,3})').astype(\"float\")"
   ]
  },
  {
   "cell_type": "code",
   "execution_count": 343,
   "id": "0da40675",
   "metadata": {},
   "outputs": [],
   "source": [
    "def cons_country(x):\n",
    "    \n",
    "    if type(x)==list and len(x)==3:\n",
    "        if x[2] != []: return x[2][0]\n",
    "        else: return None\n",
    "        \n",
    "    if type(x)==list and len(x)==5:\n",
    "        return None\n",
    "    \n",
    "    if type(x)==list and len(x)==7:\n",
    "        return x[5]\n",
    "    \n",
    "    else:\n",
    "        return None"
   ]
  },
  {
   "cell_type": "code",
   "execution_count": 344,
   "id": "e4e3e14f",
   "metadata": {},
   "outputs": [],
   "source": [
    "df['cons_country'] = df.consumption.apply(cons_country).str.extract('(\\d{1,2}.\\d|\\d{1,3})').astype(\"float\")"
   ]
  },
  {
   "cell_type": "code",
   "execution_count": 345,
   "id": "acb0d610",
   "metadata": {},
   "outputs": [],
   "source": [
    "df.drop('consumption', axis=1,inplace=True)"
   ]
  },
  {
   "cell_type": "markdown",
   "id": "ae7515a0",
   "metadata": {},
   "source": [
    "# Co2 Emission"
   ]
  },
  {
   "cell_type": "code",
   "execution_count": 346,
   "id": "82fac095",
   "metadata": {},
   "outputs": [
    {
     "data": {
      "text/plain": [
       "nan                      2436\n",
       "120 g CO2/km (comb)       740\n",
       "99 g CO2/km (comb)        545\n",
       "97 g CO2/km (comb)        537\n",
       "104 g CO2/km (comb)       501\n",
       "                         ... \n",
       "14 g CO2/km (comb)          1\n",
       "1,060 g CO2/km (comb)       1\n",
       "51 g CO2/km (comb)          1\n",
       "165 g CO2/km (comb)         1\n",
       "193 g CO2/km (comb)         1\n",
       "Name: co2_emission, Length: 123, dtype: int64"
      ]
     },
     "execution_count": 346,
     "metadata": {},
     "output_type": "execute_result"
    }
   ],
   "source": [
    "df[\"co2_emission\"].astype('str').value_counts(dropna=False)"
   ]
  },
  {
   "cell_type": "code",
   "execution_count": 347,
   "id": "0b4c1009",
   "metadata": {},
   "outputs": [],
   "source": [
    "df[\"co2_emission\"] = df['co2_emission'].str[0].str.strip().str.replace(',', '').str.extract('(\\d+)').astype('float')"
   ]
  },
  {
   "cell_type": "code",
   "execution_count": 348,
   "id": "667ad742",
   "metadata": {},
   "outputs": [
    {
     "data": {
      "text/plain": [
       "1.000    11343\n",
       "NaN       2436\n",
       "9.000     1784\n",
       "8.000      343\n",
       "3.000        4\n",
       "5.000        4\n",
       "0.000        2\n",
       "2.000        2\n",
       "4.000        1\n",
       "Name: co2_emission, dtype: int64"
      ]
     },
     "execution_count": 348,
     "metadata": {},
     "output_type": "execute_result"
    }
   ],
   "source": [
    "df[\"co2_emission\"].value_counts(dropna=False)"
   ]
  },
  {
   "cell_type": "code",
   "execution_count": 349,
   "id": "406ab9ba",
   "metadata": {},
   "outputs": [
    {
     "data": {
      "text/plain": [
       "(15919, 34)"
      ]
     },
     "execution_count": 349,
     "metadata": {},
     "output_type": "execute_result"
    }
   ],
   "source": [
    "df.shape"
   ]
  },
  {
   "cell_type": "markdown",
   "id": "9ca40894",
   "metadata": {},
   "source": [
    "# Emisson_Class"
   ]
  },
  {
   "cell_type": "code",
   "execution_count": 350,
   "id": "c399eaa2",
   "metadata": {},
   "outputs": [
    {
     "data": {
      "text/plain": [
       "Euro 6          10139\n",
       "nan              3628\n",
       "Euro 6d-TEMP     1845\n",
       "Euro 6c           127\n",
       "Euro 5             78\n",
       "Euro 6d            62\n",
       "Euro 4             40\n",
       "Name: emission_class, dtype: int64"
      ]
     },
     "execution_count": 350,
     "metadata": {},
     "output_type": "execute_result"
    }
   ],
   "source": [
    "df[\"emission_class\"].astype('str').value_counts(dropna=False)"
   ]
  },
  {
   "cell_type": "code",
   "execution_count": 351,
   "id": "927c4628",
   "metadata": {},
   "outputs": [],
   "source": [
    "\n",
    "df.replace({\"emission_class\" : {\"Euro 6d-TEMP\": \"Euro 6\", \"Euro 6c\": \"Euro 6\", \"Euro 6d\": \"Euro 6\"}}, regex=True, inplace=True)\n"
   ]
  },
  {
   "cell_type": "code",
   "execution_count": 352,
   "id": "b2d7a24e",
   "metadata": {},
   "outputs": [
    {
     "data": {
      "text/plain": [
       "Euro 6    12173\n",
       "nan        3628\n",
       "Euro 5       78\n",
       "Euro 4       40\n",
       "Name: emission_class, dtype: int64"
      ]
     },
     "execution_count": 352,
     "metadata": {},
     "output_type": "execute_result"
    }
   ],
   "source": [
    "df[\"emission_class\"].astype('str').value_counts(dropna=False)"
   ]
  },
  {
   "cell_type": "markdown",
   "id": "129560c3",
   "metadata": {},
   "source": [
    "# emission_label"
   ]
  },
  {
   "cell_type": "code",
   "execution_count": 353,
   "id": "3c0819d1",
   "metadata": {},
   "outputs": [
    {
     "data": {
      "text/plain": [
       "nan                       11934\n",
       "['\\n4 (Green)\\n']          3553\n",
       "['\\n1 (No sticker)\\n']      381\n",
       "[[], [], []]                 40\n",
       "['\\n5 (Blue)\\n']              8\n",
       "['\\n3 (Yellow)\\n']            2\n",
       "['\\n2 (Red)\\n']               1\n",
       "Name: emission_label, dtype: int64"
      ]
     },
     "execution_count": 353,
     "metadata": {},
     "output_type": "execute_result"
    }
   ],
   "source": [
    "df.emission_label.astype('str').value_counts(dropna=False)"
   ]
  },
  {
   "cell_type": "code",
   "execution_count": 354,
   "id": "2633c5e8",
   "metadata": {},
   "outputs": [],
   "source": [
    "df.drop(\"emission_label\", axis = 1, inplace = True)"
   ]
  },
  {
   "cell_type": "markdown",
   "id": "0c4a9997",
   "metadata": {},
   "source": [
    "# Gears"
   ]
  },
  {
   "cell_type": "code",
   "execution_count": 355,
   "id": "737d1be3",
   "metadata": {},
   "outputs": [
    {
     "data": {
      "text/plain": [
       "6      5822\n",
       "NaN    4712\n",
       "5      3239\n",
       "7      1908\n",
       "8       224\n",
       "9         6\n",
       "1         2\n",
       "3         2\n",
       "4         2\n",
       "2         1\n",
       "50        1\n",
       "Name: gears, dtype: int64"
      ]
     },
     "execution_count": 355,
     "metadata": {},
     "output_type": "execute_result"
    }
   ],
   "source": [
    "df.gears.value_counts(dropna = False )"
   ]
  },
  {
   "cell_type": "markdown",
   "id": "e6450257",
   "metadata": {},
   "source": [
    "# comfort_convenience "
   ]
  },
  {
   "cell_type": "code",
   "execution_count": 356,
   "id": "5b8672f7",
   "metadata": {},
   "outputs": [
    {
     "data": {
      "text/plain": [
       "0        Air conditioning, Armrest, Automatic climate c...\n",
       "1        Air conditioning, Automatic climate control, H...\n",
       "2        Air conditioning, Cruise control, Electrical s...\n",
       "3        Air suspension, Armrest, Auxiliary heating, El...\n",
       "4        Air conditioning, Armrest, Automatic climate c...\n",
       "                               ...                        \n",
       "15914    Air conditioning, Automatic climate control, C...\n",
       "15915    Air conditioning, Automatic climate control, C...\n",
       "15916    Air conditioning, Armrest, Automatic climate c...\n",
       "15917    Air conditioning, Automatic climate control, C...\n",
       "15918    Air conditioning, Automatic climate control, C...\n",
       "Name: comfort_convenience, Length: 15919, dtype: object"
      ]
     },
     "execution_count": 356,
     "metadata": {},
     "output_type": "execute_result"
    }
   ],
   "source": [
    "df[\"comfort_convenience\"] = [\", \".join(item) if type(item) == list else item for item in df.comfort_convenience]\n",
    "df[\"comfort_convenience\"]"
   ]
  },
  {
   "cell_type": "markdown",
   "id": "5b57c1b1",
   "metadata": {},
   "source": [
    "# entertainment_media"
   ]
  },
  {
   "cell_type": "code",
   "execution_count": 357,
   "id": "db87f836",
   "metadata": {},
   "outputs": [
    {
     "data": {
      "text/plain": [
       "0        [Bluetooth, Hands-free equipment, On-board com...\n",
       "1        [Bluetooth, Hands-free equipment, On-board com...\n",
       "2                                 [MP3, On-board computer]\n",
       "3        [Bluetooth, CD player, Hands-free equipment, M...\n",
       "4        [Bluetooth, CD player, Hands-free equipment, M...\n",
       "                               ...                        \n",
       "15914    [Bluetooth, Digital radio, Hands-free equipmen...\n",
       "15915    [Bluetooth, Digital radio, Hands-free equipmen...\n",
       "15916    [Bluetooth, Hands-free equipment, On-board com...\n",
       "15917               [Bluetooth, Digital radio, Radio, USB]\n",
       "15918                                                [USB]\n",
       "Name: entertainment_media, Length: 15919, dtype: object"
      ]
     },
     "execution_count": 357,
     "metadata": {},
     "output_type": "execute_result"
    }
   ],
   "source": [
    "df[\"entertainment_media\"]"
   ]
  },
  {
   "cell_type": "code",
   "execution_count": 358,
   "id": "28a9fad5",
   "metadata": {},
   "outputs": [
    {
     "data": {
      "text/plain": [
       "0        Bluetooth, Hands-free equipment, On-board comp...\n",
       "1        Bluetooth, Hands-free equipment, On-board comp...\n",
       "2                                   MP3, On-board computer\n",
       "3        Bluetooth, CD player, Hands-free equipment, MP...\n",
       "4        Bluetooth, CD player, Hands-free equipment, MP...\n",
       "                               ...                        \n",
       "15914    Bluetooth, Digital radio, Hands-free equipment...\n",
       "15915    Bluetooth, Digital radio, Hands-free equipment...\n",
       "15916    Bluetooth, Hands-free equipment, On-board comp...\n",
       "15917                 Bluetooth, Digital radio, Radio, USB\n",
       "15918                                                  USB\n",
       "Name: entertainment_media, Length: 15919, dtype: object"
      ]
     },
     "execution_count": 358,
     "metadata": {},
     "output_type": "execute_result"
    }
   ],
   "source": [
    "df[\"entertainment_media\"]=[\", \".join(item) if type(item) == list else item for item in df.entertainment_media]\n",
    "df[\"entertainment_media\"]"
   ]
  },
  {
   "cell_type": "markdown",
   "id": "b98fa003",
   "metadata": {},
   "source": [
    "# extras "
   ]
  },
  {
   "cell_type": "code",
   "execution_count": 359,
   "id": "a7d4812c",
   "metadata": {},
   "outputs": [
    {
     "data": {
      "text/plain": [
       "0        [Alloy wheels, Catalytic Converter, Voice Cont...\n",
       "1        [Alloy wheels, Sport seats, Sport suspension, ...\n",
       "2                            [Alloy wheels, Voice Control]\n",
       "3               [Alloy wheels, Sport seats, Voice Control]\n",
       "4        [Alloy wheels, Sport package, Sport suspension...\n",
       "                               ...                        \n",
       "15914                         [Alloy wheels, Touch screen]\n",
       "15915          [Alloy wheels, Touch screen, Voice Control]\n",
       "15916                                       [Alloy wheels]\n",
       "15917                         [Alloy wheels, Touch screen]\n",
       "15918                         [Alloy wheels, Touch screen]\n",
       "Name: extras, Length: 15919, dtype: object"
      ]
     },
     "execution_count": 359,
     "metadata": {},
     "output_type": "execute_result"
    }
   ],
   "source": [
    "df[\"extras\"]"
   ]
  },
  {
   "cell_type": "code",
   "execution_count": 360,
   "id": "c1fc9f59",
   "metadata": {},
   "outputs": [
    {
     "data": {
      "text/plain": [
       "0         Alloy wheels, Catalytic Converter, Voice Control\n",
       "1        Alloy wheels, Sport seats, Sport suspension, V...\n",
       "2                              Alloy wheels, Voice Control\n",
       "3                 Alloy wheels, Sport seats, Voice Control\n",
       "4        Alloy wheels, Sport package, Sport suspension,...\n",
       "                               ...                        \n",
       "15914                           Alloy wheels, Touch screen\n",
       "15915            Alloy wheels, Touch screen, Voice Control\n",
       "15916                                         Alloy wheels\n",
       "15917                           Alloy wheels, Touch screen\n",
       "15918                           Alloy wheels, Touch screen\n",
       "Name: extras, Length: 15919, dtype: object"
      ]
     },
     "execution_count": 360,
     "metadata": {},
     "output_type": "execute_result"
    }
   ],
   "source": [
    "df[\"extras\"] = [\", \".join(item) if type(item) == list else item for item in df.extras]\n",
    "df[\"extras\"]"
   ]
  },
  {
   "cell_type": "markdown",
   "id": "ff487032",
   "metadata": {},
   "source": [
    "# safety_security"
   ]
  },
  {
   "cell_type": "code",
   "execution_count": 361,
   "id": "0f59157d",
   "metadata": {},
   "outputs": [
    {
     "data": {
      "text/plain": [
       "0        [ABS, Central door lock, Daytime running light...\n",
       "1        [ABS, Central door lock, Central door lock wit...\n",
       "2        [ABS, Central door lock, Daytime running light...\n",
       "3        [ABS, Alarm system, Central door lock with rem...\n",
       "4        [ABS, Central door lock, Driver-side airbag, E...\n",
       "                               ...                        \n",
       "15914    [ABS, Central door lock, Central door lock wit...\n",
       "15915    [ABS, Adaptive Cruise Control, Blind spot moni...\n",
       "15916    [ABS, Adaptive Cruise Control, Blind spot moni...\n",
       "15917    [ABS, Blind spot monitor, Driver-side airbag, ...\n",
       "15918    [ABS, Blind spot monitor, Daytime running ligh...\n",
       "Name: safety_security, Length: 15919, dtype: object"
      ]
     },
     "execution_count": 361,
     "metadata": {},
     "output_type": "execute_result"
    }
   ],
   "source": [
    "df[\"safety_security\"]"
   ]
  },
  {
   "cell_type": "code",
   "execution_count": 362,
   "id": "b820a7f6",
   "metadata": {},
   "outputs": [
    {
     "data": {
      "text/plain": [
       "0        ABS, Central door lock, Daytime running lights...\n",
       "1        ABS, Central door lock, Central door lock with...\n",
       "2        ABS, Central door lock, Daytime running lights...\n",
       "3        ABS, Alarm system, Central door lock with remo...\n",
       "4        ABS, Central door lock, Driver-side airbag, El...\n",
       "                               ...                        \n",
       "15914    ABS, Central door lock, Central door lock with...\n",
       "15915    ABS, Adaptive Cruise Control, Blind spot monit...\n",
       "15916    ABS, Adaptive Cruise Control, Blind spot monit...\n",
       "15917    ABS, Blind spot monitor, Driver-side airbag, E...\n",
       "15918    ABS, Blind spot monitor, Daytime running light...\n",
       "Name: safety_security, Length: 15919, dtype: object"
      ]
     },
     "execution_count": 362,
     "metadata": {},
     "output_type": "execute_result"
    }
   ],
   "source": [
    "df[\"safety_security\"] = [\", \".join(item) if type(item) == list else item for item in df.safety_security]\n",
    "df[\"safety_security\"]"
   ]
  },
  {
   "cell_type": "markdown",
   "id": "688d75b9",
   "metadata": {},
   "source": [
    "# country_version"
   ]
  },
  {
   "cell_type": "code",
   "execution_count": 363,
   "id": "ac150702",
   "metadata": {},
   "outputs": [
    {
     "data": {
      "text/plain": [
       "0                  NaN\n",
       "1                  NaN\n",
       "2                  NaN\n",
       "3                  NaN\n",
       "4        [\\nGermany\\n]\n",
       "             ...      \n",
       "15914              NaN\n",
       "15915    [\\nGermany\\n]\n",
       "15916    [\\nAustria\\n]\n",
       "15917              NaN\n",
       "15918    [\\nGermany\\n]\n",
       "Name: country_version, Length: 15919, dtype: object"
      ]
     },
     "execution_count": 363,
     "metadata": {},
     "output_type": "execute_result"
    }
   ],
   "source": [
    "df.country_version"
   ]
  },
  {
   "cell_type": "code",
   "execution_count": 364,
   "id": "529d14e6",
   "metadata": {},
   "outputs": [
    {
     "data": {
      "text/plain": [
       "0            NaN\n",
       "1            NaN\n",
       "2            NaN\n",
       "3            NaN\n",
       "4        Germany\n",
       "          ...   \n",
       "15914        NaN\n",
       "15915    Germany\n",
       "15916    Austria\n",
       "15917        NaN\n",
       "15918    Germany\n",
       "Name: country_version, Length: 15919, dtype: object"
      ]
     },
     "execution_count": 364,
     "metadata": {},
     "output_type": "execute_result"
    }
   ],
   "source": [
    "df.country_version = [ (re.sub(r'\\n','',str(i[0]))) if i is not np.nan else np.nan for i in df.country_version ]\n",
    "df.country_version"
   ]
  },
  {
   "cell_type": "code",
   "execution_count": 365,
   "id": "f0f477f2",
   "metadata": {},
   "outputs": [
    {
     "data": {
      "text/plain": [
       "NaN               8333\n",
       "Germany           4502\n",
       "Italy             1038\n",
       "European Union     507\n",
       "Netherlands        464\n",
       "Spain              325\n",
       "Belgium            314\n",
       "Austria            208\n",
       "Czech Republic      52\n",
       "Poland              49\n",
       "France              38\n",
       "Denmark             33\n",
       "Hungary             28\n",
       "Japan                8\n",
       "Slovakia             4\n",
       "Croatia              4\n",
       "Sweden               3\n",
       "Romania              2\n",
       "Bulgaria             2\n",
       "Luxembourg           1\n",
       "Switzerland          1\n",
       "Slovenia             1\n",
       "Egypt                1\n",
       "Serbia               1\n",
       "Name: country_version, dtype: int64"
      ]
     },
     "execution_count": 365,
     "metadata": {},
     "output_type": "execute_result"
    }
   ],
   "source": [
    "df.country_version.value_counts(dropna = False)"
   ]
  },
  {
   "cell_type": "code",
   "execution_count": 366,
   "id": "5a2f891a",
   "metadata": {},
   "outputs": [],
   "source": [
    "df.drop(\"country_version\", axis = 1 , inplace = True )"
   ]
  },
  {
   "cell_type": "code",
   "execution_count": 367,
   "id": "83ed4a4f",
   "metadata": {
    "scrolled": true
   },
   "outputs": [
    {
     "data": {
      "text/plain": [
       "(15919, 32)"
      ]
     },
     "execution_count": 367,
     "metadata": {},
     "output_type": "execute_result"
    }
   ],
   "source": [
    "df.shape"
   ]
  },
  {
   "cell_type": "code",
   "execution_count": 368,
   "id": "b2b93f86",
   "metadata": {
    "scrolled": false
   },
   "outputs": [
    {
     "data": {
      "text/html": [
       "<div>\n",
       "<style scoped>\n",
       "    .dataframe tbody tr th:only-of-type {\n",
       "        vertical-align: middle;\n",
       "    }\n",
       "\n",
       "    .dataframe tbody tr th {\n",
       "        vertical-align: top;\n",
       "    }\n",
       "\n",
       "    .dataframe thead th {\n",
       "        text-align: right;\n",
       "    }\n",
       "</style>\n",
       "<table border=\"1\" class=\"dataframe\">\n",
       "  <thead>\n",
       "    <tr style=\"text-align: right;\">\n",
       "      <th></th>\n",
       "      <th>0</th>\n",
       "      <th>1</th>\n",
       "      <th>2</th>\n",
       "    </tr>\n",
       "  </thead>\n",
       "  <tbody>\n",
       "    <tr>\n",
       "      <th>make_model</th>\n",
       "      <td>Audi A1</td>\n",
       "      <td>Audi A1</td>\n",
       "      <td>Audi A1</td>\n",
       "    </tr>\n",
       "    <tr>\n",
       "      <th>body_type</th>\n",
       "      <td>Sedans</td>\n",
       "      <td>Sedans</td>\n",
       "      <td>Sedans</td>\n",
       "    </tr>\n",
       "    <tr>\n",
       "      <th>price</th>\n",
       "      <td>15770</td>\n",
       "      <td>14500</td>\n",
       "      <td>14640</td>\n",
       "    </tr>\n",
       "    <tr>\n",
       "      <th>vat</th>\n",
       "      <td>VAT deductible</td>\n",
       "      <td>Price negotiable</td>\n",
       "      <td>VAT deductible</td>\n",
       "    </tr>\n",
       "    <tr>\n",
       "      <th>km</th>\n",
       "      <td>56013.000</td>\n",
       "      <td>80000.000</td>\n",
       "      <td>83450.000</td>\n",
       "    </tr>\n",
       "    <tr>\n",
       "      <th>hp</th>\n",
       "      <td>66.000</td>\n",
       "      <td>141.000</td>\n",
       "      <td>85.000</td>\n",
       "    </tr>\n",
       "    <tr>\n",
       "      <th>type</th>\n",
       "      <td>Used</td>\n",
       "      <td>Used</td>\n",
       "      <td>Used</td>\n",
       "    </tr>\n",
       "    <tr>\n",
       "      <th>previous_owners</th>\n",
       "      <td>2.000</td>\n",
       "      <td>NaN</td>\n",
       "      <td>1.000</td>\n",
       "    </tr>\n",
       "    <tr>\n",
       "      <th>inspection_new</th>\n",
       "      <td>Yes</td>\n",
       "      <td>NaN</td>\n",
       "      <td>NaN</td>\n",
       "    </tr>\n",
       "    <tr>\n",
       "      <th>warranty</th>\n",
       "      <td>NaN</td>\n",
       "      <td>NaN</td>\n",
       "      <td>NaN</td>\n",
       "    </tr>\n",
       "    <tr>\n",
       "      <th>paint_type</th>\n",
       "      <td>Metallic</td>\n",
       "      <td>NaN</td>\n",
       "      <td>Metallic</td>\n",
       "    </tr>\n",
       "    <tr>\n",
       "      <th>gearing_type</th>\n",
       "      <td>Automatic</td>\n",
       "      <td>Automatic</td>\n",
       "      <td>Automatic</td>\n",
       "    </tr>\n",
       "    <tr>\n",
       "      <th>displacement</th>\n",
       "      <td>1,422</td>\n",
       "      <td>1,798</td>\n",
       "      <td>1,598</td>\n",
       "    </tr>\n",
       "    <tr>\n",
       "      <th>cylinders</th>\n",
       "      <td>3.000</td>\n",
       "      <td>4.000</td>\n",
       "      <td>NaN</td>\n",
       "    </tr>\n",
       "    <tr>\n",
       "      <th>weight</th>\n",
       "      <td>1,220</td>\n",
       "      <td>1,255</td>\n",
       "      <td>NaN</td>\n",
       "    </tr>\n",
       "    <tr>\n",
       "      <th>drive_chain</th>\n",
       "      <td>front</td>\n",
       "      <td>front</td>\n",
       "      <td>front</td>\n",
       "    </tr>\n",
       "    <tr>\n",
       "      <th>fuel</th>\n",
       "      <td>Diesel</td>\n",
       "      <td>Gasoline</td>\n",
       "      <td>Diesel</td>\n",
       "    </tr>\n",
       "    <tr>\n",
       "      <th>co2_emission</th>\n",
       "      <td>9.000</td>\n",
       "      <td>1.000</td>\n",
       "      <td>9.000</td>\n",
       "    </tr>\n",
       "    <tr>\n",
       "      <th>emission_class</th>\n",
       "      <td>Euro 6</td>\n",
       "      <td>Euro 6</td>\n",
       "      <td>Euro 6</td>\n",
       "    </tr>\n",
       "    <tr>\n",
       "      <th>comfort_convenience</th>\n",
       "      <td>Air conditioning, Armrest, Automatic climate c...</td>\n",
       "      <td>Air conditioning, Automatic climate control, H...</td>\n",
       "      <td>Air conditioning, Cruise control, Electrical s...</td>\n",
       "    </tr>\n",
       "    <tr>\n",
       "      <th>entertainment_media</th>\n",
       "      <td>Bluetooth, Hands-free equipment, On-board comp...</td>\n",
       "      <td>Bluetooth, Hands-free equipment, On-board comp...</td>\n",
       "      <td>MP3, On-board computer</td>\n",
       "    </tr>\n",
       "    <tr>\n",
       "      <th>extras</th>\n",
       "      <td>Alloy wheels, Catalytic Converter, Voice Control</td>\n",
       "      <td>Alloy wheels, Sport seats, Sport suspension, V...</td>\n",
       "      <td>Alloy wheels, Voice Control</td>\n",
       "    </tr>\n",
       "    <tr>\n",
       "      <th>safety_security</th>\n",
       "      <td>ABS, Central door lock, Daytime running lights...</td>\n",
       "      <td>ABS, Central door lock, Central door lock with...</td>\n",
       "      <td>ABS, Central door lock, Daytime running lights...</td>\n",
       "    </tr>\n",
       "    <tr>\n",
       "      <th>gears</th>\n",
       "      <td>NaN</td>\n",
       "      <td>7</td>\n",
       "      <td>NaN</td>\n",
       "    </tr>\n",
       "    <tr>\n",
       "      <th>age</th>\n",
       "      <td>3.000</td>\n",
       "      <td>2.000</td>\n",
       "      <td>3.000</td>\n",
       "    </tr>\n",
       "    <tr>\n",
       "      <th>upholstery_type</th>\n",
       "      <td>Cloth</td>\n",
       "      <td>Cloth</td>\n",
       "      <td>Cloth</td>\n",
       "    </tr>\n",
       "    <tr>\n",
       "      <th>upholstery_color</th>\n",
       "      <td>Black</td>\n",
       "      <td>Grey</td>\n",
       "      <td>Black</td>\n",
       "    </tr>\n",
       "    <tr>\n",
       "      <th>Nr_of_Doors</th>\n",
       "      <td>5.000</td>\n",
       "      <td>3.000</td>\n",
       "      <td>4.000</td>\n",
       "    </tr>\n",
       "    <tr>\n",
       "      <th>Nr_of_Seats</th>\n",
       "      <td>5.000</td>\n",
       "      <td>4.000</td>\n",
       "      <td>4.000</td>\n",
       "    </tr>\n",
       "    <tr>\n",
       "      <th>cons_comb</th>\n",
       "      <td>3.800</td>\n",
       "      <td>5.600</td>\n",
       "      <td>3.800</td>\n",
       "    </tr>\n",
       "    <tr>\n",
       "      <th>cons_city</th>\n",
       "      <td>4.300</td>\n",
       "      <td>7.100</td>\n",
       "      <td>4.400</td>\n",
       "    </tr>\n",
       "    <tr>\n",
       "      <th>cons_country</th>\n",
       "      <td>3.500</td>\n",
       "      <td>4.700</td>\n",
       "      <td>3.400</td>\n",
       "    </tr>\n",
       "  </tbody>\n",
       "</table>\n",
       "</div>"
      ],
      "text/plain": [
       "                                                                     0  \\\n",
       "make_model                                                     Audi A1   \n",
       "body_type                                                       Sedans   \n",
       "price                                                            15770   \n",
       "vat                                                     VAT deductible   \n",
       "km                                                           56013.000   \n",
       "hp                                                              66.000   \n",
       "type                                                              Used   \n",
       "previous_owners                                                  2.000   \n",
       "inspection_new                                                     Yes   \n",
       "warranty                                                           NaN   \n",
       "paint_type                                                    Metallic   \n",
       "gearing_type                                                 Automatic   \n",
       "displacement                                                   1,422     \n",
       "cylinders                                                        3.000   \n",
       "weight                                                         1,220     \n",
       "drive_chain                                                      front   \n",
       "fuel                                                            Diesel   \n",
       "co2_emission                                                     9.000   \n",
       "emission_class                                                  Euro 6   \n",
       "comfort_convenience  Air conditioning, Armrest, Automatic climate c...   \n",
       "entertainment_media  Bluetooth, Hands-free equipment, On-board comp...   \n",
       "extras                Alloy wheels, Catalytic Converter, Voice Control   \n",
       "safety_security      ABS, Central door lock, Daytime running lights...   \n",
       "gears                                                              NaN   \n",
       "age                                                              3.000   \n",
       "upholstery_type                                                  Cloth   \n",
       "upholstery_color                                                 Black   \n",
       "Nr_of_Doors                                                      5.000   \n",
       "Nr_of_Seats                                                      5.000   \n",
       "cons_comb                                                        3.800   \n",
       "cons_city                                                        4.300   \n",
       "cons_country                                                     3.500   \n",
       "\n",
       "                                                                     1  \\\n",
       "make_model                                                     Audi A1   \n",
       "body_type                                                       Sedans   \n",
       "price                                                            14500   \n",
       "vat                                                   Price negotiable   \n",
       "km                                                           80000.000   \n",
       "hp                                                             141.000   \n",
       "type                                                              Used   \n",
       "previous_owners                                                    NaN   \n",
       "inspection_new                                                     NaN   \n",
       "warranty                                                           NaN   \n",
       "paint_type                                                         NaN   \n",
       "gearing_type                                                 Automatic   \n",
       "displacement                                                   1,798     \n",
       "cylinders                                                        4.000   \n",
       "weight                                                         1,255     \n",
       "drive_chain                                                      front   \n",
       "fuel                                                          Gasoline   \n",
       "co2_emission                                                     1.000   \n",
       "emission_class                                                  Euro 6   \n",
       "comfort_convenience  Air conditioning, Automatic climate control, H...   \n",
       "entertainment_media  Bluetooth, Hands-free equipment, On-board comp...   \n",
       "extras               Alloy wheels, Sport seats, Sport suspension, V...   \n",
       "safety_security      ABS, Central door lock, Central door lock with...   \n",
       "gears                                                                7   \n",
       "age                                                              2.000   \n",
       "upholstery_type                                                  Cloth   \n",
       "upholstery_color                                                  Grey   \n",
       "Nr_of_Doors                                                      3.000   \n",
       "Nr_of_Seats                                                      4.000   \n",
       "cons_comb                                                        5.600   \n",
       "cons_city                                                        7.100   \n",
       "cons_country                                                     4.700   \n",
       "\n",
       "                                                                     2  \n",
       "make_model                                                     Audi A1  \n",
       "body_type                                                       Sedans  \n",
       "price                                                            14640  \n",
       "vat                                                     VAT deductible  \n",
       "km                                                           83450.000  \n",
       "hp                                                              85.000  \n",
       "type                                                              Used  \n",
       "previous_owners                                                  1.000  \n",
       "inspection_new                                                     NaN  \n",
       "warranty                                                           NaN  \n",
       "paint_type                                                    Metallic  \n",
       "gearing_type                                                 Automatic  \n",
       "displacement                                                   1,598    \n",
       "cylinders                                                          NaN  \n",
       "weight                                                             NaN  \n",
       "drive_chain                                                      front  \n",
       "fuel                                                            Diesel  \n",
       "co2_emission                                                     9.000  \n",
       "emission_class                                                  Euro 6  \n",
       "comfort_convenience  Air conditioning, Cruise control, Electrical s...  \n",
       "entertainment_media                             MP3, On-board computer  \n",
       "extras                                     Alloy wheels, Voice Control  \n",
       "safety_security      ABS, Central door lock, Daytime running lights...  \n",
       "gears                                                              NaN  \n",
       "age                                                              3.000  \n",
       "upholstery_type                                                  Cloth  \n",
       "upholstery_color                                                 Black  \n",
       "Nr_of_Doors                                                      4.000  \n",
       "Nr_of_Seats                                                      4.000  \n",
       "cons_comb                                                        3.800  \n",
       "cons_city                                                        4.400  \n",
       "cons_country                                                     3.400  "
      ]
     },
     "execution_count": 368,
     "metadata": {},
     "output_type": "execute_result"
    }
   ],
   "source": [
    "df.head(3).T"
   ]
  },
  {
   "cell_type": "code",
   "execution_count": 370,
   "id": "16ac16a7",
   "metadata": {},
   "outputs": [],
   "source": [
    "df.to_csv(\"DAwPY_Capstone_Project_Data_Cleaning(Auto_Scout24).csv\", index=False)"
   ]
  }
 ],
 "metadata": {
  "kernelspec": {
   "display_name": "Python 3 (ipykernel)",
   "language": "python",
   "name": "python3"
  },
  "language_info": {
   "codemirror_mode": {
    "name": "ipython",
    "version": 3
   },
   "file_extension": ".py",
   "mimetype": "text/x-python",
   "name": "python",
   "nbconvert_exporter": "python",
   "pygments_lexer": "ipython3",
   "version": "3.9.13"
  }
 },
 "nbformat": 4,
 "nbformat_minor": 5
}
